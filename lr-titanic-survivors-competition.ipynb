{
 "cells": [
  {
   "cell_type": "code",
   "execution_count": 1,
   "id": "0a91e4f7",
   "metadata": {
    "_cell_guid": "b1076dfc-b9ad-4769-8c92-a6c4dae69d19",
    "_uuid": "8f2839f25d086af736a60e9eeb907d3b93b6e0e5",
    "execution": {
     "iopub.execute_input": "2023-01-06T21:28:20.576282Z",
     "iopub.status.busy": "2023-01-06T21:28:20.575792Z",
     "iopub.status.idle": "2023-01-06T21:28:20.590906Z",
     "shell.execute_reply": "2023-01-06T21:28:20.589624Z"
    },
    "papermill": {
     "duration": 0.044308,
     "end_time": "2023-01-06T21:28:20.593739",
     "exception": false,
     "start_time": "2023-01-06T21:28:20.549431",
     "status": "completed"
    },
    "tags": []
   },
   "outputs": [
    {
     "name": "stdout",
     "output_type": "stream",
     "text": [
      "/kaggle/input/titanic/train.csv\n",
      "/kaggle/input/titanic/test.csv\n",
      "/kaggle/input/titanic/gender_submission.csv\n"
     ]
    }
   ],
   "source": [
    "# This Python 3 environment comes with many helpful analytics libraries installed\n",
    "# It is defined by the kaggle/python Docker image: https://github.com/kaggle/docker-python\n",
    "# For example, here's several helpful packages to load\n",
    "\n",
    "import numpy as np # linear algebra\n",
    "import pandas as pd # data processing, CSV file I/O (e.g. pd.read_csv)\n",
    "\n",
    "# Input data files are available in the read-only \"../input/\" directory\n",
    "# For example, running this (by clicking run or pressing Shift+Enter) will list all files under the input directory\n",
    "\n",
    "import os\n",
    "for dirname, _, filenames in os.walk('/kaggle/input'):\n",
    "    for filename in filenames:\n",
    "        print(os.path.join(dirname, filename))\n",
    "\n",
    "# You can write up to 20GB to the current directory (/kaggle/working/) that gets preserved as output when you create a version using \"Save & Run All\" \n",
    "# You can also write temporary files to /kaggle/temp/, but they won't be saved outside of the current session"
   ]
  },
  {
   "cell_type": "markdown",
   "id": "ad0031fb",
   "metadata": {
    "papermill": {
     "duration": 0.018611,
     "end_time": "2023-01-06T21:28:20.631942",
     "exception": false,
     "start_time": "2023-01-06T21:28:20.613331",
     "status": "completed"
    },
    "tags": []
   },
   "source": [
    "# Importing Libraries"
   ]
  },
  {
   "cell_type": "code",
   "execution_count": 2,
   "id": "0bd969a4",
   "metadata": {
    "execution": {
     "iopub.execute_input": "2023-01-06T21:28:20.674227Z",
     "iopub.status.busy": "2023-01-06T21:28:20.673722Z",
     "iopub.status.idle": "2023-01-06T21:28:22.404150Z",
     "shell.execute_reply": "2023-01-06T21:28:22.402407Z"
    },
    "papermill": {
     "duration": 1.756037,
     "end_time": "2023-01-06T21:28:22.407693",
     "exception": false,
     "start_time": "2023-01-06T21:28:20.651656",
     "status": "completed"
    },
    "tags": []
   },
   "outputs": [],
   "source": [
    "import pandas as pd\n",
    "import numpy as np\n",
    "import seaborn as sns\n",
    "from sklearn.linear_model import LogisticRegression\n",
    "from sklearn.metrics import confusion_matrix, accuracy_score, classification_report"
   ]
  },
  {
   "cell_type": "markdown",
   "id": "f2b0392e",
   "metadata": {
    "papermill": {
     "duration": 0.022468,
     "end_time": "2023-01-06T21:28:22.452235",
     "exception": false,
     "start_time": "2023-01-06T21:28:22.429767",
     "status": "completed"
    },
    "tags": []
   },
   "source": [
    "# Loading the DataFrames"
   ]
  },
  {
   "cell_type": "markdown",
   "id": "503b27f9",
   "metadata": {
    "papermill": {
     "duration": 0.020394,
     "end_time": "2023-01-06T21:28:22.494863",
     "exception": false,
     "start_time": "2023-01-06T21:28:22.474469",
     "status": "completed"
    },
    "tags": []
   },
   "source": [
    "### Reading the file and converting to a DataFrame"
   ]
  },
  {
   "cell_type": "code",
   "execution_count": 3,
   "id": "25db6126",
   "metadata": {
    "execution": {
     "iopub.execute_input": "2023-01-06T21:28:22.538413Z",
     "iopub.status.busy": "2023-01-06T21:28:22.537910Z",
     "iopub.status.idle": "2023-01-06T21:28:22.580010Z",
     "shell.execute_reply": "2023-01-06T21:28:22.578509Z"
    },
    "papermill": {
     "duration": 0.06761,
     "end_time": "2023-01-06T21:28:22.583323",
     "exception": false,
     "start_time": "2023-01-06T21:28:22.515713",
     "status": "completed"
    },
    "tags": []
   },
   "outputs": [],
   "source": [
    "df_train = pd.read_csv('/kaggle/input/titanic/train.csv')\n",
    "df_test = pd.read_csv('/kaggle/input/titanic/test.csv')\n",
    "submission = pd.read_csv(\"/kaggle/input/titanic/gender_submission.csv\")"
   ]
  },
  {
   "cell_type": "markdown",
   "id": "05c784da",
   "metadata": {
    "papermill": {
     "duration": 0.01914,
     "end_time": "2023-01-06T21:28:22.622931",
     "exception": false,
     "start_time": "2023-01-06T21:28:22.603791",
     "status": "completed"
    },
    "tags": []
   },
   "source": [
    "# # Transforming the Training DataFrame"
   ]
  },
  {
   "cell_type": "markdown",
   "id": "ff73b1b3",
   "metadata": {
    "papermill": {
     "duration": 0.019388,
     "end_time": "2023-01-06T21:28:22.662079",
     "exception": false,
     "start_time": "2023-01-06T21:28:22.642691",
     "status": "completed"
    },
    "tags": []
   },
   "source": [
    "### Checking the Number of Columns with NULL values"
   ]
  },
  {
   "cell_type": "code",
   "execution_count": 4,
   "id": "f573a54f",
   "metadata": {
    "execution": {
     "iopub.execute_input": "2023-01-06T21:28:22.703986Z",
     "iopub.status.busy": "2023-01-06T21:28:22.703054Z",
     "iopub.status.idle": "2023-01-06T21:28:23.187463Z",
     "shell.execute_reply": "2023-01-06T21:28:23.185929Z"
    },
    "papermill": {
     "duration": 0.508609,
     "end_time": "2023-01-06T21:28:23.190190",
     "exception": false,
     "start_time": "2023-01-06T21:28:22.681581",
     "status": "completed"
    },
    "tags": []
   },
   "outputs": [
    {
     "data": {
      "text/plain": [
       "<AxesSubplot:>"
      ]
     },
     "execution_count": 4,
     "metadata": {},
     "output_type": "execute_result"
    },
    {
     "data": {
      "image/png": "[encoded data removed]",
      "text/plain": [
       "<Figure size 432x288 with 2 Axes>"
      ]
     },
     "metadata": {
      "needs_background": "light"
     },
     "output_type": "display_data"
    }
   ],
   "source": [
    "sns.heatmap(df_train.isna())"
   ]
  },
  {
   "cell_type": "markdown",
   "id": "60866623",
   "metadata": {
    "papermill": {
     "duration": 0.019213,
     "end_time": "2023-01-06T21:28:23.229036",
     "exception": false,
     "start_time": "2023-01-06T21:28:23.209823",
     "status": "completed"
    },
    "tags": []
   },
   "source": [
    "### Removing the NULL values from 'Age' column"
   ]
  },
  {
   "cell_type": "code",
   "execution_count": 5,
   "id": "9a24fbc7",
   "metadata": {
    "execution": {
     "iopub.execute_input": "2023-01-06T21:28:23.272129Z",
     "iopub.status.busy": "2023-01-06T21:28:23.271628Z",
     "iopub.status.idle": "2023-01-06T21:28:23.284263Z",
     "shell.execute_reply": "2023-01-06T21:28:23.282415Z"
    },
    "papermill": {
     "duration": 0.037703,
     "end_time": "2023-01-06T21:28:23.286915",
     "exception": false,
     "start_time": "2023-01-06T21:28:23.249212",
     "status": "completed"
    },
    "tags": []
   },
   "outputs": [
    {
     "name": "stdout",
     "output_type": "stream",
     "text": [
      "The percentage of NULLs in Training DataFrame Age column is: 19.87 %\n"
     ]
    }
   ],
   "source": [
    "print('The percentage of NULLs in Training DataFrame Age column is: {:.2f} %'.format((df_train['Age'].isna().sum()/len(df_train['Age']))*100))"
   ]
  },
  {
   "cell_type": "code",
   "execution_count": 6,
   "id": "0a797b39",
   "metadata": {
    "execution": {
     "iopub.execute_input": "2023-01-06T21:28:23.330297Z",
     "iopub.status.busy": "2023-01-06T21:28:23.328664Z",
     "iopub.status.idle": "2023-01-06T21:28:23.357004Z",
     "shell.execute_reply": "2023-01-06T21:28:23.355422Z"
    },
    "papermill": {
     "duration": 0.053227,
     "end_time": "2023-01-06T21:28:23.360144",
     "exception": false,
     "start_time": "2023-01-06T21:28:23.306917",
     "status": "completed"
    },
    "tags": []
   },
   "outputs": [
    {
     "data": {
      "text/html": [
       "<div>\n",
       "<style scoped>\n",
       "    .dataframe tbody tr th:only-of-type {\n",
       "        vertical-align: middle;\n",
       "    }\n",
       "\n",
       "    .dataframe tbody tr th {\n",
       "        vertical-align: top;\n",
       "    }\n",
       "\n",
       "    .dataframe thead th {\n",
       "        text-align: right;\n",
       "    }\n",
       "</style>\n",
       "<table border=\"1\" class=\"dataframe\">\n",
       "  <thead>\n",
       "    <tr style=\"text-align: right;\">\n",
       "      <th></th>\n",
       "      <th>Correlation</th>\n",
       "    </tr>\n",
       "  </thead>\n",
       "  <tbody>\n",
       "    <tr>\n",
       "      <th>Pclass</th>\n",
       "      <td>-0.369226</td>\n",
       "    </tr>\n",
       "    <tr>\n",
       "      <th>SibSp</th>\n",
       "      <td>-0.308247</td>\n",
       "    </tr>\n",
       "    <tr>\n",
       "      <th>Parch</th>\n",
       "      <td>-0.189119</td>\n",
       "    </tr>\n",
       "    <tr>\n",
       "      <th>Survived</th>\n",
       "      <td>-0.077221</td>\n",
       "    </tr>\n",
       "    <tr>\n",
       "      <th>PassengerId</th>\n",
       "      <td>0.036847</td>\n",
       "    </tr>\n",
       "    <tr>\n",
       "      <th>Fare</th>\n",
       "      <td>0.096067</td>\n",
       "    </tr>\n",
       "  </tbody>\n",
       "</table>\n",
       "</div>"
      ],
      "text/plain": [
       "             Correlation\n",
       "Pclass         -0.369226\n",
       "SibSp          -0.308247\n",
       "Parch          -0.189119\n",
       "Survived       -0.077221\n",
       "PassengerId     0.036847\n",
       "Fare            0.096067"
      ]
     },
     "execution_count": 6,
     "metadata": {},
     "output_type": "execute_result"
    }
   ],
   "source": [
    "train_age_corr = df_train.corr()['Age'].sort_values()\n",
    "train_age_corr.drop('Age', inplace=True)\n",
    "df_train_corr = pd.DataFrame(train_age_corr.values, columns=['Correlation'], index=train_age_corr.keys())\n",
    "df_train_corr.sort_values('Correlation')"
   ]
  },
  {
   "cell_type": "code",
   "execution_count": 7,
   "id": "b2c3b680",
   "metadata": {
    "execution": {
     "iopub.execute_input": "2023-01-06T21:28:23.401452Z",
     "iopub.status.busy": "2023-01-06T21:28:23.401047Z",
     "iopub.status.idle": "2023-01-06T21:28:23.414579Z",
     "shell.execute_reply": "2023-01-06T21:28:23.413116Z"
    },
    "papermill": {
     "duration": 0.037585,
     "end_time": "2023-01-06T21:28:23.417602",
     "exception": false,
     "start_time": "2023-01-06T21:28:23.380017",
     "status": "completed"
    },
    "tags": []
   },
   "outputs": [
    {
     "data": {
      "text/plain": [
       "Pclass\n",
       "1    37.0\n",
       "2    29.0\n",
       "3    24.0\n",
       "Name: Age, dtype: float64"
      ]
     },
     "execution_count": 7,
     "metadata": {},
     "output_type": "execute_result"
    }
   ],
   "source": [
    "df_train.groupby('Pclass')['Age'].median()"
   ]
  },
  {
   "cell_type": "code",
   "execution_count": 8,
   "id": "c07e67e8",
   "metadata": {
    "execution": {
     "iopub.execute_input": "2023-01-06T21:28:23.462252Z",
     "iopub.status.busy": "2023-01-06T21:28:23.461706Z",
     "iopub.status.idle": "2023-01-06T21:28:23.477988Z",
     "shell.execute_reply": "2023-01-06T21:28:23.476770Z"
    },
    "papermill": {
     "duration": 0.042767,
     "end_time": "2023-01-06T21:28:23.481064",
     "exception": false,
     "start_time": "2023-01-06T21:28:23.438297",
     "status": "completed"
    },
    "tags": []
   },
   "outputs": [],
   "source": [
    "df_train['Age'] = df_train.groupby('Pclass')['Age'].transform(lambda row : row.fillna(row.median()))"
   ]
  },
  {
   "cell_type": "code",
   "execution_count": 9,
   "id": "2f4cf769",
   "metadata": {
    "execution": {
     "iopub.execute_input": "2023-01-06T21:28:23.522547Z",
     "iopub.status.busy": "2023-01-06T21:28:23.522094Z",
     "iopub.status.idle": "2023-01-06T21:28:23.992019Z",
     "shell.execute_reply": "2023-01-06T21:28:23.990302Z"
    },
    "papermill": {
     "duration": 0.494345,
     "end_time": "2023-01-06T21:28:23.995240",
     "exception": false,
     "start_time": "2023-01-06T21:28:23.500895",
     "status": "completed"
    },
    "tags": []
   },
   "outputs": [
    {
     "data": {
      "text/plain": [
       "<AxesSubplot:>"
      ]
     },
     "execution_count": 9,
     "metadata": {},
     "output_type": "execute_result"
    },
    {
     "data": {
      "image/png": "[encoded data removed]",
      "text/plain": [
       "<Figure size 432x288 with 2 Axes>"
      ]
     },
     "metadata": {
      "needs_background": "light"
     },
     "output_type": "display_data"
    }
   ],
   "source": [
    "sns.heatmap(df_train.isna())"
   ]
  },
  {
   "cell_type": "markdown",
   "id": "f2d64b4f",
   "metadata": {
    "papermill": {
     "duration": 0.022559,
     "end_time": "2023-01-06T21:28:24.041847",
     "exception": false,
     "start_time": "2023-01-06T21:28:24.019288",
     "status": "completed"
    },
    "tags": []
   },
   "source": [
    "### Removing the NULL values from 'Cabin' column"
   ]
  },
  {
   "cell_type": "code",
   "execution_count": 10,
   "id": "60055525",
   "metadata": {
    "execution": {
     "iopub.execute_input": "2023-01-06T21:28:24.087828Z",
     "iopub.status.busy": "2023-01-06T21:28:24.087073Z",
     "iopub.status.idle": "2023-01-06T21:28:24.096313Z",
     "shell.execute_reply": "2023-01-06T21:28:24.094627Z"
    },
    "papermill": {
     "duration": 0.035171,
     "end_time": "2023-01-06T21:28:24.099163",
     "exception": false,
     "start_time": "2023-01-06T21:28:24.063992",
     "status": "completed"
    },
    "tags": []
   },
   "outputs": [
    {
     "name": "stdout",
     "output_type": "stream",
     "text": [
      "The percentage of NULLs in Training DataFrame Cabin column is: 77.10 %\n"
     ]
    }
   ],
   "source": [
    "print('The percentage of NULLs in Training DataFrame Cabin column is: {:.2f} %'.format((df_train['Cabin'].isna().sum()/len(df_train['Cabin']))*100))"
   ]
  },
  {
   "cell_type": "code",
   "execution_count": 11,
   "id": "f1df6557",
   "metadata": {
    "execution": {
     "iopub.execute_input": "2023-01-06T21:28:24.143041Z",
     "iopub.status.busy": "2023-01-06T21:28:24.142535Z",
     "iopub.status.idle": "2023-01-06T21:28:24.149530Z",
     "shell.execute_reply": "2023-01-06T21:28:24.148503Z"
    },
    "papermill": {
     "duration": 0.031836,
     "end_time": "2023-01-06T21:28:24.152005",
     "exception": false,
     "start_time": "2023-01-06T21:28:24.120169",
     "status": "completed"
    },
    "tags": []
   },
   "outputs": [],
   "source": [
    "df_train.drop('Cabin',axis=1,inplace=True)"
   ]
  },
  {
   "cell_type": "code",
   "execution_count": 12,
   "id": "d219aa17",
   "metadata": {
    "execution": {
     "iopub.execute_input": "2023-01-06T21:28:24.196862Z",
     "iopub.status.busy": "2023-01-06T21:28:24.195482Z",
     "iopub.status.idle": "2023-01-06T21:28:24.206803Z",
     "shell.execute_reply": "2023-01-06T21:28:24.205461Z"
    },
    "papermill": {
     "duration": 0.036086,
     "end_time": "2023-01-06T21:28:24.209483",
     "exception": false,
     "start_time": "2023-01-06T21:28:24.173397",
     "status": "completed"
    },
    "tags": []
   },
   "outputs": [
    {
     "data": {
      "text/plain": [
       "PassengerId    0\n",
       "Survived       0\n",
       "Pclass         0\n",
       "Name           0\n",
       "Sex            0\n",
       "Age            0\n",
       "SibSp          0\n",
       "Parch          0\n",
       "Ticket         0\n",
       "Fare           0\n",
       "Embarked       2\n",
       "dtype: int64"
      ]
     },
     "execution_count": 12,
     "metadata": {},
     "output_type": "execute_result"
    }
   ],
   "source": [
    "df_train.isna().sum()"
   ]
  },
  {
   "cell_type": "markdown",
   "id": "28af1192",
   "metadata": {
    "papermill": {
     "duration": 0.021889,
     "end_time": "2023-01-06T21:28:24.253888",
     "exception": false,
     "start_time": "2023-01-06T21:28:24.231999",
     "status": "completed"
    },
    "tags": []
   },
   "source": [
    "### Removing the NULL values from 'Embarked' column"
   ]
  },
  {
   "cell_type": "code",
   "execution_count": 13,
   "id": "f43416ba",
   "metadata": {
    "execution": {
     "iopub.execute_input": "2023-01-06T21:28:24.300749Z",
     "iopub.status.busy": "2023-01-06T21:28:24.300326Z",
     "iopub.status.idle": "2023-01-06T21:28:24.309653Z",
     "shell.execute_reply": "2023-01-06T21:28:24.308198Z"
    },
    "papermill": {
     "duration": 0.034876,
     "end_time": "2023-01-06T21:28:24.312062",
     "exception": false,
     "start_time": "2023-01-06T21:28:24.277186",
     "status": "completed"
    },
    "tags": []
   },
   "outputs": [
    {
     "name": "stdout",
     "output_type": "stream",
     "text": [
      "The percentage of NULLs in Training DataFrame Embarked column is: 0.22 %\n"
     ]
    }
   ],
   "source": [
    "print('The percentage of NULLs in Training DataFrame Embarked column is: {:.2f} %'.format((df_train['Embarked'].isna().sum()/len(df_train['Embarked']))*100))"
   ]
  },
  {
   "cell_type": "code",
   "execution_count": 14,
   "id": "92e5a4a0",
   "metadata": {
    "execution": {
     "iopub.execute_input": "2023-01-06T21:28:24.357173Z",
     "iopub.status.busy": "2023-01-06T21:28:24.356570Z",
     "iopub.status.idle": "2023-01-06T21:28:24.369545Z",
     "shell.execute_reply": "2023-01-06T21:28:24.367971Z"
    },
    "papermill": {
     "duration": 0.03861,
     "end_time": "2023-01-06T21:28:24.372612",
     "exception": false,
     "start_time": "2023-01-06T21:28:24.334002",
     "status": "completed"
    },
    "tags": []
   },
   "outputs": [
    {
     "data": {
      "text/plain": [
       "S    644\n",
       "C    168\n",
       "Q     77\n",
       "Name: Embarked, dtype: int64"
      ]
     },
     "execution_count": 14,
     "metadata": {},
     "output_type": "execute_result"
    }
   ],
   "source": [
    "df_train['Embarked'].value_counts()"
   ]
  },
  {
   "cell_type": "code",
   "execution_count": 15,
   "id": "34073778",
   "metadata": {
    "execution": {
     "iopub.execute_input": "2023-01-06T21:28:24.421942Z",
     "iopub.status.busy": "2023-01-06T21:28:24.421426Z",
     "iopub.status.idle": "2023-01-06T21:28:24.428856Z",
     "shell.execute_reply": "2023-01-06T21:28:24.427614Z"
    },
    "papermill": {
     "duration": 0.035053,
     "end_time": "2023-01-06T21:28:24.431372",
     "exception": false,
     "start_time": "2023-01-06T21:28:24.396319",
     "status": "completed"
    },
    "tags": []
   },
   "outputs": [],
   "source": [
    "df_train.fillna('S',axis=1,inplace=True)"
   ]
  },
  {
   "cell_type": "code",
   "execution_count": 16,
   "id": "2a1e72fa",
   "metadata": {
    "execution": {
     "iopub.execute_input": "2023-01-06T21:28:24.482699Z",
     "iopub.status.busy": "2023-01-06T21:28:24.481983Z",
     "iopub.status.idle": "2023-01-06T21:28:24.492712Z",
     "shell.execute_reply": "2023-01-06T21:28:24.491476Z"
    },
    "papermill": {
     "duration": 0.039881,
     "end_time": "2023-01-06T21:28:24.495697",
     "exception": false,
     "start_time": "2023-01-06T21:28:24.455816",
     "status": "completed"
    },
    "tags": []
   },
   "outputs": [
    {
     "data": {
      "text/plain": [
       "PassengerId    0\n",
       "Survived       0\n",
       "Pclass         0\n",
       "Name           0\n",
       "Sex            0\n",
       "Age            0\n",
       "SibSp          0\n",
       "Parch          0\n",
       "Ticket         0\n",
       "Fare           0\n",
       "Embarked       0\n",
       "dtype: int64"
      ]
     },
     "execution_count": 16,
     "metadata": {},
     "output_type": "execute_result"
    }
   ],
   "source": [
    "df_train.isna().sum()"
   ]
  },
  {
   "cell_type": "markdown",
   "id": "ed0c0d96",
   "metadata": {
    "papermill": {
     "duration": 0.023597,
     "end_time": "2023-01-06T21:28:24.542546",
     "exception": false,
     "start_time": "2023-01-06T21:28:24.518949",
     "status": "completed"
    },
    "tags": []
   },
   "source": [
    "### Converting non-numerical columns to numerical"
   ]
  },
  {
   "cell_type": "code",
   "execution_count": 17,
   "id": "48eb9b67",
   "metadata": {
    "execution": {
     "iopub.execute_input": "2023-01-06T21:28:24.589178Z",
     "iopub.status.busy": "2023-01-06T21:28:24.588744Z",
     "iopub.status.idle": "2023-01-06T21:28:24.598869Z",
     "shell.execute_reply": "2023-01-06T21:28:24.597404Z"
    },
    "papermill": {
     "duration": 0.036506,
     "end_time": "2023-01-06T21:28:24.601685",
     "exception": false,
     "start_time": "2023-01-06T21:28:24.565179",
     "status": "completed"
    },
    "tags": []
   },
   "outputs": [
    {
     "data": {
      "text/plain": [
       "PassengerId      int64\n",
       "Survived         int64\n",
       "Pclass           int64\n",
       "Name            object\n",
       "Sex             object\n",
       "Age            float64\n",
       "SibSp            int64\n",
       "Parch            int64\n",
       "Ticket          object\n",
       "Fare           float64\n",
       "Embarked        object\n",
       "dtype: object"
      ]
     },
     "execution_count": 17,
     "metadata": {},
     "output_type": "execute_result"
    }
   ],
   "source": [
    "df_train.dtypes"
   ]
  },
  {
   "cell_type": "code",
   "execution_count": 18,
   "id": "b71a72b5",
   "metadata": {
    "execution": {
     "iopub.execute_input": "2023-01-06T21:28:24.648031Z",
     "iopub.status.busy": "2023-01-06T21:28:24.647475Z",
     "iopub.status.idle": "2023-01-06T21:28:24.676279Z",
     "shell.execute_reply": "2023-01-06T21:28:24.674956Z"
    },
    "papermill": {
     "duration": 0.055489,
     "end_time": "2023-01-06T21:28:24.679121",
     "exception": false,
     "start_time": "2023-01-06T21:28:24.623632",
     "status": "completed"
    },
    "tags": []
   },
   "outputs": [
    {
     "data": {
      "text/html": [
       "<div>\n",
       "<style scoped>\n",
       "    .dataframe tbody tr th:only-of-type {\n",
       "        vertical-align: middle;\n",
       "    }\n",
       "\n",
       "    .dataframe tbody tr th {\n",
       "        vertical-align: top;\n",
       "    }\n",
       "\n",
       "    .dataframe thead th {\n",
       "        text-align: right;\n",
       "    }\n",
       "</style>\n",
       "<table border=\"1\" class=\"dataframe\">\n",
       "  <thead>\n",
       "    <tr style=\"text-align: right;\">\n",
       "      <th></th>\n",
       "      <th>PassengerId</th>\n",
       "      <th>Survived</th>\n",
       "      <th>Pclass</th>\n",
       "      <th>Name</th>\n",
       "      <th>Sex</th>\n",
       "      <th>Age</th>\n",
       "      <th>SibSp</th>\n",
       "      <th>Parch</th>\n",
       "      <th>Ticket</th>\n",
       "      <th>Fare</th>\n",
       "      <th>Embarked</th>\n",
       "    </tr>\n",
       "  </thead>\n",
       "  <tbody>\n",
       "    <tr>\n",
       "      <th>0</th>\n",
       "      <td>1</td>\n",
       "      <td>0</td>\n",
       "      <td>3</td>\n",
       "      <td>Braund, Mr. Owen Harris</td>\n",
       "      <td>male</td>\n",
       "      <td>22.0</td>\n",
       "      <td>1</td>\n",
       "      <td>0</td>\n",
       "      <td>A/5 21171</td>\n",
       "      <td>7.2500</td>\n",
       "      <td>S</td>\n",
       "    </tr>\n",
       "    <tr>\n",
       "      <th>1</th>\n",
       "      <td>2</td>\n",
       "      <td>1</td>\n",
       "      <td>1</td>\n",
       "      <td>Cumings, Mrs. John Bradley (Florence Briggs Th...</td>\n",
       "      <td>female</td>\n",
       "      <td>38.0</td>\n",
       "      <td>1</td>\n",
       "      <td>0</td>\n",
       "      <td>PC 17599</td>\n",
       "      <td>71.2833</td>\n",
       "      <td>C</td>\n",
       "    </tr>\n",
       "    <tr>\n",
       "      <th>2</th>\n",
       "      <td>3</td>\n",
       "      <td>1</td>\n",
       "      <td>3</td>\n",
       "      <td>Heikkinen, Miss. Laina</td>\n",
       "      <td>female</td>\n",
       "      <td>26.0</td>\n",
       "      <td>0</td>\n",
       "      <td>0</td>\n",
       "      <td>STON/O2. 3101282</td>\n",
       "      <td>7.9250</td>\n",
       "      <td>S</td>\n",
       "    </tr>\n",
       "    <tr>\n",
       "      <th>3</th>\n",
       "      <td>4</td>\n",
       "      <td>1</td>\n",
       "      <td>1</td>\n",
       "      <td>Futrelle, Mrs. Jacques Heath (Lily May Peel)</td>\n",
       "      <td>female</td>\n",
       "      <td>35.0</td>\n",
       "      <td>1</td>\n",
       "      <td>0</td>\n",
       "      <td>113803</td>\n",
       "      <td>53.1000</td>\n",
       "      <td>S</td>\n",
       "    </tr>\n",
       "    <tr>\n",
       "      <th>4</th>\n",
       "      <td>5</td>\n",
       "      <td>0</td>\n",
       "      <td>3</td>\n",
       "      <td>Allen, Mr. William Henry</td>\n",
       "      <td>male</td>\n",
       "      <td>35.0</td>\n",
       "      <td>0</td>\n",
       "      <td>0</td>\n",
       "      <td>373450</td>\n",
       "      <td>8.0500</td>\n",
       "      <td>S</td>\n",
       "    </tr>\n",
       "    <tr>\n",
       "      <th>...</th>\n",
       "      <td>...</td>\n",
       "      <td>...</td>\n",
       "      <td>...</td>\n",
       "      <td>...</td>\n",
       "      <td>...</td>\n",
       "      <td>...</td>\n",
       "      <td>...</td>\n",
       "      <td>...</td>\n",
       "      <td>...</td>\n",
       "      <td>...</td>\n",
       "      <td>...</td>\n",
       "    </tr>\n",
       "    <tr>\n",
       "      <th>886</th>\n",
       "      <td>887</td>\n",
       "      <td>0</td>\n",
       "      <td>2</td>\n",
       "      <td>Montvila, Rev. Juozas</td>\n",
       "      <td>male</td>\n",
       "      <td>27.0</td>\n",
       "      <td>0</td>\n",
       "      <td>0</td>\n",
       "      <td>211536</td>\n",
       "      <td>13.0000</td>\n",
       "      <td>S</td>\n",
       "    </tr>\n",
       "    <tr>\n",
       "      <th>887</th>\n",
       "      <td>888</td>\n",
       "      <td>1</td>\n",
       "      <td>1</td>\n",
       "      <td>Graham, Miss. Margaret Edith</td>\n",
       "      <td>female</td>\n",
       "      <td>19.0</td>\n",
       "      <td>0</td>\n",
       "      <td>0</td>\n",
       "      <td>112053</td>\n",
       "      <td>30.0000</td>\n",
       "      <td>S</td>\n",
       "    </tr>\n",
       "    <tr>\n",
       "      <th>888</th>\n",
       "      <td>889</td>\n",
       "      <td>0</td>\n",
       "      <td>3</td>\n",
       "      <td>Johnston, Miss. Catherine Helen \"Carrie\"</td>\n",
       "      <td>female</td>\n",
       "      <td>24.0</td>\n",
       "      <td>1</td>\n",
       "      <td>2</td>\n",
       "      <td>W./C. 6607</td>\n",
       "      <td>23.4500</td>\n",
       "      <td>S</td>\n",
       "    </tr>\n",
       "    <tr>\n",
       "      <th>889</th>\n",
       "      <td>890</td>\n",
       "      <td>1</td>\n",
       "      <td>1</td>\n",
       "      <td>Behr, Mr. Karl Howell</td>\n",
       "      <td>male</td>\n",
       "      <td>26.0</td>\n",
       "      <td>0</td>\n",
       "      <td>0</td>\n",
       "      <td>111369</td>\n",
       "      <td>30.0000</td>\n",
       "      <td>C</td>\n",
       "    </tr>\n",
       "    <tr>\n",
       "      <th>890</th>\n",
       "      <td>891</td>\n",
       "      <td>0</td>\n",
       "      <td>3</td>\n",
       "      <td>Dooley, Mr. Patrick</td>\n",
       "      <td>male</td>\n",
       "      <td>32.0</td>\n",
       "      <td>0</td>\n",
       "      <td>0</td>\n",
       "      <td>370376</td>\n",
       "      <td>7.7500</td>\n",
       "      <td>Q</td>\n",
       "    </tr>\n",
       "  </tbody>\n",
       "</table>\n",
       "<p>891 rows × 11 columns</p>\n",
       "</div>"
      ],
      "text/plain": [
       "     PassengerId  Survived  Pclass  \\\n",
       "0              1         0       3   \n",
       "1              2         1       1   \n",
       "2              3         1       3   \n",
       "3              4         1       1   \n",
       "4              5         0       3   \n",
       "..           ...       ...     ...   \n",
       "886          887         0       2   \n",
       "887          888         1       1   \n",
       "888          889         0       3   \n",
       "889          890         1       1   \n",
       "890          891         0       3   \n",
       "\n",
       "                                                  Name     Sex   Age  SibSp  \\\n",
       "0                              Braund, Mr. Owen Harris    male  22.0      1   \n",
       "1    Cumings, Mrs. John Bradley (Florence Briggs Th...  female  38.0      1   \n",
       "2                               Heikkinen, Miss. Laina  female  26.0      0   \n",
       "3         Futrelle, Mrs. Jacques Heath (Lily May Peel)  female  35.0      1   \n",
       "4                             Allen, Mr. William Henry    male  35.0      0   \n",
       "..                                                 ...     ...   ...    ...   \n",
       "886                              Montvila, Rev. Juozas    male  27.0      0   \n",
       "887                       Graham, Miss. Margaret Edith  female  19.0      0   \n",
       "888           Johnston, Miss. Catherine Helen \"Carrie\"  female  24.0      1   \n",
       "889                              Behr, Mr. Karl Howell    male  26.0      0   \n",
       "890                                Dooley, Mr. Patrick    male  32.0      0   \n",
       "\n",
       "     Parch            Ticket     Fare Embarked  \n",
       "0        0         A/5 21171   7.2500        S  \n",
       "1        0          PC 17599  71.2833        C  \n",
       "2        0  STON/O2. 3101282   7.9250        S  \n",
       "3        0            113803  53.1000        S  \n",
       "4        0            373450   8.0500        S  \n",
       "..     ...               ...      ...      ...  \n",
       "886      0            211536  13.0000        S  \n",
       "887      0            112053  30.0000        S  \n",
       "888      2        W./C. 6607  23.4500        S  \n",
       "889      0            111369  30.0000        C  \n",
       "890      0            370376   7.7500        Q  \n",
       "\n",
       "[891 rows x 11 columns]"
      ]
     },
     "execution_count": 18,
     "metadata": {},
     "output_type": "execute_result"
    }
   ],
   "source": [
    "df_train"
   ]
  },
  {
   "cell_type": "markdown",
   "id": "f941b90c",
   "metadata": {
    "papermill": {
     "duration": 0.022342,
     "end_time": "2023-01-06T21:28:24.725125",
     "exception": false,
     "start_time": "2023-01-06T21:28:24.702783",
     "status": "completed"
    },
    "tags": []
   },
   "source": [
    "### Converting non-numerical column to numerical"
   ]
  },
  {
   "cell_type": "code",
   "execution_count": 19,
   "id": "c90b8932",
   "metadata": {
    "execution": {
     "iopub.execute_input": "2023-01-06T21:28:24.773076Z",
     "iopub.status.busy": "2023-01-06T21:28:24.772574Z",
     "iopub.status.idle": "2023-01-06T21:28:24.781205Z",
     "shell.execute_reply": "2023-01-06T21:28:24.779562Z"
    },
    "papermill": {
     "duration": 0.036689,
     "end_time": "2023-01-06T21:28:24.784098",
     "exception": false,
     "start_time": "2023-01-06T21:28:24.747409",
     "status": "completed"
    },
    "tags": []
   },
   "outputs": [],
   "source": [
    "gender = pd.get_dummies(df_train['Sex'],drop_first=True)"
   ]
  },
  {
   "cell_type": "code",
   "execution_count": 20,
   "id": "c30b8279",
   "metadata": {
    "execution": {
     "iopub.execute_input": "2023-01-06T21:28:24.830833Z",
     "iopub.status.busy": "2023-01-06T21:28:24.830314Z",
     "iopub.status.idle": "2023-01-06T21:28:24.835974Z",
     "shell.execute_reply": "2023-01-06T21:28:24.835129Z"
    },
    "papermill": {
     "duration": 0.032712,
     "end_time": "2023-01-06T21:28:24.838825",
     "exception": false,
     "start_time": "2023-01-06T21:28:24.806113",
     "status": "completed"
    },
    "tags": []
   },
   "outputs": [],
   "source": [
    "df_train['Gender'] = gender"
   ]
  },
  {
   "cell_type": "code",
   "execution_count": 21,
   "id": "63600444",
   "metadata": {
    "execution": {
     "iopub.execute_input": "2023-01-06T21:28:24.886930Z",
     "iopub.status.busy": "2023-01-06T21:28:24.886346Z",
     "iopub.status.idle": "2023-01-06T21:28:24.912375Z",
     "shell.execute_reply": "2023-01-06T21:28:24.911234Z"
    },
    "papermill": {
     "duration": 0.053981,
     "end_time": "2023-01-06T21:28:24.915202",
     "exception": false,
     "start_time": "2023-01-06T21:28:24.861221",
     "status": "completed"
    },
    "tags": []
   },
   "outputs": [
    {
     "data": {
      "text/html": [
       "<div>\n",
       "<style scoped>\n",
       "    .dataframe tbody tr th:only-of-type {\n",
       "        vertical-align: middle;\n",
       "    }\n",
       "\n",
       "    .dataframe tbody tr th {\n",
       "        vertical-align: top;\n",
       "    }\n",
       "\n",
       "    .dataframe thead th {\n",
       "        text-align: right;\n",
       "    }\n",
       "</style>\n",
       "<table border=\"1\" class=\"dataframe\">\n",
       "  <thead>\n",
       "    <tr style=\"text-align: right;\">\n",
       "      <th></th>\n",
       "      <th>PassengerId</th>\n",
       "      <th>Survived</th>\n",
       "      <th>Pclass</th>\n",
       "      <th>Name</th>\n",
       "      <th>Sex</th>\n",
       "      <th>Age</th>\n",
       "      <th>SibSp</th>\n",
       "      <th>Parch</th>\n",
       "      <th>Ticket</th>\n",
       "      <th>Fare</th>\n",
       "      <th>Embarked</th>\n",
       "      <th>Gender</th>\n",
       "    </tr>\n",
       "  </thead>\n",
       "  <tbody>\n",
       "    <tr>\n",
       "      <th>0</th>\n",
       "      <td>1</td>\n",
       "      <td>0</td>\n",
       "      <td>3</td>\n",
       "      <td>Braund, Mr. Owen Harris</td>\n",
       "      <td>male</td>\n",
       "      <td>22.0</td>\n",
       "      <td>1</td>\n",
       "      <td>0</td>\n",
       "      <td>A/5 21171</td>\n",
       "      <td>7.2500</td>\n",
       "      <td>S</td>\n",
       "      <td>1</td>\n",
       "    </tr>\n",
       "    <tr>\n",
       "      <th>1</th>\n",
       "      <td>2</td>\n",
       "      <td>1</td>\n",
       "      <td>1</td>\n",
       "      <td>Cumings, Mrs. John Bradley (Florence Briggs Th...</td>\n",
       "      <td>female</td>\n",
       "      <td>38.0</td>\n",
       "      <td>1</td>\n",
       "      <td>0</td>\n",
       "      <td>PC 17599</td>\n",
       "      <td>71.2833</td>\n",
       "      <td>C</td>\n",
       "      <td>0</td>\n",
       "    </tr>\n",
       "    <tr>\n",
       "      <th>2</th>\n",
       "      <td>3</td>\n",
       "      <td>1</td>\n",
       "      <td>3</td>\n",
       "      <td>Heikkinen, Miss. Laina</td>\n",
       "      <td>female</td>\n",
       "      <td>26.0</td>\n",
       "      <td>0</td>\n",
       "      <td>0</td>\n",
       "      <td>STON/O2. 3101282</td>\n",
       "      <td>7.9250</td>\n",
       "      <td>S</td>\n",
       "      <td>0</td>\n",
       "    </tr>\n",
       "    <tr>\n",
       "      <th>3</th>\n",
       "      <td>4</td>\n",
       "      <td>1</td>\n",
       "      <td>1</td>\n",
       "      <td>Futrelle, Mrs. Jacques Heath (Lily May Peel)</td>\n",
       "      <td>female</td>\n",
       "      <td>35.0</td>\n",
       "      <td>1</td>\n",
       "      <td>0</td>\n",
       "      <td>113803</td>\n",
       "      <td>53.1000</td>\n",
       "      <td>S</td>\n",
       "      <td>0</td>\n",
       "    </tr>\n",
       "    <tr>\n",
       "      <th>4</th>\n",
       "      <td>5</td>\n",
       "      <td>0</td>\n",
       "      <td>3</td>\n",
       "      <td>Allen, Mr. William Henry</td>\n",
       "      <td>male</td>\n",
       "      <td>35.0</td>\n",
       "      <td>0</td>\n",
       "      <td>0</td>\n",
       "      <td>373450</td>\n",
       "      <td>8.0500</td>\n",
       "      <td>S</td>\n",
       "      <td>1</td>\n",
       "    </tr>\n",
       "    <tr>\n",
       "      <th>...</th>\n",
       "      <td>...</td>\n",
       "      <td>...</td>\n",
       "      <td>...</td>\n",
       "      <td>...</td>\n",
       "      <td>...</td>\n",
       "      <td>...</td>\n",
       "      <td>...</td>\n",
       "      <td>...</td>\n",
       "      <td>...</td>\n",
       "      <td>...</td>\n",
       "      <td>...</td>\n",
       "      <td>...</td>\n",
       "    </tr>\n",
       "    <tr>\n",
       "      <th>886</th>\n",
       "      <td>887</td>\n",
       "      <td>0</td>\n",
       "      <td>2</td>\n",
       "      <td>Montvila, Rev. Juozas</td>\n",
       "      <td>male</td>\n",
       "      <td>27.0</td>\n",
       "      <td>0</td>\n",
       "      <td>0</td>\n",
       "      <td>211536</td>\n",
       "      <td>13.0000</td>\n",
       "      <td>S</td>\n",
       "      <td>1</td>\n",
       "    </tr>\n",
       "    <tr>\n",
       "      <th>887</th>\n",
       "      <td>888</td>\n",
       "      <td>1</td>\n",
       "      <td>1</td>\n",
       "      <td>Graham, Miss. Margaret Edith</td>\n",
       "      <td>female</td>\n",
       "      <td>19.0</td>\n",
       "      <td>0</td>\n",
       "      <td>0</td>\n",
       "      <td>112053</td>\n",
       "      <td>30.0000</td>\n",
       "      <td>S</td>\n",
       "      <td>0</td>\n",
       "    </tr>\n",
       "    <tr>\n",
       "      <th>888</th>\n",
       "      <td>889</td>\n",
       "      <td>0</td>\n",
       "      <td>3</td>\n",
       "      <td>Johnston, Miss. Catherine Helen \"Carrie\"</td>\n",
       "      <td>female</td>\n",
       "      <td>24.0</td>\n",
       "      <td>1</td>\n",
       "      <td>2</td>\n",
       "      <td>W./C. 6607</td>\n",
       "      <td>23.4500</td>\n",
       "      <td>S</td>\n",
       "      <td>0</td>\n",
       "    </tr>\n",
       "    <tr>\n",
       "      <th>889</th>\n",
       "      <td>890</td>\n",
       "      <td>1</td>\n",
       "      <td>1</td>\n",
       "      <td>Behr, Mr. Karl Howell</td>\n",
       "      <td>male</td>\n",
       "      <td>26.0</td>\n",
       "      <td>0</td>\n",
       "      <td>0</td>\n",
       "      <td>111369</td>\n",
       "      <td>30.0000</td>\n",
       "      <td>C</td>\n",
       "      <td>1</td>\n",
       "    </tr>\n",
       "    <tr>\n",
       "      <th>890</th>\n",
       "      <td>891</td>\n",
       "      <td>0</td>\n",
       "      <td>3</td>\n",
       "      <td>Dooley, Mr. Patrick</td>\n",
       "      <td>male</td>\n",
       "      <td>32.0</td>\n",
       "      <td>0</td>\n",
       "      <td>0</td>\n",
       "      <td>370376</td>\n",
       "      <td>7.7500</td>\n",
       "      <td>Q</td>\n",
       "      <td>1</td>\n",
       "    </tr>\n",
       "  </tbody>\n",
       "</table>\n",
       "<p>891 rows × 12 columns</p>\n",
       "</div>"
      ],
      "text/plain": [
       "     PassengerId  Survived  Pclass  \\\n",
       "0              1         0       3   \n",
       "1              2         1       1   \n",
       "2              3         1       3   \n",
       "3              4         1       1   \n",
       "4              5         0       3   \n",
       "..           ...       ...     ...   \n",
       "886          887         0       2   \n",
       "887          888         1       1   \n",
       "888          889         0       3   \n",
       "889          890         1       1   \n",
       "890          891         0       3   \n",
       "\n",
       "                                                  Name     Sex   Age  SibSp  \\\n",
       "0                              Braund, Mr. Owen Harris    male  22.0      1   \n",
       "1    Cumings, Mrs. John Bradley (Florence Briggs Th...  female  38.0      1   \n",
       "2                               Heikkinen, Miss. Laina  female  26.0      0   \n",
       "3         Futrelle, Mrs. Jacques Heath (Lily May Peel)  female  35.0      1   \n",
       "4                             Allen, Mr. William Henry    male  35.0      0   \n",
       "..                                                 ...     ...   ...    ...   \n",
       "886                              Montvila, Rev. Juozas    male  27.0      0   \n",
       "887                       Graham, Miss. Margaret Edith  female  19.0      0   \n",
       "888           Johnston, Miss. Catherine Helen \"Carrie\"  female  24.0      1   \n",
       "889                              Behr, Mr. Karl Howell    male  26.0      0   \n",
       "890                                Dooley, Mr. Patrick    male  32.0      0   \n",
       "\n",
       "     Parch            Ticket     Fare Embarked  Gender  \n",
       "0        0         A/5 21171   7.2500        S       1  \n",
       "1        0          PC 17599  71.2833        C       0  \n",
       "2        0  STON/O2. 3101282   7.9250        S       0  \n",
       "3        0            113803  53.1000        S       0  \n",
       "4        0            373450   8.0500        S       1  \n",
       "..     ...               ...      ...      ...     ...  \n",
       "886      0            211536  13.0000        S       1  \n",
       "887      0            112053  30.0000        S       0  \n",
       "888      2        W./C. 6607  23.4500        S       0  \n",
       "889      0            111369  30.0000        C       1  \n",
       "890      0            370376   7.7500        Q       1  \n",
       "\n",
       "[891 rows x 12 columns]"
      ]
     },
     "execution_count": 21,
     "metadata": {},
     "output_type": "execute_result"
    }
   ],
   "source": [
    "df_train"
   ]
  },
  {
   "cell_type": "markdown",
   "id": "7a97ac63",
   "metadata": {
    "papermill": {
     "duration": 0.02241,
     "end_time": "2023-01-06T21:28:24.960731",
     "exception": false,
     "start_time": "2023-01-06T21:28:24.938321",
     "status": "completed"
    },
    "tags": []
   },
   "source": [
    "### Searching for Correlations"
   ]
  },
  {
   "cell_type": "markdown",
   "id": "4429f6fb",
   "metadata": {
    "papermill": {
     "duration": 0.022858,
     "end_time": "2023-01-06T21:28:25.007295",
     "exception": false,
     "start_time": "2023-01-06T21:28:24.984437",
     "status": "completed"
    },
    "tags": []
   },
   "source": [
    "The value of correlation coefficient can vary between -1 and 1 and the obtained result defines whether the correlation is negative or positive.\n",
    "\n",
    "To interpret the correlation, it is necessary to know that 1 means that the correlation between the variables is perfect positive and -1 means that it is perfect negative. If the correlation coefficient is equal to 0 it means that the variables don't depend on each other.\n",
    "\n",
    "Plus or minus 0.9 indicates a very strong correlation // 0.7 to 0.9 positive or negative indicates a strong correlation // 0.5 to 0.7 positive or negative indicates a moderate correlation // 0.3 to 0.5 positive or negative indicates a weak correlation // 0 to 0.3 positive or negative indicates a negligible correlation."
   ]
  },
  {
   "cell_type": "code",
   "execution_count": 22,
   "id": "a30002a8",
   "metadata": {
    "execution": {
     "iopub.execute_input": "2023-01-06T21:28:25.057554Z",
     "iopub.status.busy": "2023-01-06T21:28:25.057067Z",
     "iopub.status.idle": "2023-01-06T21:28:25.076526Z",
     "shell.execute_reply": "2023-01-06T21:28:25.075599Z"
    },
    "papermill": {
     "duration": 0.048342,
     "end_time": "2023-01-06T21:28:25.079136",
     "exception": false,
     "start_time": "2023-01-06T21:28:25.030794",
     "status": "completed"
    },
    "tags": []
   },
   "outputs": [
    {
     "data": {
      "text/html": [
       "<div>\n",
       "<style scoped>\n",
       "    .dataframe tbody tr th:only-of-type {\n",
       "        vertical-align: middle;\n",
       "    }\n",
       "\n",
       "    .dataframe tbody tr th {\n",
       "        vertical-align: top;\n",
       "    }\n",
       "\n",
       "    .dataframe thead th {\n",
       "        text-align: right;\n",
       "    }\n",
       "</style>\n",
       "<table border=\"1\" class=\"dataframe\">\n",
       "  <thead>\n",
       "    <tr style=\"text-align: right;\">\n",
       "      <th></th>\n",
       "      <th>PassengerId</th>\n",
       "      <th>Survived</th>\n",
       "      <th>Pclass</th>\n",
       "      <th>Age</th>\n",
       "      <th>SibSp</th>\n",
       "      <th>Parch</th>\n",
       "      <th>Fare</th>\n",
       "      <th>Gender</th>\n",
       "    </tr>\n",
       "  </thead>\n",
       "  <tbody>\n",
       "    <tr>\n",
       "      <th>PassengerId</th>\n",
       "      <td>1.000000</td>\n",
       "      <td>-0.005007</td>\n",
       "      <td>-0.035144</td>\n",
       "      <td>0.035840</td>\n",
       "      <td>-0.057527</td>\n",
       "      <td>-0.001652</td>\n",
       "      <td>0.012658</td>\n",
       "      <td>0.042939</td>\n",
       "    </tr>\n",
       "    <tr>\n",
       "      <th>Survived</th>\n",
       "      <td>-0.005007</td>\n",
       "      <td>1.000000</td>\n",
       "      <td>-0.338481</td>\n",
       "      <td>-0.047255</td>\n",
       "      <td>-0.035322</td>\n",
       "      <td>0.081629</td>\n",
       "      <td>0.257307</td>\n",
       "      <td>-0.543351</td>\n",
       "    </tr>\n",
       "    <tr>\n",
       "      <th>Pclass</th>\n",
       "      <td>-0.035144</td>\n",
       "      <td>-0.338481</td>\n",
       "      <td>1.000000</td>\n",
       "      <td>-0.408487</td>\n",
       "      <td>0.083081</td>\n",
       "      <td>0.018443</td>\n",
       "      <td>-0.549500</td>\n",
       "      <td>0.131900</td>\n",
       "    </tr>\n",
       "    <tr>\n",
       "      <th>Age</th>\n",
       "      <td>0.035840</td>\n",
       "      <td>-0.047255</td>\n",
       "      <td>-0.408487</td>\n",
       "      <td>1.000000</td>\n",
       "      <td>-0.243526</td>\n",
       "      <td>-0.171095</td>\n",
       "      <td>0.123784</td>\n",
       "      <td>0.078421</td>\n",
       "    </tr>\n",
       "    <tr>\n",
       "      <th>SibSp</th>\n",
       "      <td>-0.057527</td>\n",
       "      <td>-0.035322</td>\n",
       "      <td>0.083081</td>\n",
       "      <td>-0.243526</td>\n",
       "      <td>1.000000</td>\n",
       "      <td>0.414838</td>\n",
       "      <td>0.159651</td>\n",
       "      <td>-0.114631</td>\n",
       "    </tr>\n",
       "    <tr>\n",
       "      <th>Parch</th>\n",
       "      <td>-0.001652</td>\n",
       "      <td>0.081629</td>\n",
       "      <td>0.018443</td>\n",
       "      <td>-0.171095</td>\n",
       "      <td>0.414838</td>\n",
       "      <td>1.000000</td>\n",
       "      <td>0.216225</td>\n",
       "      <td>-0.245489</td>\n",
       "    </tr>\n",
       "    <tr>\n",
       "      <th>Fare</th>\n",
       "      <td>0.012658</td>\n",
       "      <td>0.257307</td>\n",
       "      <td>-0.549500</td>\n",
       "      <td>0.123784</td>\n",
       "      <td>0.159651</td>\n",
       "      <td>0.216225</td>\n",
       "      <td>1.000000</td>\n",
       "      <td>-0.182333</td>\n",
       "    </tr>\n",
       "    <tr>\n",
       "      <th>Gender</th>\n",
       "      <td>0.042939</td>\n",
       "      <td>-0.543351</td>\n",
       "      <td>0.131900</td>\n",
       "      <td>0.078421</td>\n",
       "      <td>-0.114631</td>\n",
       "      <td>-0.245489</td>\n",
       "      <td>-0.182333</td>\n",
       "      <td>1.000000</td>\n",
       "    </tr>\n",
       "  </tbody>\n",
       "</table>\n",
       "</div>"
      ],
      "text/plain": [
       "             PassengerId  Survived    Pclass       Age     SibSp     Parch  \\\n",
       "PassengerId     1.000000 -0.005007 -0.035144  0.035840 -0.057527 -0.001652   \n",
       "Survived       -0.005007  1.000000 -0.338481 -0.047255 -0.035322  0.081629   \n",
       "Pclass         -0.035144 -0.338481  1.000000 -0.408487  0.083081  0.018443   \n",
       "Age             0.035840 -0.047255 -0.408487  1.000000 -0.243526 -0.171095   \n",
       "SibSp          -0.057527 -0.035322  0.083081 -0.243526  1.000000  0.414838   \n",
       "Parch          -0.001652  0.081629  0.018443 -0.171095  0.414838  1.000000   \n",
       "Fare            0.012658  0.257307 -0.549500  0.123784  0.159651  0.216225   \n",
       "Gender          0.042939 -0.543351  0.131900  0.078421 -0.114631 -0.245489   \n",
       "\n",
       "                 Fare    Gender  \n",
       "PassengerId  0.012658  0.042939  \n",
       "Survived     0.257307 -0.543351  \n",
       "Pclass      -0.549500  0.131900  \n",
       "Age          0.123784  0.078421  \n",
       "SibSp        0.159651 -0.114631  \n",
       "Parch        0.216225 -0.245489  \n",
       "Fare         1.000000 -0.182333  \n",
       "Gender      -0.182333  1.000000  "
      ]
     },
     "execution_count": 22,
     "metadata": {},
     "output_type": "execute_result"
    }
   ],
   "source": [
    "df_train.corr()"
   ]
  },
  {
   "cell_type": "code",
   "execution_count": 23,
   "id": "d18820a9",
   "metadata": {
    "execution": {
     "iopub.execute_input": "2023-01-06T21:28:25.127959Z",
     "iopub.status.busy": "2023-01-06T21:28:25.127537Z",
     "iopub.status.idle": "2023-01-06T21:28:25.136454Z",
     "shell.execute_reply": "2023-01-06T21:28:25.135587Z"
    },
    "papermill": {
     "duration": 0.036314,
     "end_time": "2023-01-06T21:28:25.138934",
     "exception": false,
     "start_time": "2023-01-06T21:28:25.102620",
     "status": "completed"
    },
    "tags": []
   },
   "outputs": [
    {
     "data": {
      "text/plain": [
       "Gender        -0.543351\n",
       "Pclass        -0.338481\n",
       "Age           -0.047255\n",
       "SibSp         -0.035322\n",
       "PassengerId   -0.005007\n",
       "Parch          0.081629\n",
       "Fare           0.257307\n",
       "Survived       1.000000\n",
       "Name: Survived, dtype: float64"
      ]
     },
     "execution_count": 23,
     "metadata": {},
     "output_type": "execute_result"
    }
   ],
   "source": [
    "df_train.corr()['Survived'].sort_values()"
   ]
  },
  {
   "cell_type": "code",
   "execution_count": 24,
   "id": "a071e8a8",
   "metadata": {
    "execution": {
     "iopub.execute_input": "2023-01-06T21:28:25.195839Z",
     "iopub.status.busy": "2023-01-06T21:28:25.195028Z",
     "iopub.status.idle": "2023-01-06T21:28:29.727306Z",
     "shell.execute_reply": "2023-01-06T21:28:29.726039Z"
    },
    "papermill": {
     "duration": 4.565413,
     "end_time": "2023-01-06T21:28:29.729892",
     "exception": false,
     "start_time": "2023-01-06T21:28:25.164479",
     "status": "completed"
    },
    "tags": []
   },
   "outputs": [
    {
     "data": {
      "text/plain": [
       "<AxesSubplot:xlabel='Fare', ylabel='count'>"
      ]
     },
     "execution_count": 24,
     "metadata": {},
     "output_type": "execute_result"
    },
    {
     "data": {
      "image/png": "[encoded data removed]",
      "text/plain": [
       "<Figure size 432x288 with 1 Axes>"
      ]
     },
     "metadata": {
      "needs_background": "light"
     },
     "output_type": "display_data"
    }
   ],
   "source": [
    "sns.countplot(data=df_train, x='Fare',hue='Survived')"
   ]
  },
  {
   "cell_type": "markdown",
   "id": "68b72b54",
   "metadata": {
    "papermill": {
     "duration": 0.022053,
     "end_time": "2023-01-06T21:28:29.774228",
     "exception": false,
     "start_time": "2023-01-06T21:28:29.752175",
     "status": "completed"
    },
    "tags": []
   },
   "source": [
    "### Dropping the Unnecessary Columns"
   ]
  },
  {
   "cell_type": "code",
   "execution_count": 25,
   "id": "400cd4ae",
   "metadata": {
    "execution": {
     "iopub.execute_input": "2023-01-06T21:28:29.822282Z",
     "iopub.status.busy": "2023-01-06T21:28:29.820974Z",
     "iopub.status.idle": "2023-01-06T21:28:29.839048Z",
     "shell.execute_reply": "2023-01-06T21:28:29.838136Z"
    },
    "papermill": {
     "duration": 0.044839,
     "end_time": "2023-01-06T21:28:29.841393",
     "exception": false,
     "start_time": "2023-01-06T21:28:29.796554",
     "status": "completed"
    },
    "tags": []
   },
   "outputs": [
    {
     "data": {
      "text/html": [
       "<div>\n",
       "<style scoped>\n",
       "    .dataframe tbody tr th:only-of-type {\n",
       "        vertical-align: middle;\n",
       "    }\n",
       "\n",
       "    .dataframe tbody tr th {\n",
       "        vertical-align: top;\n",
       "    }\n",
       "\n",
       "    .dataframe thead th {\n",
       "        text-align: right;\n",
       "    }\n",
       "</style>\n",
       "<table border=\"1\" class=\"dataframe\">\n",
       "  <thead>\n",
       "    <tr style=\"text-align: right;\">\n",
       "      <th></th>\n",
       "      <th>Survived</th>\n",
       "      <th>Pclass</th>\n",
       "      <th>Age</th>\n",
       "      <th>SibSp</th>\n",
       "      <th>Parch</th>\n",
       "      <th>Gender</th>\n",
       "    </tr>\n",
       "  </thead>\n",
       "  <tbody>\n",
       "    <tr>\n",
       "      <th>0</th>\n",
       "      <td>0</td>\n",
       "      <td>3</td>\n",
       "      <td>22.0</td>\n",
       "      <td>1</td>\n",
       "      <td>0</td>\n",
       "      <td>1</td>\n",
       "    </tr>\n",
       "    <tr>\n",
       "      <th>1</th>\n",
       "      <td>1</td>\n",
       "      <td>1</td>\n",
       "      <td>38.0</td>\n",
       "      <td>1</td>\n",
       "      <td>0</td>\n",
       "      <td>0</td>\n",
       "    </tr>\n",
       "    <tr>\n",
       "      <th>2</th>\n",
       "      <td>1</td>\n",
       "      <td>3</td>\n",
       "      <td>26.0</td>\n",
       "      <td>0</td>\n",
       "      <td>0</td>\n",
       "      <td>0</td>\n",
       "    </tr>\n",
       "    <tr>\n",
       "      <th>3</th>\n",
       "      <td>1</td>\n",
       "      <td>1</td>\n",
       "      <td>35.0</td>\n",
       "      <td>1</td>\n",
       "      <td>0</td>\n",
       "      <td>0</td>\n",
       "    </tr>\n",
       "    <tr>\n",
       "      <th>4</th>\n",
       "      <td>0</td>\n",
       "      <td>3</td>\n",
       "      <td>35.0</td>\n",
       "      <td>0</td>\n",
       "      <td>0</td>\n",
       "      <td>1</td>\n",
       "    </tr>\n",
       "    <tr>\n",
       "      <th>...</th>\n",
       "      <td>...</td>\n",
       "      <td>...</td>\n",
       "      <td>...</td>\n",
       "      <td>...</td>\n",
       "      <td>...</td>\n",
       "      <td>...</td>\n",
       "    </tr>\n",
       "    <tr>\n",
       "      <th>886</th>\n",
       "      <td>0</td>\n",
       "      <td>2</td>\n",
       "      <td>27.0</td>\n",
       "      <td>0</td>\n",
       "      <td>0</td>\n",
       "      <td>1</td>\n",
       "    </tr>\n",
       "    <tr>\n",
       "      <th>887</th>\n",
       "      <td>1</td>\n",
       "      <td>1</td>\n",
       "      <td>19.0</td>\n",
       "      <td>0</td>\n",
       "      <td>0</td>\n",
       "      <td>0</td>\n",
       "    </tr>\n",
       "    <tr>\n",
       "      <th>888</th>\n",
       "      <td>0</td>\n",
       "      <td>3</td>\n",
       "      <td>24.0</td>\n",
       "      <td>1</td>\n",
       "      <td>2</td>\n",
       "      <td>0</td>\n",
       "    </tr>\n",
       "    <tr>\n",
       "      <th>889</th>\n",
       "      <td>1</td>\n",
       "      <td>1</td>\n",
       "      <td>26.0</td>\n",
       "      <td>0</td>\n",
       "      <td>0</td>\n",
       "      <td>1</td>\n",
       "    </tr>\n",
       "    <tr>\n",
       "      <th>890</th>\n",
       "      <td>0</td>\n",
       "      <td>3</td>\n",
       "      <td>32.0</td>\n",
       "      <td>0</td>\n",
       "      <td>0</td>\n",
       "      <td>1</td>\n",
       "    </tr>\n",
       "  </tbody>\n",
       "</table>\n",
       "<p>891 rows × 6 columns</p>\n",
       "</div>"
      ],
      "text/plain": [
       "     Survived  Pclass   Age  SibSp  Parch  Gender\n",
       "0           0       3  22.0      1      0       1\n",
       "1           1       1  38.0      1      0       0\n",
       "2           1       3  26.0      0      0       0\n",
       "3           1       1  35.0      1      0       0\n",
       "4           0       3  35.0      0      0       1\n",
       "..        ...     ...   ...    ...    ...     ...\n",
       "886         0       2  27.0      0      0       1\n",
       "887         1       1  19.0      0      0       0\n",
       "888         0       3  24.0      1      2       0\n",
       "889         1       1  26.0      0      0       1\n",
       "890         0       3  32.0      0      0       1\n",
       "\n",
       "[891 rows x 6 columns]"
      ]
     },
     "execution_count": 25,
     "metadata": {},
     "output_type": "execute_result"
    }
   ],
   "source": [
    "df_train.drop(['Name', 'Sex', 'Ticket', 'Embarked', 'PassengerId', 'Fare'],axis=1,inplace=True)\n",
    "\n",
    "df_train"
   ]
  },
  {
   "cell_type": "markdown",
   "id": "c746c5f9",
   "metadata": {
    "papermill": {
     "duration": 0.022151,
     "end_time": "2023-01-06T21:28:29.886198",
     "exception": false,
     "start_time": "2023-01-06T21:28:29.864047",
     "status": "completed"
    },
    "tags": []
   },
   "source": [
    "# Transforming the Testing DataFrame"
   ]
  },
  {
   "cell_type": "code",
   "execution_count": 26,
   "id": "7ae34d12",
   "metadata": {
    "execution": {
     "iopub.execute_input": "2023-01-06T21:28:29.933814Z",
     "iopub.status.busy": "2023-01-06T21:28:29.933282Z",
     "iopub.status.idle": "2023-01-06T21:28:29.950682Z",
     "shell.execute_reply": "2023-01-06T21:28:29.949418Z"
    },
    "papermill": {
     "duration": 0.044235,
     "end_time": "2023-01-06T21:28:29.953310",
     "exception": false,
     "start_time": "2023-01-06T21:28:29.909075",
     "status": "completed"
    },
    "tags": []
   },
   "outputs": [
    {
     "data": {
      "text/html": [
       "<div>\n",
       "<style scoped>\n",
       "    .dataframe tbody tr th:only-of-type {\n",
       "        vertical-align: middle;\n",
       "    }\n",
       "\n",
       "    .dataframe tbody tr th {\n",
       "        vertical-align: top;\n",
       "    }\n",
       "\n",
       "    .dataframe thead th {\n",
       "        text-align: right;\n",
       "    }\n",
       "</style>\n",
       "<table border=\"1\" class=\"dataframe\">\n",
       "  <thead>\n",
       "    <tr style=\"text-align: right;\">\n",
       "      <th></th>\n",
       "      <th>PassengerId</th>\n",
       "      <th>Pclass</th>\n",
       "      <th>Name</th>\n",
       "      <th>Sex</th>\n",
       "      <th>Age</th>\n",
       "      <th>SibSp</th>\n",
       "      <th>Parch</th>\n",
       "      <th>Ticket</th>\n",
       "      <th>Fare</th>\n",
       "      <th>Cabin</th>\n",
       "      <th>Embarked</th>\n",
       "    </tr>\n",
       "  </thead>\n",
       "  <tbody>\n",
       "    <tr>\n",
       "      <th>0</th>\n",
       "      <td>892</td>\n",
       "      <td>3</td>\n",
       "      <td>Kelly, Mr. James</td>\n",
       "      <td>male</td>\n",
       "      <td>34.5</td>\n",
       "      <td>0</td>\n",
       "      <td>0</td>\n",
       "      <td>330911</td>\n",
       "      <td>7.8292</td>\n",
       "      <td>NaN</td>\n",
       "      <td>Q</td>\n",
       "    </tr>\n",
       "    <tr>\n",
       "      <th>1</th>\n",
       "      <td>893</td>\n",
       "      <td>3</td>\n",
       "      <td>Wilkes, Mrs. James (Ellen Needs)</td>\n",
       "      <td>female</td>\n",
       "      <td>47.0</td>\n",
       "      <td>1</td>\n",
       "      <td>0</td>\n",
       "      <td>363272</td>\n",
       "      <td>7.0000</td>\n",
       "      <td>NaN</td>\n",
       "      <td>S</td>\n",
       "    </tr>\n",
       "    <tr>\n",
       "      <th>2</th>\n",
       "      <td>894</td>\n",
       "      <td>2</td>\n",
       "      <td>Myles, Mr. Thomas Francis</td>\n",
       "      <td>male</td>\n",
       "      <td>62.0</td>\n",
       "      <td>0</td>\n",
       "      <td>0</td>\n",
       "      <td>240276</td>\n",
       "      <td>9.6875</td>\n",
       "      <td>NaN</td>\n",
       "      <td>Q</td>\n",
       "    </tr>\n",
       "    <tr>\n",
       "      <th>3</th>\n",
       "      <td>895</td>\n",
       "      <td>3</td>\n",
       "      <td>Wirz, Mr. Albert</td>\n",
       "      <td>male</td>\n",
       "      <td>27.0</td>\n",
       "      <td>0</td>\n",
       "      <td>0</td>\n",
       "      <td>315154</td>\n",
       "      <td>8.6625</td>\n",
       "      <td>NaN</td>\n",
       "      <td>S</td>\n",
       "    </tr>\n",
       "    <tr>\n",
       "      <th>4</th>\n",
       "      <td>896</td>\n",
       "      <td>3</td>\n",
       "      <td>Hirvonen, Mrs. Alexander (Helga E Lindqvist)</td>\n",
       "      <td>female</td>\n",
       "      <td>22.0</td>\n",
       "      <td>1</td>\n",
       "      <td>1</td>\n",
       "      <td>3101298</td>\n",
       "      <td>12.2875</td>\n",
       "      <td>NaN</td>\n",
       "      <td>S</td>\n",
       "    </tr>\n",
       "  </tbody>\n",
       "</table>\n",
       "</div>"
      ],
      "text/plain": [
       "   PassengerId  Pclass                                          Name     Sex  \\\n",
       "0          892       3                              Kelly, Mr. James    male   \n",
       "1          893       3              Wilkes, Mrs. James (Ellen Needs)  female   \n",
       "2          894       2                     Myles, Mr. Thomas Francis    male   \n",
       "3          895       3                              Wirz, Mr. Albert    male   \n",
       "4          896       3  Hirvonen, Mrs. Alexander (Helga E Lindqvist)  female   \n",
       "\n",
       "    Age  SibSp  Parch   Ticket     Fare Cabin Embarked  \n",
       "0  34.5      0      0   330911   7.8292   NaN        Q  \n",
       "1  47.0      1      0   363272   7.0000   NaN        S  \n",
       "2  62.0      0      0   240276   9.6875   NaN        Q  \n",
       "3  27.0      0      0   315154   8.6625   NaN        S  \n",
       "4  22.0      1      1  3101298  12.2875   NaN        S  "
      ]
     },
     "execution_count": 26,
     "metadata": {},
     "output_type": "execute_result"
    }
   ],
   "source": [
    "df_test.head()"
   ]
  },
  {
   "cell_type": "markdown",
   "id": "4921eceb",
   "metadata": {
    "papermill": {
     "duration": 0.022664,
     "end_time": "2023-01-06T21:28:30.000578",
     "exception": false,
     "start_time": "2023-01-06T21:28:29.977914",
     "status": "completed"
    },
    "tags": []
   },
   "source": [
    "### Checking the Number of Columns with NULL values"
   ]
  },
  {
   "cell_type": "code",
   "execution_count": 27,
   "id": "5784326f",
   "metadata": {
    "execution": {
     "iopub.execute_input": "2023-01-06T21:28:30.049883Z",
     "iopub.status.busy": "2023-01-06T21:28:30.049429Z",
     "iopub.status.idle": "2023-01-06T21:28:30.060935Z",
     "shell.execute_reply": "2023-01-06T21:28:30.059610Z"
    },
    "papermill": {
     "duration": 0.03901,
     "end_time": "2023-01-06T21:28:30.063400",
     "exception": false,
     "start_time": "2023-01-06T21:28:30.024390",
     "status": "completed"
    },
    "tags": []
   },
   "outputs": [
    {
     "data": {
      "text/plain": [
       "PassengerId      0\n",
       "Pclass           0\n",
       "Name             0\n",
       "Sex              0\n",
       "Age             86\n",
       "SibSp            0\n",
       "Parch            0\n",
       "Ticket           0\n",
       "Fare             1\n",
       "Cabin          327\n",
       "Embarked         0\n",
       "dtype: int64"
      ]
     },
     "execution_count": 27,
     "metadata": {},
     "output_type": "execute_result"
    }
   ],
   "source": [
    "df_test.isna().sum()"
   ]
  },
  {
   "cell_type": "code",
   "execution_count": 28,
   "id": "b9e3de42",
   "metadata": {
    "execution": {
     "iopub.execute_input": "2023-01-06T21:28:30.113572Z",
     "iopub.status.busy": "2023-01-06T21:28:30.113146Z",
     "iopub.status.idle": "2023-01-06T21:28:30.552711Z",
     "shell.execute_reply": "2023-01-06T21:28:30.551387Z"
    },
    "papermill": {
     "duration": 0.468054,
     "end_time": "2023-01-06T21:28:30.555436",
     "exception": false,
     "start_time": "2023-01-06T21:28:30.087382",
     "status": "completed"
    },
    "tags": []
   },
   "outputs": [
    {
     "data": {
      "text/plain": [
       "<AxesSubplot:>"
      ]
     },
     "execution_count": 28,
     "metadata": {},
     "output_type": "execute_result"
    },
    {
     "data": {
      "image/png": "[encoded data removed]",
      "text/plain": [
       "<Figure size 432x288 with 2 Axes>"
      ]
     },
     "metadata": {
      "needs_background": "light"
     },
     "output_type": "display_data"
    }
   ],
   "source": [
    "sns.heatmap(df_test.isna())"
   ]
  },
  {
   "cell_type": "markdown",
   "id": "631a2fa3",
   "metadata": {
    "papermill": {
     "duration": 0.023083,
     "end_time": "2023-01-06T21:28:30.601967",
     "exception": false,
     "start_time": "2023-01-06T21:28:30.578884",
     "status": "completed"
    },
    "tags": []
   },
   "source": [
    "### Removing the NULL values from 'Age' column"
   ]
  },
  {
   "cell_type": "code",
   "execution_count": 29,
   "id": "825b4121",
   "metadata": {
    "execution": {
     "iopub.execute_input": "2023-01-06T21:28:30.651142Z",
     "iopub.status.busy": "2023-01-06T21:28:30.650759Z",
     "iopub.status.idle": "2023-01-06T21:28:30.659295Z",
     "shell.execute_reply": "2023-01-06T21:28:30.657721Z"
    },
    "papermill": {
     "duration": 0.036014,
     "end_time": "2023-01-06T21:28:30.662114",
     "exception": false,
     "start_time": "2023-01-06T21:28:30.626100",
     "status": "completed"
    },
    "tags": []
   },
   "outputs": [
    {
     "name": "stdout",
     "output_type": "stream",
     "text": [
      "NULLs percentage in Testing DataFrame Age column is: 20.57 %\n"
     ]
    }
   ],
   "source": [
    "print('NULLs percentage in Testing DataFrame Age column is: {:.2f} %'.format((df_test['Age'].isna().sum()/len(df_test['Age']))*100))"
   ]
  },
  {
   "cell_type": "code",
   "execution_count": 30,
   "id": "103d943f",
   "metadata": {
    "execution": {
     "iopub.execute_input": "2023-01-06T21:28:30.713134Z",
     "iopub.status.busy": "2023-01-06T21:28:30.712712Z",
     "iopub.status.idle": "2023-01-06T21:28:30.731854Z",
     "shell.execute_reply": "2023-01-06T21:28:30.728914Z"
    },
    "papermill": {
     "duration": 0.050192,
     "end_time": "2023-01-06T21:28:30.737243",
     "exception": false,
     "start_time": "2023-01-06T21:28:30.687051",
     "status": "completed"
    },
    "tags": []
   },
   "outputs": [
    {
     "data": {
      "text/html": [
       "<div>\n",
       "<style scoped>\n",
       "    .dataframe tbody tr th:only-of-type {\n",
       "        vertical-align: middle;\n",
       "    }\n",
       "\n",
       "    .dataframe tbody tr th {\n",
       "        vertical-align: top;\n",
       "    }\n",
       "\n",
       "    .dataframe thead th {\n",
       "        text-align: right;\n",
       "    }\n",
       "</style>\n",
       "<table border=\"1\" class=\"dataframe\">\n",
       "  <thead>\n",
       "    <tr style=\"text-align: right;\">\n",
       "      <th></th>\n",
       "      <th>Correlation</th>\n",
       "    </tr>\n",
       "  </thead>\n",
       "  <tbody>\n",
       "    <tr>\n",
       "      <th>Pclass</th>\n",
       "      <td>-0.492143</td>\n",
       "    </tr>\n",
       "    <tr>\n",
       "      <th>SibSp</th>\n",
       "      <td>-0.091587</td>\n",
       "    </tr>\n",
       "    <tr>\n",
       "      <th>Parch</th>\n",
       "      <td>-0.061249</td>\n",
       "    </tr>\n",
       "    <tr>\n",
       "      <th>PassengerId</th>\n",
       "      <td>-0.034102</td>\n",
       "    </tr>\n",
       "    <tr>\n",
       "      <th>Fare</th>\n",
       "      <td>0.337932</td>\n",
       "    </tr>\n",
       "  </tbody>\n",
       "</table>\n",
       "</div>"
      ],
      "text/plain": [
       "             Correlation\n",
       "Pclass         -0.492143\n",
       "SibSp          -0.091587\n",
       "Parch          -0.061249\n",
       "PassengerId    -0.034102\n",
       "Fare            0.337932"
      ]
     },
     "execution_count": 30,
     "metadata": {},
     "output_type": "execute_result"
    }
   ],
   "source": [
    "age_corr = df_test.corr()['Age'].sort_values()\n",
    "age_corr.drop('Age', inplace=True)\n",
    "df_corr = pd.DataFrame(age_corr.values, columns=['Correlation'], index= age_corr.keys())\n",
    "df_corr.sort_values('Correlation')"
   ]
  },
  {
   "cell_type": "code",
   "execution_count": 31,
   "id": "e1a0f42f",
   "metadata": {
    "execution": {
     "iopub.execute_input": "2023-01-06T21:28:30.806367Z",
     "iopub.status.busy": "2023-01-06T21:28:30.804800Z",
     "iopub.status.idle": "2023-01-06T21:28:30.817496Z",
     "shell.execute_reply": "2023-01-06T21:28:30.815805Z"
    },
    "papermill": {
     "duration": 0.052534,
     "end_time": "2023-01-06T21:28:30.821369",
     "exception": false,
     "start_time": "2023-01-06T21:28:30.768835",
     "status": "completed"
    },
    "tags": []
   },
   "outputs": [
    {
     "data": {
      "text/plain": [
       "Pclass\n",
       "1    42.0\n",
       "2    26.5\n",
       "3    24.0\n",
       "Name: Age, dtype: float64"
      ]
     },
     "execution_count": 31,
     "metadata": {},
     "output_type": "execute_result"
    }
   ],
   "source": [
    "df_test.groupby('Pclass')['Age'].median()"
   ]
  },
  {
   "cell_type": "code",
   "execution_count": 32,
   "id": "61bcab0b",
   "metadata": {
    "execution": {
     "iopub.execute_input": "2023-01-06T21:28:30.875256Z",
     "iopub.status.busy": "2023-01-06T21:28:30.874757Z",
     "iopub.status.idle": "2023-01-06T21:28:30.887342Z",
     "shell.execute_reply": "2023-01-06T21:28:30.886102Z"
    },
    "papermill": {
     "duration": 0.042143,
     "end_time": "2023-01-06T21:28:30.890383",
     "exception": false,
     "start_time": "2023-01-06T21:28:30.848240",
     "status": "completed"
    },
    "tags": []
   },
   "outputs": [],
   "source": [
    "df_test['Age'] = df_test.groupby('Pclass')['Age'].transform(lambda row: row.fillna(row.median()))"
   ]
  },
  {
   "cell_type": "code",
   "execution_count": 33,
   "id": "32b40b4f",
   "metadata": {
    "execution": {
     "iopub.execute_input": "2023-01-06T21:28:30.942751Z",
     "iopub.status.busy": "2023-01-06T21:28:30.941468Z",
     "iopub.status.idle": "2023-01-06T21:28:30.966450Z",
     "shell.execute_reply": "2023-01-06T21:28:30.965252Z"
    },
    "papermill": {
     "duration": 0.053594,
     "end_time": "2023-01-06T21:28:30.969014",
     "exception": false,
     "start_time": "2023-01-06T21:28:30.915420",
     "status": "completed"
    },
    "tags": []
   },
   "outputs": [
    {
     "data": {
      "text/html": [
       "<div>\n",
       "<style scoped>\n",
       "    .dataframe tbody tr th:only-of-type {\n",
       "        vertical-align: middle;\n",
       "    }\n",
       "\n",
       "    .dataframe tbody tr th {\n",
       "        vertical-align: top;\n",
       "    }\n",
       "\n",
       "    .dataframe thead th {\n",
       "        text-align: right;\n",
       "    }\n",
       "</style>\n",
       "<table border=\"1\" class=\"dataframe\">\n",
       "  <thead>\n",
       "    <tr style=\"text-align: right;\">\n",
       "      <th></th>\n",
       "      <th>PassengerId</th>\n",
       "      <th>Pclass</th>\n",
       "      <th>Name</th>\n",
       "      <th>Sex</th>\n",
       "      <th>Age</th>\n",
       "      <th>SibSp</th>\n",
       "      <th>Parch</th>\n",
       "      <th>Ticket</th>\n",
       "      <th>Fare</th>\n",
       "      <th>Cabin</th>\n",
       "      <th>Embarked</th>\n",
       "    </tr>\n",
       "  </thead>\n",
       "  <tbody>\n",
       "    <tr>\n",
       "      <th>0</th>\n",
       "      <td>892</td>\n",
       "      <td>3</td>\n",
       "      <td>Kelly, Mr. James</td>\n",
       "      <td>male</td>\n",
       "      <td>34.5</td>\n",
       "      <td>0</td>\n",
       "      <td>0</td>\n",
       "      <td>330911</td>\n",
       "      <td>7.8292</td>\n",
       "      <td>NaN</td>\n",
       "      <td>Q</td>\n",
       "    </tr>\n",
       "    <tr>\n",
       "      <th>1</th>\n",
       "      <td>893</td>\n",
       "      <td>3</td>\n",
       "      <td>Wilkes, Mrs. James (Ellen Needs)</td>\n",
       "      <td>female</td>\n",
       "      <td>47.0</td>\n",
       "      <td>1</td>\n",
       "      <td>0</td>\n",
       "      <td>363272</td>\n",
       "      <td>7.0000</td>\n",
       "      <td>NaN</td>\n",
       "      <td>S</td>\n",
       "    </tr>\n",
       "    <tr>\n",
       "      <th>2</th>\n",
       "      <td>894</td>\n",
       "      <td>2</td>\n",
       "      <td>Myles, Mr. Thomas Francis</td>\n",
       "      <td>male</td>\n",
       "      <td>62.0</td>\n",
       "      <td>0</td>\n",
       "      <td>0</td>\n",
       "      <td>240276</td>\n",
       "      <td>9.6875</td>\n",
       "      <td>NaN</td>\n",
       "      <td>Q</td>\n",
       "    </tr>\n",
       "    <tr>\n",
       "      <th>3</th>\n",
       "      <td>895</td>\n",
       "      <td>3</td>\n",
       "      <td>Wirz, Mr. Albert</td>\n",
       "      <td>male</td>\n",
       "      <td>27.0</td>\n",
       "      <td>0</td>\n",
       "      <td>0</td>\n",
       "      <td>315154</td>\n",
       "      <td>8.6625</td>\n",
       "      <td>NaN</td>\n",
       "      <td>S</td>\n",
       "    </tr>\n",
       "    <tr>\n",
       "      <th>4</th>\n",
       "      <td>896</td>\n",
       "      <td>3</td>\n",
       "      <td>Hirvonen, Mrs. Alexander (Helga E Lindqvist)</td>\n",
       "      <td>female</td>\n",
       "      <td>22.0</td>\n",
       "      <td>1</td>\n",
       "      <td>1</td>\n",
       "      <td>3101298</td>\n",
       "      <td>12.2875</td>\n",
       "      <td>NaN</td>\n",
       "      <td>S</td>\n",
       "    </tr>\n",
       "    <tr>\n",
       "      <th>...</th>\n",
       "      <td>...</td>\n",
       "      <td>...</td>\n",
       "      <td>...</td>\n",
       "      <td>...</td>\n",
       "      <td>...</td>\n",
       "      <td>...</td>\n",
       "      <td>...</td>\n",
       "      <td>...</td>\n",
       "      <td>...</td>\n",
       "      <td>...</td>\n",
       "      <td>...</td>\n",
       "    </tr>\n",
       "    <tr>\n",
       "      <th>413</th>\n",
       "      <td>1305</td>\n",
       "      <td>3</td>\n",
       "      <td>Spector, Mr. Woolf</td>\n",
       "      <td>male</td>\n",
       "      <td>24.0</td>\n",
       "      <td>0</td>\n",
       "      <td>0</td>\n",
       "      <td>A.5. 3236</td>\n",
       "      <td>8.0500</td>\n",
       "      <td>NaN</td>\n",
       "      <td>S</td>\n",
       "    </tr>\n",
       "    <tr>\n",
       "      <th>414</th>\n",
       "      <td>1306</td>\n",
       "      <td>1</td>\n",
       "      <td>Oliva y Ocana, Dona. Fermina</td>\n",
       "      <td>female</td>\n",
       "      <td>39.0</td>\n",
       "      <td>0</td>\n",
       "      <td>0</td>\n",
       "      <td>PC 17758</td>\n",
       "      <td>108.9000</td>\n",
       "      <td>C105</td>\n",
       "      <td>C</td>\n",
       "    </tr>\n",
       "    <tr>\n",
       "      <th>415</th>\n",
       "      <td>1307</td>\n",
       "      <td>3</td>\n",
       "      <td>Saether, Mr. Simon Sivertsen</td>\n",
       "      <td>male</td>\n",
       "      <td>38.5</td>\n",
       "      <td>0</td>\n",
       "      <td>0</td>\n",
       "      <td>SOTON/O.Q. 3101262</td>\n",
       "      <td>7.2500</td>\n",
       "      <td>NaN</td>\n",
       "      <td>S</td>\n",
       "    </tr>\n",
       "    <tr>\n",
       "      <th>416</th>\n",
       "      <td>1308</td>\n",
       "      <td>3</td>\n",
       "      <td>Ware, Mr. Frederick</td>\n",
       "      <td>male</td>\n",
       "      <td>24.0</td>\n",
       "      <td>0</td>\n",
       "      <td>0</td>\n",
       "      <td>359309</td>\n",
       "      <td>8.0500</td>\n",
       "      <td>NaN</td>\n",
       "      <td>S</td>\n",
       "    </tr>\n",
       "    <tr>\n",
       "      <th>417</th>\n",
       "      <td>1309</td>\n",
       "      <td>3</td>\n",
       "      <td>Peter, Master. Michael J</td>\n",
       "      <td>male</td>\n",
       "      <td>24.0</td>\n",
       "      <td>1</td>\n",
       "      <td>1</td>\n",
       "      <td>2668</td>\n",
       "      <td>22.3583</td>\n",
       "      <td>NaN</td>\n",
       "      <td>C</td>\n",
       "    </tr>\n",
       "  </tbody>\n",
       "</table>\n",
       "<p>418 rows × 11 columns</p>\n",
       "</div>"
      ],
      "text/plain": [
       "     PassengerId  Pclass                                          Name  \\\n",
       "0            892       3                              Kelly, Mr. James   \n",
       "1            893       3              Wilkes, Mrs. James (Ellen Needs)   \n",
       "2            894       2                     Myles, Mr. Thomas Francis   \n",
       "3            895       3                              Wirz, Mr. Albert   \n",
       "4            896       3  Hirvonen, Mrs. Alexander (Helga E Lindqvist)   \n",
       "..           ...     ...                                           ...   \n",
       "413         1305       3                            Spector, Mr. Woolf   \n",
       "414         1306       1                  Oliva y Ocana, Dona. Fermina   \n",
       "415         1307       3                  Saether, Mr. Simon Sivertsen   \n",
       "416         1308       3                           Ware, Mr. Frederick   \n",
       "417         1309       3                      Peter, Master. Michael J   \n",
       "\n",
       "        Sex   Age  SibSp  Parch              Ticket      Fare Cabin Embarked  \n",
       "0      male  34.5      0      0              330911    7.8292   NaN        Q  \n",
       "1    female  47.0      1      0              363272    7.0000   NaN        S  \n",
       "2      male  62.0      0      0              240276    9.6875   NaN        Q  \n",
       "3      male  27.0      0      0              315154    8.6625   NaN        S  \n",
       "4    female  22.0      1      1             3101298   12.2875   NaN        S  \n",
       "..      ...   ...    ...    ...                 ...       ...   ...      ...  \n",
       "413    male  24.0      0      0           A.5. 3236    8.0500   NaN        S  \n",
       "414  female  39.0      0      0            PC 17758  108.9000  C105        C  \n",
       "415    male  38.5      0      0  SOTON/O.Q. 3101262    7.2500   NaN        S  \n",
       "416    male  24.0      0      0              359309    8.0500   NaN        S  \n",
       "417    male  24.0      1      1                2668   22.3583   NaN        C  \n",
       "\n",
       "[418 rows x 11 columns]"
      ]
     },
     "execution_count": 33,
     "metadata": {},
     "output_type": "execute_result"
    }
   ],
   "source": [
    "df_test"
   ]
  },
  {
   "cell_type": "code",
   "execution_count": 34,
   "id": "f952fec3",
   "metadata": {
    "execution": {
     "iopub.execute_input": "2023-01-06T21:28:31.022011Z",
     "iopub.status.busy": "2023-01-06T21:28:31.020578Z",
     "iopub.status.idle": "2023-01-06T21:28:31.046219Z",
     "shell.execute_reply": "2023-01-06T21:28:31.045235Z"
    },
    "papermill": {
     "duration": 0.05479,
     "end_time": "2023-01-06T21:28:31.048577",
     "exception": false,
     "start_time": "2023-01-06T21:28:30.993787",
     "status": "completed"
    },
    "tags": []
   },
   "outputs": [
    {
     "data": {
      "text/html": [
       "<div>\n",
       "<style scoped>\n",
       "    .dataframe tbody tr th:only-of-type {\n",
       "        vertical-align: middle;\n",
       "    }\n",
       "\n",
       "    .dataframe tbody tr th {\n",
       "        vertical-align: top;\n",
       "    }\n",
       "\n",
       "    .dataframe thead th {\n",
       "        text-align: right;\n",
       "    }\n",
       "</style>\n",
       "<table border=\"1\" class=\"dataframe\">\n",
       "  <thead>\n",
       "    <tr style=\"text-align: right;\">\n",
       "      <th></th>\n",
       "      <th>PassengerId</th>\n",
       "      <th>Pclass</th>\n",
       "      <th>Name</th>\n",
       "      <th>Sex</th>\n",
       "      <th>Age</th>\n",
       "      <th>SibSp</th>\n",
       "      <th>Parch</th>\n",
       "      <th>Ticket</th>\n",
       "      <th>Fare</th>\n",
       "      <th>Cabin</th>\n",
       "      <th>Embarked</th>\n",
       "    </tr>\n",
       "  </thead>\n",
       "  <tbody>\n",
       "    <tr>\n",
       "      <th>0</th>\n",
       "      <td>False</td>\n",
       "      <td>False</td>\n",
       "      <td>False</td>\n",
       "      <td>False</td>\n",
       "      <td>False</td>\n",
       "      <td>False</td>\n",
       "      <td>False</td>\n",
       "      <td>False</td>\n",
       "      <td>False</td>\n",
       "      <td>True</td>\n",
       "      <td>False</td>\n",
       "    </tr>\n",
       "    <tr>\n",
       "      <th>1</th>\n",
       "      <td>False</td>\n",
       "      <td>False</td>\n",
       "      <td>False</td>\n",
       "      <td>False</td>\n",
       "      <td>False</td>\n",
       "      <td>False</td>\n",
       "      <td>False</td>\n",
       "      <td>False</td>\n",
       "      <td>False</td>\n",
       "      <td>True</td>\n",
       "      <td>False</td>\n",
       "    </tr>\n",
       "    <tr>\n",
       "      <th>2</th>\n",
       "      <td>False</td>\n",
       "      <td>False</td>\n",
       "      <td>False</td>\n",
       "      <td>False</td>\n",
       "      <td>False</td>\n",
       "      <td>False</td>\n",
       "      <td>False</td>\n",
       "      <td>False</td>\n",
       "      <td>False</td>\n",
       "      <td>True</td>\n",
       "      <td>False</td>\n",
       "    </tr>\n",
       "    <tr>\n",
       "      <th>3</th>\n",
       "      <td>False</td>\n",
       "      <td>False</td>\n",
       "      <td>False</td>\n",
       "      <td>False</td>\n",
       "      <td>False</td>\n",
       "      <td>False</td>\n",
       "      <td>False</td>\n",
       "      <td>False</td>\n",
       "      <td>False</td>\n",
       "      <td>True</td>\n",
       "      <td>False</td>\n",
       "    </tr>\n",
       "    <tr>\n",
       "      <th>4</th>\n",
       "      <td>False</td>\n",
       "      <td>False</td>\n",
       "      <td>False</td>\n",
       "      <td>False</td>\n",
       "      <td>False</td>\n",
       "      <td>False</td>\n",
       "      <td>False</td>\n",
       "      <td>False</td>\n",
       "      <td>False</td>\n",
       "      <td>True</td>\n",
       "      <td>False</td>\n",
       "    </tr>\n",
       "    <tr>\n",
       "      <th>...</th>\n",
       "      <td>...</td>\n",
       "      <td>...</td>\n",
       "      <td>...</td>\n",
       "      <td>...</td>\n",
       "      <td>...</td>\n",
       "      <td>...</td>\n",
       "      <td>...</td>\n",
       "      <td>...</td>\n",
       "      <td>...</td>\n",
       "      <td>...</td>\n",
       "      <td>...</td>\n",
       "    </tr>\n",
       "    <tr>\n",
       "      <th>413</th>\n",
       "      <td>False</td>\n",
       "      <td>False</td>\n",
       "      <td>False</td>\n",
       "      <td>False</td>\n",
       "      <td>False</td>\n",
       "      <td>False</td>\n",
       "      <td>False</td>\n",
       "      <td>False</td>\n",
       "      <td>False</td>\n",
       "      <td>True</td>\n",
       "      <td>False</td>\n",
       "    </tr>\n",
       "    <tr>\n",
       "      <th>414</th>\n",
       "      <td>False</td>\n",
       "      <td>False</td>\n",
       "      <td>False</td>\n",
       "      <td>False</td>\n",
       "      <td>False</td>\n",
       "      <td>False</td>\n",
       "      <td>False</td>\n",
       "      <td>False</td>\n",
       "      <td>False</td>\n",
       "      <td>False</td>\n",
       "      <td>False</td>\n",
       "    </tr>\n",
       "    <tr>\n",
       "      <th>415</th>\n",
       "      <td>False</td>\n",
       "      <td>False</td>\n",
       "      <td>False</td>\n",
       "      <td>False</td>\n",
       "      <td>False</td>\n",
       "      <td>False</td>\n",
       "      <td>False</td>\n",
       "      <td>False</td>\n",
       "      <td>False</td>\n",
       "      <td>True</td>\n",
       "      <td>False</td>\n",
       "    </tr>\n",
       "    <tr>\n",
       "      <th>416</th>\n",
       "      <td>False</td>\n",
       "      <td>False</td>\n",
       "      <td>False</td>\n",
       "      <td>False</td>\n",
       "      <td>False</td>\n",
       "      <td>False</td>\n",
       "      <td>False</td>\n",
       "      <td>False</td>\n",
       "      <td>False</td>\n",
       "      <td>True</td>\n",
       "      <td>False</td>\n",
       "    </tr>\n",
       "    <tr>\n",
       "      <th>417</th>\n",
       "      <td>False</td>\n",
       "      <td>False</td>\n",
       "      <td>False</td>\n",
       "      <td>False</td>\n",
       "      <td>False</td>\n",
       "      <td>False</td>\n",
       "      <td>False</td>\n",
       "      <td>False</td>\n",
       "      <td>False</td>\n",
       "      <td>True</td>\n",
       "      <td>False</td>\n",
       "    </tr>\n",
       "  </tbody>\n",
       "</table>\n",
       "<p>418 rows × 11 columns</p>\n",
       "</div>"
      ],
      "text/plain": [
       "     PassengerId  Pclass   Name    Sex    Age  SibSp  Parch  Ticket   Fare  \\\n",
       "0          False   False  False  False  False  False  False   False  False   \n",
       "1          False   False  False  False  False  False  False   False  False   \n",
       "2          False   False  False  False  False  False  False   False  False   \n",
       "3          False   False  False  False  False  False  False   False  False   \n",
       "4          False   False  False  False  False  False  False   False  False   \n",
       "..           ...     ...    ...    ...    ...    ...    ...     ...    ...   \n",
       "413        False   False  False  False  False  False  False   False  False   \n",
       "414        False   False  False  False  False  False  False   False  False   \n",
       "415        False   False  False  False  False  False  False   False  False   \n",
       "416        False   False  False  False  False  False  False   False  False   \n",
       "417        False   False  False  False  False  False  False   False  False   \n",
       "\n",
       "     Cabin  Embarked  \n",
       "0     True     False  \n",
       "1     True     False  \n",
       "2     True     False  \n",
       "3     True     False  \n",
       "4     True     False  \n",
       "..     ...       ...  \n",
       "413   True     False  \n",
       "414  False     False  \n",
       "415   True     False  \n",
       "416   True     False  \n",
       "417   True     False  \n",
       "\n",
       "[418 rows x 11 columns]"
      ]
     },
     "execution_count": 34,
     "metadata": {},
     "output_type": "execute_result"
    }
   ],
   "source": [
    "df_test.isna()"
   ]
  },
  {
   "cell_type": "markdown",
   "id": "324407be",
   "metadata": {
    "papermill": {
     "duration": 0.024947,
     "end_time": "2023-01-06T21:28:31.099896",
     "exception": false,
     "start_time": "2023-01-06T21:28:31.074949",
     "status": "completed"
    },
    "tags": []
   },
   "source": [
    "### Removing the NULL values from 'Cabin' column"
   ]
  },
  {
   "cell_type": "code",
   "execution_count": 35,
   "id": "e442f5a2",
   "metadata": {
    "execution": {
     "iopub.execute_input": "2023-01-06T21:28:31.152667Z",
     "iopub.status.busy": "2023-01-06T21:28:31.151565Z",
     "iopub.status.idle": "2023-01-06T21:28:31.159674Z",
     "shell.execute_reply": "2023-01-06T21:28:31.157887Z"
    },
    "papermill": {
     "duration": 0.037176,
     "end_time": "2023-01-06T21:28:31.162592",
     "exception": false,
     "start_time": "2023-01-06T21:28:31.125416",
     "status": "completed"
    },
    "tags": []
   },
   "outputs": [
    {
     "name": "stdout",
     "output_type": "stream",
     "text": [
      "NULLs percentage in Testing DataFrame Cabin column is: 78.23 %\n"
     ]
    }
   ],
   "source": [
    "print('NULLs percentage in Testing DataFrame Cabin column is: {:.2f} %'.format((df_test['Cabin'].isna().sum()/len(df_test['Cabin']))*100))"
   ]
  },
  {
   "cell_type": "code",
   "execution_count": 36,
   "id": "19efb6ec",
   "metadata": {
    "execution": {
     "iopub.execute_input": "2023-01-06T21:28:31.213761Z",
     "iopub.status.busy": "2023-01-06T21:28:31.213249Z",
     "iopub.status.idle": "2023-01-06T21:28:31.218941Z",
     "shell.execute_reply": "2023-01-06T21:28:31.218090Z"
    },
    "papermill": {
     "duration": 0.033919,
     "end_time": "2023-01-06T21:28:31.221167",
     "exception": false,
     "start_time": "2023-01-06T21:28:31.187248",
     "status": "completed"
    },
    "tags": []
   },
   "outputs": [],
   "source": [
    "df_test.drop('Cabin',axis=1,inplace=True)"
   ]
  },
  {
   "cell_type": "code",
   "execution_count": 37,
   "id": "84a07ee4",
   "metadata": {
    "execution": {
     "iopub.execute_input": "2023-01-06T21:28:31.273557Z",
     "iopub.status.busy": "2023-01-06T21:28:31.272939Z",
     "iopub.status.idle": "2023-01-06T21:28:31.281266Z",
     "shell.execute_reply": "2023-01-06T21:28:31.280349Z"
    },
    "papermill": {
     "duration": 0.037521,
     "end_time": "2023-01-06T21:28:31.283477",
     "exception": false,
     "start_time": "2023-01-06T21:28:31.245956",
     "status": "completed"
    },
    "tags": []
   },
   "outputs": [
    {
     "data": {
      "text/plain": [
       "PassengerId    0\n",
       "Pclass         0\n",
       "Name           0\n",
       "Sex            0\n",
       "Age            0\n",
       "SibSp          0\n",
       "Parch          0\n",
       "Ticket         0\n",
       "Fare           1\n",
       "Embarked       0\n",
       "dtype: int64"
      ]
     },
     "execution_count": 37,
     "metadata": {},
     "output_type": "execute_result"
    }
   ],
   "source": [
    "df_test.isna().sum()"
   ]
  },
  {
   "cell_type": "markdown",
   "id": "002ab176",
   "metadata": {
    "papermill": {
     "duration": 0.024595,
     "end_time": "2023-01-06T21:28:31.332954",
     "exception": false,
     "start_time": "2023-01-06T21:28:31.308359",
     "status": "completed"
    },
    "tags": []
   },
   "source": [
    "### Removing the NULL values from 'Fare' column"
   ]
  },
  {
   "cell_type": "code",
   "execution_count": 38,
   "id": "f5624267",
   "metadata": {
    "execution": {
     "iopub.execute_input": "2023-01-06T21:28:31.387481Z",
     "iopub.status.busy": "2023-01-06T21:28:31.386858Z",
     "iopub.status.idle": "2023-01-06T21:28:31.393200Z",
     "shell.execute_reply": "2023-01-06T21:28:31.392039Z"
    },
    "papermill": {
     "duration": 0.03837,
     "end_time": "2023-01-06T21:28:31.395773",
     "exception": false,
     "start_time": "2023-01-06T21:28:31.357403",
     "status": "completed"
    },
    "tags": []
   },
   "outputs": [
    {
     "name": "stdout",
     "output_type": "stream",
     "text": [
      "NULLs percentage in Testing DataFrame Fare column is: 0.24 %\n"
     ]
    }
   ],
   "source": [
    "print('NULLs percentage in Testing DataFrame Fare column is: {:.2f} %'.format((df_test['Fare'].isna().sum()/len(df_test['Fare']))*100))"
   ]
  },
  {
   "cell_type": "code",
   "execution_count": 39,
   "id": "a9a8a25b",
   "metadata": {
    "execution": {
     "iopub.execute_input": "2023-01-06T21:28:31.448959Z",
     "iopub.status.busy": "2023-01-06T21:28:31.447693Z",
     "iopub.status.idle": "2023-01-06T21:28:31.456006Z",
     "shell.execute_reply": "2023-01-06T21:28:31.455104Z"
    },
    "papermill": {
     "duration": 0.036754,
     "end_time": "2023-01-06T21:28:31.458257",
     "exception": false,
     "start_time": "2023-01-06T21:28:31.421503",
     "status": "completed"
    },
    "tags": []
   },
   "outputs": [
    {
     "data": {
      "text/plain": [
       "14.4542"
      ]
     },
     "execution_count": 39,
     "metadata": {},
     "output_type": "execute_result"
    }
   ],
   "source": [
    "df_test['Fare'].median()"
   ]
  },
  {
   "cell_type": "code",
   "execution_count": 40,
   "id": "38dc1ce7",
   "metadata": {
    "execution": {
     "iopub.execute_input": "2023-01-06T21:28:31.510485Z",
     "iopub.status.busy": "2023-01-06T21:28:31.509803Z",
     "iopub.status.idle": "2023-01-06T21:28:31.515877Z",
     "shell.execute_reply": "2023-01-06T21:28:31.514792Z"
    },
    "papermill": {
     "duration": 0.035239,
     "end_time": "2023-01-06T21:28:31.518335",
     "exception": false,
     "start_time": "2023-01-06T21:28:31.483096",
     "status": "completed"
    },
    "tags": []
   },
   "outputs": [],
   "source": [
    "df_test['Fare'].fillna(df_test['Fare'].median(), inplace=True)"
   ]
  },
  {
   "cell_type": "code",
   "execution_count": 41,
   "id": "b16af15f",
   "metadata": {
    "execution": {
     "iopub.execute_input": "2023-01-06T21:28:31.570440Z",
     "iopub.status.busy": "2023-01-06T21:28:31.569979Z",
     "iopub.status.idle": "2023-01-06T21:28:31.581061Z",
     "shell.execute_reply": "2023-01-06T21:28:31.580007Z"
    },
    "papermill": {
     "duration": 0.039757,
     "end_time": "2023-01-06T21:28:31.583333",
     "exception": false,
     "start_time": "2023-01-06T21:28:31.543576",
     "status": "completed"
    },
    "tags": []
   },
   "outputs": [
    {
     "data": {
      "text/plain": [
       "PassengerId    0\n",
       "Pclass         0\n",
       "Name           0\n",
       "Sex            0\n",
       "Age            0\n",
       "SibSp          0\n",
       "Parch          0\n",
       "Ticket         0\n",
       "Fare           0\n",
       "Embarked       0\n",
       "dtype: int64"
      ]
     },
     "execution_count": 41,
     "metadata": {},
     "output_type": "execute_result"
    }
   ],
   "source": [
    "df_test.isna().sum()"
   ]
  },
  {
   "cell_type": "markdown",
   "id": "8a7cffd3",
   "metadata": {
    "papermill": {
     "duration": 0.025631,
     "end_time": "2023-01-06T21:28:31.634194",
     "exception": false,
     "start_time": "2023-01-06T21:28:31.608563",
     "status": "completed"
    },
    "tags": []
   },
   "source": [
    "### Converting non-numerical column to numerical"
   ]
  },
  {
   "cell_type": "code",
   "execution_count": 42,
   "id": "82f12baa",
   "metadata": {
    "execution": {
     "iopub.execute_input": "2023-01-06T21:28:31.687929Z",
     "iopub.status.busy": "2023-01-06T21:28:31.687495Z",
     "iopub.status.idle": "2023-01-06T21:28:31.695222Z",
     "shell.execute_reply": "2023-01-06T21:28:31.693778Z"
    },
    "papermill": {
     "duration": 0.037391,
     "end_time": "2023-01-06T21:28:31.697545",
     "exception": false,
     "start_time": "2023-01-06T21:28:31.660154",
     "status": "completed"
    },
    "tags": []
   },
   "outputs": [],
   "source": [
    "gender = pd.get_dummies(df_test['Sex'],drop_first=True)\n",
    "df_test['Gender'] = gender"
   ]
  },
  {
   "cell_type": "code",
   "execution_count": 43,
   "id": "d3a0e87b",
   "metadata": {
    "execution": {
     "iopub.execute_input": "2023-01-06T21:28:31.750496Z",
     "iopub.status.busy": "2023-01-06T21:28:31.750032Z",
     "iopub.status.idle": "2023-01-06T21:28:31.775356Z",
     "shell.execute_reply": "2023-01-06T21:28:31.773991Z"
    },
    "papermill": {
     "duration": 0.055158,
     "end_time": "2023-01-06T21:28:31.778221",
     "exception": false,
     "start_time": "2023-01-06T21:28:31.723063",
     "status": "completed"
    },
    "tags": []
   },
   "outputs": [
    {
     "data": {
      "text/html": [
       "<div>\n",
       "<style scoped>\n",
       "    .dataframe tbody tr th:only-of-type {\n",
       "        vertical-align: middle;\n",
       "    }\n",
       "\n",
       "    .dataframe tbody tr th {\n",
       "        vertical-align: top;\n",
       "    }\n",
       "\n",
       "    .dataframe thead th {\n",
       "        text-align: right;\n",
       "    }\n",
       "</style>\n",
       "<table border=\"1\" class=\"dataframe\">\n",
       "  <thead>\n",
       "    <tr style=\"text-align: right;\">\n",
       "      <th></th>\n",
       "      <th>PassengerId</th>\n",
       "      <th>Pclass</th>\n",
       "      <th>Name</th>\n",
       "      <th>Sex</th>\n",
       "      <th>Age</th>\n",
       "      <th>SibSp</th>\n",
       "      <th>Parch</th>\n",
       "      <th>Ticket</th>\n",
       "      <th>Fare</th>\n",
       "      <th>Embarked</th>\n",
       "      <th>Gender</th>\n",
       "    </tr>\n",
       "  </thead>\n",
       "  <tbody>\n",
       "    <tr>\n",
       "      <th>0</th>\n",
       "      <td>892</td>\n",
       "      <td>3</td>\n",
       "      <td>Kelly, Mr. James</td>\n",
       "      <td>male</td>\n",
       "      <td>34.5</td>\n",
       "      <td>0</td>\n",
       "      <td>0</td>\n",
       "      <td>330911</td>\n",
       "      <td>7.8292</td>\n",
       "      <td>Q</td>\n",
       "      <td>1</td>\n",
       "    </tr>\n",
       "    <tr>\n",
       "      <th>1</th>\n",
       "      <td>893</td>\n",
       "      <td>3</td>\n",
       "      <td>Wilkes, Mrs. James (Ellen Needs)</td>\n",
       "      <td>female</td>\n",
       "      <td>47.0</td>\n",
       "      <td>1</td>\n",
       "      <td>0</td>\n",
       "      <td>363272</td>\n",
       "      <td>7.0000</td>\n",
       "      <td>S</td>\n",
       "      <td>0</td>\n",
       "    </tr>\n",
       "    <tr>\n",
       "      <th>2</th>\n",
       "      <td>894</td>\n",
       "      <td>2</td>\n",
       "      <td>Myles, Mr. Thomas Francis</td>\n",
       "      <td>male</td>\n",
       "      <td>62.0</td>\n",
       "      <td>0</td>\n",
       "      <td>0</td>\n",
       "      <td>240276</td>\n",
       "      <td>9.6875</td>\n",
       "      <td>Q</td>\n",
       "      <td>1</td>\n",
       "    </tr>\n",
       "    <tr>\n",
       "      <th>3</th>\n",
       "      <td>895</td>\n",
       "      <td>3</td>\n",
       "      <td>Wirz, Mr. Albert</td>\n",
       "      <td>male</td>\n",
       "      <td>27.0</td>\n",
       "      <td>0</td>\n",
       "      <td>0</td>\n",
       "      <td>315154</td>\n",
       "      <td>8.6625</td>\n",
       "      <td>S</td>\n",
       "      <td>1</td>\n",
       "    </tr>\n",
       "    <tr>\n",
       "      <th>4</th>\n",
       "      <td>896</td>\n",
       "      <td>3</td>\n",
       "      <td>Hirvonen, Mrs. Alexander (Helga E Lindqvist)</td>\n",
       "      <td>female</td>\n",
       "      <td>22.0</td>\n",
       "      <td>1</td>\n",
       "      <td>1</td>\n",
       "      <td>3101298</td>\n",
       "      <td>12.2875</td>\n",
       "      <td>S</td>\n",
       "      <td>0</td>\n",
       "    </tr>\n",
       "    <tr>\n",
       "      <th>...</th>\n",
       "      <td>...</td>\n",
       "      <td>...</td>\n",
       "      <td>...</td>\n",
       "      <td>...</td>\n",
       "      <td>...</td>\n",
       "      <td>...</td>\n",
       "      <td>...</td>\n",
       "      <td>...</td>\n",
       "      <td>...</td>\n",
       "      <td>...</td>\n",
       "      <td>...</td>\n",
       "    </tr>\n",
       "    <tr>\n",
       "      <th>413</th>\n",
       "      <td>1305</td>\n",
       "      <td>3</td>\n",
       "      <td>Spector, Mr. Woolf</td>\n",
       "      <td>male</td>\n",
       "      <td>24.0</td>\n",
       "      <td>0</td>\n",
       "      <td>0</td>\n",
       "      <td>A.5. 3236</td>\n",
       "      <td>8.0500</td>\n",
       "      <td>S</td>\n",
       "      <td>1</td>\n",
       "    </tr>\n",
       "    <tr>\n",
       "      <th>414</th>\n",
       "      <td>1306</td>\n",
       "      <td>1</td>\n",
       "      <td>Oliva y Ocana, Dona. Fermina</td>\n",
       "      <td>female</td>\n",
       "      <td>39.0</td>\n",
       "      <td>0</td>\n",
       "      <td>0</td>\n",
       "      <td>PC 17758</td>\n",
       "      <td>108.9000</td>\n",
       "      <td>C</td>\n",
       "      <td>0</td>\n",
       "    </tr>\n",
       "    <tr>\n",
       "      <th>415</th>\n",
       "      <td>1307</td>\n",
       "      <td>3</td>\n",
       "      <td>Saether, Mr. Simon Sivertsen</td>\n",
       "      <td>male</td>\n",
       "      <td>38.5</td>\n",
       "      <td>0</td>\n",
       "      <td>0</td>\n",
       "      <td>SOTON/O.Q. 3101262</td>\n",
       "      <td>7.2500</td>\n",
       "      <td>S</td>\n",
       "      <td>1</td>\n",
       "    </tr>\n",
       "    <tr>\n",
       "      <th>416</th>\n",
       "      <td>1308</td>\n",
       "      <td>3</td>\n",
       "      <td>Ware, Mr. Frederick</td>\n",
       "      <td>male</td>\n",
       "      <td>24.0</td>\n",
       "      <td>0</td>\n",
       "      <td>0</td>\n",
       "      <td>359309</td>\n",
       "      <td>8.0500</td>\n",
       "      <td>S</td>\n",
       "      <td>1</td>\n",
       "    </tr>\n",
       "    <tr>\n",
       "      <th>417</th>\n",
       "      <td>1309</td>\n",
       "      <td>3</td>\n",
       "      <td>Peter, Master. Michael J</td>\n",
       "      <td>male</td>\n",
       "      <td>24.0</td>\n",
       "      <td>1</td>\n",
       "      <td>1</td>\n",
       "      <td>2668</td>\n",
       "      <td>22.3583</td>\n",
       "      <td>C</td>\n",
       "      <td>1</td>\n",
       "    </tr>\n",
       "  </tbody>\n",
       "</table>\n",
       "<p>418 rows × 11 columns</p>\n",
       "</div>"
      ],
      "text/plain": [
       "     PassengerId  Pclass                                          Name  \\\n",
       "0            892       3                              Kelly, Mr. James   \n",
       "1            893       3              Wilkes, Mrs. James (Ellen Needs)   \n",
       "2            894       2                     Myles, Mr. Thomas Francis   \n",
       "3            895       3                              Wirz, Mr. Albert   \n",
       "4            896       3  Hirvonen, Mrs. Alexander (Helga E Lindqvist)   \n",
       "..           ...     ...                                           ...   \n",
       "413         1305       3                            Spector, Mr. Woolf   \n",
       "414         1306       1                  Oliva y Ocana, Dona. Fermina   \n",
       "415         1307       3                  Saether, Mr. Simon Sivertsen   \n",
       "416         1308       3                           Ware, Mr. Frederick   \n",
       "417         1309       3                      Peter, Master. Michael J   \n",
       "\n",
       "        Sex   Age  SibSp  Parch              Ticket      Fare Embarked  Gender  \n",
       "0      male  34.5      0      0              330911    7.8292        Q       1  \n",
       "1    female  47.0      1      0              363272    7.0000        S       0  \n",
       "2      male  62.0      0      0              240276    9.6875        Q       1  \n",
       "3      male  27.0      0      0              315154    8.6625        S       1  \n",
       "4    female  22.0      1      1             3101298   12.2875        S       0  \n",
       "..      ...   ...    ...    ...                 ...       ...      ...     ...  \n",
       "413    male  24.0      0      0           A.5. 3236    8.0500        S       1  \n",
       "414  female  39.0      0      0            PC 17758  108.9000        C       0  \n",
       "415    male  38.5      0      0  SOTON/O.Q. 3101262    7.2500        S       1  \n",
       "416    male  24.0      0      0              359309    8.0500        S       1  \n",
       "417    male  24.0      1      1                2668   22.3583        C       1  \n",
       "\n",
       "[418 rows x 11 columns]"
      ]
     },
     "execution_count": 43,
     "metadata": {},
     "output_type": "execute_result"
    }
   ],
   "source": [
    "df_test"
   ]
  },
  {
   "cell_type": "markdown",
   "id": "3ce2e512",
   "metadata": {
    "papermill": {
     "duration": 0.026346,
     "end_time": "2023-01-06T21:28:31.829990",
     "exception": false,
     "start_time": "2023-01-06T21:28:31.803644",
     "status": "completed"
    },
    "tags": []
   },
   "source": [
    "### Dropping the Unnecessary Columns"
   ]
  },
  {
   "cell_type": "code",
   "execution_count": 44,
   "id": "6df6b19f",
   "metadata": {
    "execution": {
     "iopub.execute_input": "2023-01-06T21:28:31.883461Z",
     "iopub.status.busy": "2023-01-06T21:28:31.883045Z",
     "iopub.status.idle": "2023-01-06T21:28:31.889693Z",
     "shell.execute_reply": "2023-01-06T21:28:31.888697Z"
    },
    "papermill": {
     "duration": 0.036494,
     "end_time": "2023-01-06T21:28:31.892374",
     "exception": false,
     "start_time": "2023-01-06T21:28:31.855880",
     "status": "completed"
    },
    "tags": []
   },
   "outputs": [],
   "source": [
    "df_test_to_result = df_test['PassengerId']\n",
    "df_test.drop(['Name', 'Sex', 'Ticket', 'Embarked', 'PassengerId', 'Fare'],axis=1,inplace=True)"
   ]
  },
  {
   "cell_type": "markdown",
   "id": "6d9f9f1c",
   "metadata": {
    "papermill": {
     "duration": 0.025187,
     "end_time": "2023-01-06T21:28:31.943634",
     "exception": false,
     "start_time": "2023-01-06T21:28:31.918447",
     "status": "completed"
    },
    "tags": []
   },
   "source": [
    "# Validating the DataFrames"
   ]
  },
  {
   "cell_type": "code",
   "execution_count": 45,
   "id": "7b65a15d",
   "metadata": {
    "execution": {
     "iopub.execute_input": "2023-01-06T21:28:31.997154Z",
     "iopub.status.busy": "2023-01-06T21:28:31.996331Z",
     "iopub.status.idle": "2023-01-06T21:28:32.014291Z",
     "shell.execute_reply": "2023-01-06T21:28:32.013330Z"
    },
    "papermill": {
     "duration": 0.047004,
     "end_time": "2023-01-06T21:28:32.016600",
     "exception": false,
     "start_time": "2023-01-06T21:28:31.969596",
     "status": "completed"
    },
    "tags": []
   },
   "outputs": [
    {
     "data": {
      "text/html": [
       "<div>\n",
       "<style scoped>\n",
       "    .dataframe tbody tr th:only-of-type {\n",
       "        vertical-align: middle;\n",
       "    }\n",
       "\n",
       "    .dataframe tbody tr th {\n",
       "        vertical-align: top;\n",
       "    }\n",
       "\n",
       "    .dataframe thead th {\n",
       "        text-align: right;\n",
       "    }\n",
       "</style>\n",
       "<table border=\"1\" class=\"dataframe\">\n",
       "  <thead>\n",
       "    <tr style=\"text-align: right;\">\n",
       "      <th></th>\n",
       "      <th>Survived</th>\n",
       "      <th>Pclass</th>\n",
       "      <th>Age</th>\n",
       "      <th>SibSp</th>\n",
       "      <th>Parch</th>\n",
       "      <th>Gender</th>\n",
       "    </tr>\n",
       "  </thead>\n",
       "  <tbody>\n",
       "    <tr>\n",
       "      <th>0</th>\n",
       "      <td>0</td>\n",
       "      <td>3</td>\n",
       "      <td>22.0</td>\n",
       "      <td>1</td>\n",
       "      <td>0</td>\n",
       "      <td>1</td>\n",
       "    </tr>\n",
       "    <tr>\n",
       "      <th>1</th>\n",
       "      <td>1</td>\n",
       "      <td>1</td>\n",
       "      <td>38.0</td>\n",
       "      <td>1</td>\n",
       "      <td>0</td>\n",
       "      <td>0</td>\n",
       "    </tr>\n",
       "    <tr>\n",
       "      <th>2</th>\n",
       "      <td>1</td>\n",
       "      <td>3</td>\n",
       "      <td>26.0</td>\n",
       "      <td>0</td>\n",
       "      <td>0</td>\n",
       "      <td>0</td>\n",
       "    </tr>\n",
       "    <tr>\n",
       "      <th>3</th>\n",
       "      <td>1</td>\n",
       "      <td>1</td>\n",
       "      <td>35.0</td>\n",
       "      <td>1</td>\n",
       "      <td>0</td>\n",
       "      <td>0</td>\n",
       "    </tr>\n",
       "    <tr>\n",
       "      <th>4</th>\n",
       "      <td>0</td>\n",
       "      <td>3</td>\n",
       "      <td>35.0</td>\n",
       "      <td>0</td>\n",
       "      <td>0</td>\n",
       "      <td>1</td>\n",
       "    </tr>\n",
       "    <tr>\n",
       "      <th>...</th>\n",
       "      <td>...</td>\n",
       "      <td>...</td>\n",
       "      <td>...</td>\n",
       "      <td>...</td>\n",
       "      <td>...</td>\n",
       "      <td>...</td>\n",
       "    </tr>\n",
       "    <tr>\n",
       "      <th>886</th>\n",
       "      <td>0</td>\n",
       "      <td>2</td>\n",
       "      <td>27.0</td>\n",
       "      <td>0</td>\n",
       "      <td>0</td>\n",
       "      <td>1</td>\n",
       "    </tr>\n",
       "    <tr>\n",
       "      <th>887</th>\n",
       "      <td>1</td>\n",
       "      <td>1</td>\n",
       "      <td>19.0</td>\n",
       "      <td>0</td>\n",
       "      <td>0</td>\n",
       "      <td>0</td>\n",
       "    </tr>\n",
       "    <tr>\n",
       "      <th>888</th>\n",
       "      <td>0</td>\n",
       "      <td>3</td>\n",
       "      <td>24.0</td>\n",
       "      <td>1</td>\n",
       "      <td>2</td>\n",
       "      <td>0</td>\n",
       "    </tr>\n",
       "    <tr>\n",
       "      <th>889</th>\n",
       "      <td>1</td>\n",
       "      <td>1</td>\n",
       "      <td>26.0</td>\n",
       "      <td>0</td>\n",
       "      <td>0</td>\n",
       "      <td>1</td>\n",
       "    </tr>\n",
       "    <tr>\n",
       "      <th>890</th>\n",
       "      <td>0</td>\n",
       "      <td>3</td>\n",
       "      <td>32.0</td>\n",
       "      <td>0</td>\n",
       "      <td>0</td>\n",
       "      <td>1</td>\n",
       "    </tr>\n",
       "  </tbody>\n",
       "</table>\n",
       "<p>891 rows × 6 columns</p>\n",
       "</div>"
      ],
      "text/plain": [
       "     Survived  Pclass   Age  SibSp  Parch  Gender\n",
       "0           0       3  22.0      1      0       1\n",
       "1           1       1  38.0      1      0       0\n",
       "2           1       3  26.0      0      0       0\n",
       "3           1       1  35.0      1      0       0\n",
       "4           0       3  35.0      0      0       1\n",
       "..        ...     ...   ...    ...    ...     ...\n",
       "886         0       2  27.0      0      0       1\n",
       "887         1       1  19.0      0      0       0\n",
       "888         0       3  24.0      1      2       0\n",
       "889         1       1  26.0      0      0       1\n",
       "890         0       3  32.0      0      0       1\n",
       "\n",
       "[891 rows x 6 columns]"
      ]
     },
     "execution_count": 45,
     "metadata": {},
     "output_type": "execute_result"
    }
   ],
   "source": [
    "df_train"
   ]
  },
  {
   "cell_type": "code",
   "execution_count": 46,
   "id": "acbed422",
   "metadata": {
    "execution": {
     "iopub.execute_input": "2023-01-06T21:28:32.070449Z",
     "iopub.status.busy": "2023-01-06T21:28:32.070032Z",
     "iopub.status.idle": "2023-01-06T21:28:32.085503Z",
     "shell.execute_reply": "2023-01-06T21:28:32.084409Z"
    },
    "papermill": {
     "duration": 0.045934,
     "end_time": "2023-01-06T21:28:32.088239",
     "exception": false,
     "start_time": "2023-01-06T21:28:32.042305",
     "status": "completed"
    },
    "tags": []
   },
   "outputs": [
    {
     "data": {
      "text/html": [
       "<div>\n",
       "<style scoped>\n",
       "    .dataframe tbody tr th:only-of-type {\n",
       "        vertical-align: middle;\n",
       "    }\n",
       "\n",
       "    .dataframe tbody tr th {\n",
       "        vertical-align: top;\n",
       "    }\n",
       "\n",
       "    .dataframe thead th {\n",
       "        text-align: right;\n",
       "    }\n",
       "</style>\n",
       "<table border=\"1\" class=\"dataframe\">\n",
       "  <thead>\n",
       "    <tr style=\"text-align: right;\">\n",
       "      <th></th>\n",
       "      <th>Pclass</th>\n",
       "      <th>Age</th>\n",
       "      <th>SibSp</th>\n",
       "      <th>Parch</th>\n",
       "      <th>Gender</th>\n",
       "    </tr>\n",
       "  </thead>\n",
       "  <tbody>\n",
       "    <tr>\n",
       "      <th>0</th>\n",
       "      <td>3</td>\n",
       "      <td>34.5</td>\n",
       "      <td>0</td>\n",
       "      <td>0</td>\n",
       "      <td>1</td>\n",
       "    </tr>\n",
       "    <tr>\n",
       "      <th>1</th>\n",
       "      <td>3</td>\n",
       "      <td>47.0</td>\n",
       "      <td>1</td>\n",
       "      <td>0</td>\n",
       "      <td>0</td>\n",
       "    </tr>\n",
       "    <tr>\n",
       "      <th>2</th>\n",
       "      <td>2</td>\n",
       "      <td>62.0</td>\n",
       "      <td>0</td>\n",
       "      <td>0</td>\n",
       "      <td>1</td>\n",
       "    </tr>\n",
       "    <tr>\n",
       "      <th>3</th>\n",
       "      <td>3</td>\n",
       "      <td>27.0</td>\n",
       "      <td>0</td>\n",
       "      <td>0</td>\n",
       "      <td>1</td>\n",
       "    </tr>\n",
       "    <tr>\n",
       "      <th>4</th>\n",
       "      <td>3</td>\n",
       "      <td>22.0</td>\n",
       "      <td>1</td>\n",
       "      <td>1</td>\n",
       "      <td>0</td>\n",
       "    </tr>\n",
       "    <tr>\n",
       "      <th>...</th>\n",
       "      <td>...</td>\n",
       "      <td>...</td>\n",
       "      <td>...</td>\n",
       "      <td>...</td>\n",
       "      <td>...</td>\n",
       "    </tr>\n",
       "    <tr>\n",
       "      <th>413</th>\n",
       "      <td>3</td>\n",
       "      <td>24.0</td>\n",
       "      <td>0</td>\n",
       "      <td>0</td>\n",
       "      <td>1</td>\n",
       "    </tr>\n",
       "    <tr>\n",
       "      <th>414</th>\n",
       "      <td>1</td>\n",
       "      <td>39.0</td>\n",
       "      <td>0</td>\n",
       "      <td>0</td>\n",
       "      <td>0</td>\n",
       "    </tr>\n",
       "    <tr>\n",
       "      <th>415</th>\n",
       "      <td>3</td>\n",
       "      <td>38.5</td>\n",
       "      <td>0</td>\n",
       "      <td>0</td>\n",
       "      <td>1</td>\n",
       "    </tr>\n",
       "    <tr>\n",
       "      <th>416</th>\n",
       "      <td>3</td>\n",
       "      <td>24.0</td>\n",
       "      <td>0</td>\n",
       "      <td>0</td>\n",
       "      <td>1</td>\n",
       "    </tr>\n",
       "    <tr>\n",
       "      <th>417</th>\n",
       "      <td>3</td>\n",
       "      <td>24.0</td>\n",
       "      <td>1</td>\n",
       "      <td>1</td>\n",
       "      <td>1</td>\n",
       "    </tr>\n",
       "  </tbody>\n",
       "</table>\n",
       "<p>418 rows × 5 columns</p>\n",
       "</div>"
      ],
      "text/plain": [
       "     Pclass   Age  SibSp  Parch  Gender\n",
       "0         3  34.5      0      0       1\n",
       "1         3  47.0      1      0       0\n",
       "2         2  62.0      0      0       1\n",
       "3         3  27.0      0      0       1\n",
       "4         3  22.0      1      1       0\n",
       "..      ...   ...    ...    ...     ...\n",
       "413       3  24.0      0      0       1\n",
       "414       1  39.0      0      0       0\n",
       "415       3  38.5      0      0       1\n",
       "416       3  24.0      0      0       1\n",
       "417       3  24.0      1      1       1\n",
       "\n",
       "[418 rows x 5 columns]"
      ]
     },
     "execution_count": 46,
     "metadata": {},
     "output_type": "execute_result"
    }
   ],
   "source": [
    "df_test"
   ]
  },
  {
   "cell_type": "markdown",
   "id": "95761ba5",
   "metadata": {
    "papermill": {
     "duration": 0.026834,
     "end_time": "2023-01-06T21:28:32.141287",
     "exception": false,
     "start_time": "2023-01-06T21:28:32.114453",
     "status": "completed"
    },
    "tags": []
   },
   "source": [
    "# Separating the Variables"
   ]
  },
  {
   "cell_type": "code",
   "execution_count": 47,
   "id": "e301d8d3",
   "metadata": {
    "execution": {
     "iopub.execute_input": "2023-01-06T21:28:32.196109Z",
     "iopub.status.busy": "2023-01-06T21:28:32.195620Z",
     "iopub.status.idle": "2023-01-06T21:28:32.203334Z",
     "shell.execute_reply": "2023-01-06T21:28:32.201774Z"
    },
    "papermill": {
     "duration": 0.037778,
     "end_time": "2023-01-06T21:28:32.206048",
     "exception": false,
     "start_time": "2023-01-06T21:28:32.168270",
     "status": "completed"
    },
    "tags": []
   },
   "outputs": [],
   "source": [
    "# Training DataFrame Dependent Variables\n",
    "# x_train = df_train[[SibSp', 'Gender', 'Embarked_C', 'Embarked_Q', 'Embarked_S', 'adult', 'children', 'senior', 'teenager', 'young_adult', '1stClass', '2ndClass', '3rdClass']]\n",
    "x_train=df_train.iloc[:,2:]\n",
    "\n",
    "# Training DataFrame Independent Variables\n",
    "# y_train = df_train['Survived']\n",
    "y_train=df_train.Survived\n",
    "\n",
    "\n",
    "# Testing DataFrame Dependent Variables\n",
    "# x_test = df_test[[SibSp', 'Gender', 'Embarked_C', 'Embarked_Q', 'Embarked_S', 'adult', 'children', 'senior', 'teenager', 'young_adult', '1stClass', '2ndClass', '3rdClass']]\n",
    "x_test=df_test.iloc[:,1:]"
   ]
  },
  {
   "cell_type": "code",
   "execution_count": 48,
   "id": "c8d4e7da",
   "metadata": {
    "execution": {
     "iopub.execute_input": "2023-01-06T21:28:32.261178Z",
     "iopub.status.busy": "2023-01-06T21:28:32.260750Z",
     "iopub.status.idle": "2023-01-06T21:28:32.277435Z",
     "shell.execute_reply": "2023-01-06T21:28:32.275586Z"
    },
    "papermill": {
     "duration": 0.048704,
     "end_time": "2023-01-06T21:28:32.280929",
     "exception": false,
     "start_time": "2023-01-06T21:28:32.232225",
     "status": "completed"
    },
    "tags": []
   },
   "outputs": [
    {
     "data": {
      "text/html": [
       "<div>\n",
       "<style scoped>\n",
       "    .dataframe tbody tr th:only-of-type {\n",
       "        vertical-align: middle;\n",
       "    }\n",
       "\n",
       "    .dataframe tbody tr th {\n",
       "        vertical-align: top;\n",
       "    }\n",
       "\n",
       "    .dataframe thead th {\n",
       "        text-align: right;\n",
       "    }\n",
       "</style>\n",
       "<table border=\"1\" class=\"dataframe\">\n",
       "  <thead>\n",
       "    <tr style=\"text-align: right;\">\n",
       "      <th></th>\n",
       "      <th>Age</th>\n",
       "      <th>SibSp</th>\n",
       "      <th>Parch</th>\n",
       "      <th>Gender</th>\n",
       "    </tr>\n",
       "  </thead>\n",
       "  <tbody>\n",
       "    <tr>\n",
       "      <th>0</th>\n",
       "      <td>22.0</td>\n",
       "      <td>1</td>\n",
       "      <td>0</td>\n",
       "      <td>1</td>\n",
       "    </tr>\n",
       "    <tr>\n",
       "      <th>1</th>\n",
       "      <td>38.0</td>\n",
       "      <td>1</td>\n",
       "      <td>0</td>\n",
       "      <td>0</td>\n",
       "    </tr>\n",
       "    <tr>\n",
       "      <th>2</th>\n",
       "      <td>26.0</td>\n",
       "      <td>0</td>\n",
       "      <td>0</td>\n",
       "      <td>0</td>\n",
       "    </tr>\n",
       "    <tr>\n",
       "      <th>3</th>\n",
       "      <td>35.0</td>\n",
       "      <td>1</td>\n",
       "      <td>0</td>\n",
       "      <td>0</td>\n",
       "    </tr>\n",
       "    <tr>\n",
       "      <th>4</th>\n",
       "      <td>35.0</td>\n",
       "      <td>0</td>\n",
       "      <td>0</td>\n",
       "      <td>1</td>\n",
       "    </tr>\n",
       "    <tr>\n",
       "      <th>...</th>\n",
       "      <td>...</td>\n",
       "      <td>...</td>\n",
       "      <td>...</td>\n",
       "      <td>...</td>\n",
       "    </tr>\n",
       "    <tr>\n",
       "      <th>886</th>\n",
       "      <td>27.0</td>\n",
       "      <td>0</td>\n",
       "      <td>0</td>\n",
       "      <td>1</td>\n",
       "    </tr>\n",
       "    <tr>\n",
       "      <th>887</th>\n",
       "      <td>19.0</td>\n",
       "      <td>0</td>\n",
       "      <td>0</td>\n",
       "      <td>0</td>\n",
       "    </tr>\n",
       "    <tr>\n",
       "      <th>888</th>\n",
       "      <td>24.0</td>\n",
       "      <td>1</td>\n",
       "      <td>2</td>\n",
       "      <td>0</td>\n",
       "    </tr>\n",
       "    <tr>\n",
       "      <th>889</th>\n",
       "      <td>26.0</td>\n",
       "      <td>0</td>\n",
       "      <td>0</td>\n",
       "      <td>1</td>\n",
       "    </tr>\n",
       "    <tr>\n",
       "      <th>890</th>\n",
       "      <td>32.0</td>\n",
       "      <td>0</td>\n",
       "      <td>0</td>\n",
       "      <td>1</td>\n",
       "    </tr>\n",
       "  </tbody>\n",
       "</table>\n",
       "<p>891 rows × 4 columns</p>\n",
       "</div>"
      ],
      "text/plain": [
       "      Age  SibSp  Parch  Gender\n",
       "0    22.0      1      0       1\n",
       "1    38.0      1      0       0\n",
       "2    26.0      0      0       0\n",
       "3    35.0      1      0       0\n",
       "4    35.0      0      0       1\n",
       "..    ...    ...    ...     ...\n",
       "886  27.0      0      0       1\n",
       "887  19.0      0      0       0\n",
       "888  24.0      1      2       0\n",
       "889  26.0      0      0       1\n",
       "890  32.0      0      0       1\n",
       "\n",
       "[891 rows x 4 columns]"
      ]
     },
     "execution_count": 48,
     "metadata": {},
     "output_type": "execute_result"
    }
   ],
   "source": [
    "x_train"
   ]
  },
  {
   "cell_type": "code",
   "execution_count": 49,
   "id": "c962427c",
   "metadata": {
    "execution": {
     "iopub.execute_input": "2023-01-06T21:28:32.335921Z",
     "iopub.status.busy": "2023-01-06T21:28:32.335471Z",
     "iopub.status.idle": "2023-01-06T21:28:32.343672Z",
     "shell.execute_reply": "2023-01-06T21:28:32.342781Z"
    },
    "papermill": {
     "duration": 0.038466,
     "end_time": "2023-01-06T21:28:32.345831",
     "exception": false,
     "start_time": "2023-01-06T21:28:32.307365",
     "status": "completed"
    },
    "tags": []
   },
   "outputs": [
    {
     "data": {
      "text/plain": [
       "0      0\n",
       "1      1\n",
       "2      1\n",
       "3      1\n",
       "4      0\n",
       "      ..\n",
       "886    0\n",
       "887    1\n",
       "888    0\n",
       "889    1\n",
       "890    0\n",
       "Name: Survived, Length: 891, dtype: int64"
      ]
     },
     "execution_count": 49,
     "metadata": {},
     "output_type": "execute_result"
    }
   ],
   "source": [
    "y_train"
   ]
  },
  {
   "cell_type": "code",
   "execution_count": 50,
   "id": "7ad5a65e",
   "metadata": {
    "execution": {
     "iopub.execute_input": "2023-01-06T21:28:32.400918Z",
     "iopub.status.busy": "2023-01-06T21:28:32.400454Z",
     "iopub.status.idle": "2023-01-06T21:28:32.415142Z",
     "shell.execute_reply": "2023-01-06T21:28:32.414006Z"
    },
    "papermill": {
     "duration": 0.045639,
     "end_time": "2023-01-06T21:28:32.417773",
     "exception": false,
     "start_time": "2023-01-06T21:28:32.372134",
     "status": "completed"
    },
    "tags": []
   },
   "outputs": [
    {
     "data": {
      "text/html": [
       "<div>\n",
       "<style scoped>\n",
       "    .dataframe tbody tr th:only-of-type {\n",
       "        vertical-align: middle;\n",
       "    }\n",
       "\n",
       "    .dataframe tbody tr th {\n",
       "        vertical-align: top;\n",
       "    }\n",
       "\n",
       "    .dataframe thead th {\n",
       "        text-align: right;\n",
       "    }\n",
       "</style>\n",
       "<table border=\"1\" class=\"dataframe\">\n",
       "  <thead>\n",
       "    <tr style=\"text-align: right;\">\n",
       "      <th></th>\n",
       "      <th>Age</th>\n",
       "      <th>SibSp</th>\n",
       "      <th>Parch</th>\n",
       "      <th>Gender</th>\n",
       "    </tr>\n",
       "  </thead>\n",
       "  <tbody>\n",
       "    <tr>\n",
       "      <th>0</th>\n",
       "      <td>34.5</td>\n",
       "      <td>0</td>\n",
       "      <td>0</td>\n",
       "      <td>1</td>\n",
       "    </tr>\n",
       "    <tr>\n",
       "      <th>1</th>\n",
       "      <td>47.0</td>\n",
       "      <td>1</td>\n",
       "      <td>0</td>\n",
       "      <td>0</td>\n",
       "    </tr>\n",
       "    <tr>\n",
       "      <th>2</th>\n",
       "      <td>62.0</td>\n",
       "      <td>0</td>\n",
       "      <td>0</td>\n",
       "      <td>1</td>\n",
       "    </tr>\n",
       "    <tr>\n",
       "      <th>3</th>\n",
       "      <td>27.0</td>\n",
       "      <td>0</td>\n",
       "      <td>0</td>\n",
       "      <td>1</td>\n",
       "    </tr>\n",
       "    <tr>\n",
       "      <th>4</th>\n",
       "      <td>22.0</td>\n",
       "      <td>1</td>\n",
       "      <td>1</td>\n",
       "      <td>0</td>\n",
       "    </tr>\n",
       "    <tr>\n",
       "      <th>...</th>\n",
       "      <td>...</td>\n",
       "      <td>...</td>\n",
       "      <td>...</td>\n",
       "      <td>...</td>\n",
       "    </tr>\n",
       "    <tr>\n",
       "      <th>413</th>\n",
       "      <td>24.0</td>\n",
       "      <td>0</td>\n",
       "      <td>0</td>\n",
       "      <td>1</td>\n",
       "    </tr>\n",
       "    <tr>\n",
       "      <th>414</th>\n",
       "      <td>39.0</td>\n",
       "      <td>0</td>\n",
       "      <td>0</td>\n",
       "      <td>0</td>\n",
       "    </tr>\n",
       "    <tr>\n",
       "      <th>415</th>\n",
       "      <td>38.5</td>\n",
       "      <td>0</td>\n",
       "      <td>0</td>\n",
       "      <td>1</td>\n",
       "    </tr>\n",
       "    <tr>\n",
       "      <th>416</th>\n",
       "      <td>24.0</td>\n",
       "      <td>0</td>\n",
       "      <td>0</td>\n",
       "      <td>1</td>\n",
       "    </tr>\n",
       "    <tr>\n",
       "      <th>417</th>\n",
       "      <td>24.0</td>\n",
       "      <td>1</td>\n",
       "      <td>1</td>\n",
       "      <td>1</td>\n",
       "    </tr>\n",
       "  </tbody>\n",
       "</table>\n",
       "<p>418 rows × 4 columns</p>\n",
       "</div>"
      ],
      "text/plain": [
       "      Age  SibSp  Parch  Gender\n",
       "0    34.5      0      0       1\n",
       "1    47.0      1      0       0\n",
       "2    62.0      0      0       1\n",
       "3    27.0      0      0       1\n",
       "4    22.0      1      1       0\n",
       "..    ...    ...    ...     ...\n",
       "413  24.0      0      0       1\n",
       "414  39.0      0      0       0\n",
       "415  38.5      0      0       1\n",
       "416  24.0      0      0       1\n",
       "417  24.0      1      1       1\n",
       "\n",
       "[418 rows x 4 columns]"
      ]
     },
     "execution_count": 50,
     "metadata": {},
     "output_type": "execute_result"
    }
   ],
   "source": [
    "x_test"
   ]
  },
  {
   "cell_type": "markdown",
   "id": "4dae4657",
   "metadata": {
    "papermill": {
     "duration": 0.026684,
     "end_time": "2023-01-06T21:28:32.471647",
     "exception": false,
     "start_time": "2023-01-06T21:28:32.444963",
     "status": "completed"
    },
    "tags": []
   },
   "source": [
    "# Data Modeling"
   ]
  },
  {
   "cell_type": "markdown",
   "id": "8e6dfb8d",
   "metadata": {
    "papermill": {
     "duration": 0.027189,
     "end_time": "2023-01-06T21:28:32.525148",
     "exception": false,
     "start_time": "2023-01-06T21:28:32.497959",
     "status": "completed"
    },
    "tags": []
   },
   "source": [
    "### Creating the Instance for Logistic Regression"
   ]
  },
  {
   "cell_type": "code",
   "execution_count": 51,
   "id": "fcace8ae",
   "metadata": {
    "execution": {
     "iopub.execute_input": "2023-01-06T21:28:32.582479Z",
     "iopub.status.busy": "2023-01-06T21:28:32.582056Z",
     "iopub.status.idle": "2023-01-06T21:28:32.587628Z",
     "shell.execute_reply": "2023-01-06T21:28:32.586123Z"
    },
    "papermill": {
     "duration": 0.037216,
     "end_time": "2023-01-06T21:28:32.590246",
     "exception": false,
     "start_time": "2023-01-06T21:28:32.553030",
     "status": "completed"
    },
    "tags": []
   },
   "outputs": [],
   "source": [
    "model = LogisticRegression()"
   ]
  },
  {
   "cell_type": "markdown",
   "id": "e5f64583",
   "metadata": {
    "papermill": {
     "duration": 0.027094,
     "end_time": "2023-01-06T21:28:32.644657",
     "exception": false,
     "start_time": "2023-01-06T21:28:32.617563",
     "status": "completed"
    },
    "tags": []
   },
   "source": [
    "### Training the Model"
   ]
  },
  {
   "cell_type": "code",
   "execution_count": 52,
   "id": "a7a173a5",
   "metadata": {
    "execution": {
     "iopub.execute_input": "2023-01-06T21:28:32.700259Z",
     "iopub.status.busy": "2023-01-06T21:28:32.699861Z",
     "iopub.status.idle": "2023-01-06T21:28:32.729359Z",
     "shell.execute_reply": "2023-01-06T21:28:32.728218Z"
    },
    "papermill": {
     "duration": 0.060829,
     "end_time": "2023-01-06T21:28:32.731847",
     "exception": false,
     "start_time": "2023-01-06T21:28:32.671018",
     "status": "completed"
    },
    "tags": []
   },
   "outputs": [
    {
     "data": {
      "text/plain": [
       "LogisticRegression()"
      ]
     },
     "execution_count": 52,
     "metadata": {},
     "output_type": "execute_result"
    }
   ],
   "source": [
    "model.fit(x_train, y_train)"
   ]
  },
  {
   "cell_type": "markdown",
   "id": "d5eff795",
   "metadata": {
    "papermill": {
     "duration": 0.026483,
     "end_time": "2023-01-06T21:28:32.785508",
     "exception": false,
     "start_time": "2023-01-06T21:28:32.759025",
     "status": "completed"
    },
    "tags": []
   },
   "source": [
    "### Executing the Prediction"
   ]
  },
  {
   "cell_type": "code",
   "execution_count": 53,
   "id": "08bad455",
   "metadata": {
    "execution": {
     "iopub.execute_input": "2023-01-06T21:28:32.840961Z",
     "iopub.status.busy": "2023-01-06T21:28:32.840357Z",
     "iopub.status.idle": "2023-01-06T21:28:32.849774Z",
     "shell.execute_reply": "2023-01-06T21:28:32.848915Z"
    },
    "papermill": {
     "duration": 0.039874,
     "end_time": "2023-01-06T21:28:32.851919",
     "exception": false,
     "start_time": "2023-01-06T21:28:32.812045",
     "status": "completed"
    },
    "tags": []
   },
   "outputs": [
    {
     "data": {
      "text/plain": [
       "array([0, 1, 0, 0, 1, 0, 1, 0, 1, 0, 0, 0, 1, 0, 1, 1, 0, 0, 1, 1, 0, 0,\n",
       "       1, 0, 1, 0, 1, 0, 0, 0, 0, 0, 1, 1, 0, 0, 1, 1, 0, 0, 0, 0, 0, 1,\n",
       "       1, 0, 0, 0, 1, 1, 0, 0, 1, 1, 0, 0, 0, 0, 0, 1, 0, 0, 0, 1, 0, 1,\n",
       "       1, 0, 0, 1, 1, 0, 1, 0, 1, 0, 0, 1, 0, 1, 0, 0, 0, 0, 0, 0, 1, 1,\n",
       "       1, 0, 1, 0, 1, 0, 0, 0, 1, 0, 1, 0, 1, 0, 0, 0, 1, 0, 0, 0, 0, 0,\n",
       "       0, 1, 1, 1, 1, 0, 0, 1, 0, 1, 1, 0, 1, 0, 0, 1, 0, 1, 0, 0, 0, 0,\n",
       "       1, 0, 0, 0, 0, 0, 1, 0, 0, 1, 0, 0, 0, 0, 0, 0, 0, 0, 1, 0, 0, 1,\n",
       "       0, 0, 1, 1, 0, 1, 1, 0, 1, 0, 0, 1, 0, 0, 1, 1, 0, 0, 0, 0, 0, 1,\n",
       "       1, 0, 1, 1, 0, 0, 1, 0, 1, 0, 1, 0, 0, 0, 0, 0, 0, 0, 0, 0, 0, 1,\n",
       "       0, 1, 1, 0, 0, 1, 0, 0, 1, 0, 1, 0, 0, 0, 0, 1, 0, 0, 1, 0, 1, 0,\n",
       "       1, 0, 1, 0, 1, 1, 0, 1, 0, 0, 0, 1, 0, 0, 0, 0, 0, 0, 1, 1, 1, 1,\n",
       "       0, 0, 0, 0, 1, 0, 1, 1, 1, 0, 0, 0, 0, 0, 0, 0, 1, 0, 0, 0, 1, 1,\n",
       "       0, 0, 0, 0, 1, 0, 0, 0, 1, 1, 0, 1, 0, 0, 0, 0, 1, 0, 1, 1, 1, 0,\n",
       "       0, 0, 0, 0, 0, 1, 0, 0, 0, 0, 1, 0, 0, 0, 0, 0, 0, 0, 1, 1, 0, 0,\n",
       "       0, 1, 0, 0, 0, 1, 1, 1, 0, 0, 0, 0, 0, 0, 0, 0, 1, 0, 1, 0, 0, 0,\n",
       "       1, 0, 0, 1, 0, 0, 0, 0, 0, 0, 0, 0, 0, 1, 0, 1, 0, 1, 0, 1, 1, 0,\n",
       "       0, 0, 1, 0, 1, 0, 0, 1, 0, 1, 1, 0, 1, 1, 0, 1, 1, 0, 0, 1, 0, 0,\n",
       "       1, 1, 1, 0, 0, 0, 0, 0, 1, 1, 0, 1, 0, 0, 0, 0, 0, 1, 0, 0, 0, 1,\n",
       "       0, 1, 0, 0, 1, 0, 1, 0, 0, 0, 0, 0, 1, 1, 1, 1, 1, 0, 1, 0, 0, 0])"
      ]
     },
     "execution_count": 53,
     "metadata": {},
     "output_type": "execute_result"
    }
   ],
   "source": [
    "y_predict = model.predict(x_test)\n",
    "y_predict"
   ]
  },
  {
   "cell_type": "code",
   "execution_count": 54,
   "id": "af3edbc1",
   "metadata": {
    "execution": {
     "iopub.execute_input": "2023-01-06T21:28:32.908638Z",
     "iopub.status.busy": "2023-01-06T21:28:32.908186Z",
     "iopub.status.idle": "2023-01-06T21:28:32.917983Z",
     "shell.execute_reply": "2023-01-06T21:28:32.916926Z"
    },
    "papermill": {
     "duration": 0.040822,
     "end_time": "2023-01-06T21:28:32.920387",
     "exception": false,
     "start_time": "2023-01-06T21:28:32.879565",
     "status": "completed"
    },
    "tags": []
   },
   "outputs": [
    {
     "data": {
      "text/plain": [
       "1.0"
      ]
     },
     "execution_count": 54,
     "metadata": {},
     "output_type": "execute_result"
    }
   ],
   "source": [
    "model.score(x_test,y_predict)"
   ]
  },
  {
   "cell_type": "markdown",
   "id": "d433cc29",
   "metadata": {
    "papermill": {
     "duration": 0.026611,
     "end_time": "2023-01-06T21:28:32.974183",
     "exception": false,
     "start_time": "2023-01-06T21:28:32.947572",
     "status": "completed"
    },
    "tags": []
   },
   "source": [
    "# Consolidating the Results"
   ]
  },
  {
   "cell_type": "code",
   "execution_count": 55,
   "id": "53139f96",
   "metadata": {
    "execution": {
     "iopub.execute_input": "2023-01-06T21:28:33.031859Z",
     "iopub.status.busy": "2023-01-06T21:28:33.031138Z",
     "iopub.status.idle": "2023-01-06T21:28:33.049724Z",
     "shell.execute_reply": "2023-01-06T21:28:33.048903Z"
    },
    "papermill": {
     "duration": 0.049676,
     "end_time": "2023-01-06T21:28:33.051934",
     "exception": false,
     "start_time": "2023-01-06T21:28:33.002258",
     "status": "completed"
    },
    "tags": []
   },
   "outputs": [
    {
     "data": {
      "text/html": [
       "<div>\n",
       "<style scoped>\n",
       "    .dataframe tbody tr th:only-of-type {\n",
       "        vertical-align: middle;\n",
       "    }\n",
       "\n",
       "    .dataframe tbody tr th {\n",
       "        vertical-align: top;\n",
       "    }\n",
       "\n",
       "    .dataframe thead th {\n",
       "        text-align: right;\n",
       "    }\n",
       "</style>\n",
       "<table border=\"1\" class=\"dataframe\">\n",
       "  <thead>\n",
       "    <tr style=\"text-align: right;\">\n",
       "      <th></th>\n",
       "      <th>precision</th>\n",
       "      <th>recall</th>\n",
       "      <th>f1-score</th>\n",
       "      <th>support</th>\n",
       "    </tr>\n",
       "  </thead>\n",
       "  <tbody>\n",
       "    <tr>\n",
       "      <th>0</th>\n",
       "      <td>0.988848</td>\n",
       "      <td>1.000000</td>\n",
       "      <td>0.994393</td>\n",
       "      <td>266.000000</td>\n",
       "    </tr>\n",
       "    <tr>\n",
       "      <th>1</th>\n",
       "      <td>1.000000</td>\n",
       "      <td>0.980263</td>\n",
       "      <td>0.990033</td>\n",
       "      <td>152.000000</td>\n",
       "    </tr>\n",
       "    <tr>\n",
       "      <th>accuracy</th>\n",
       "      <td>0.992823</td>\n",
       "      <td>0.992823</td>\n",
       "      <td>0.992823</td>\n",
       "      <td>0.992823</td>\n",
       "    </tr>\n",
       "    <tr>\n",
       "      <th>macro avg</th>\n",
       "      <td>0.994424</td>\n",
       "      <td>0.990132</td>\n",
       "      <td>0.992213</td>\n",
       "      <td>418.000000</td>\n",
       "    </tr>\n",
       "    <tr>\n",
       "      <th>weighted avg</th>\n",
       "      <td>0.992903</td>\n",
       "      <td>0.992823</td>\n",
       "      <td>0.992807</td>\n",
       "      <td>418.000000</td>\n",
       "    </tr>\n",
       "  </tbody>\n",
       "</table>\n",
       "</div>"
      ],
      "text/plain": [
       "              precision    recall  f1-score     support\n",
       "0              0.988848  1.000000  0.994393  266.000000\n",
       "1              1.000000  0.980263  0.990033  152.000000\n",
       "accuracy       0.992823  0.992823  0.992823    0.992823\n",
       "macro avg      0.994424  0.990132  0.992213  418.000000\n",
       "weighted avg   0.992903  0.992823  0.992807  418.000000"
      ]
     },
     "execution_count": 55,
     "metadata": {},
     "output_type": "execute_result"
    }
   ],
   "source": [
    "report=classification_report(submission[\"Survived\"],y_predict, output_dict=True)\n",
    "df_report = pd.DataFrame(report).transpose()\n",
    "df_report"
   ]
  },
  {
   "cell_type": "code",
   "execution_count": 56,
   "id": "55589243",
   "metadata": {
    "execution": {
     "iopub.execute_input": "2023-01-06T21:28:33.109504Z",
     "iopub.status.busy": "2023-01-06T21:28:33.108802Z",
     "iopub.status.idle": "2023-01-06T21:28:33.123326Z",
     "shell.execute_reply": "2023-01-06T21:28:33.122166Z"
    },
    "papermill": {
     "duration": 0.045693,
     "end_time": "2023-01-06T21:28:33.125861",
     "exception": false,
     "start_time": "2023-01-06T21:28:33.080168",
     "status": "completed"
    },
    "tags": []
   },
   "outputs": [
    {
     "data": {
      "text/html": [
       "<div>\n",
       "<style scoped>\n",
       "    .dataframe tbody tr th:only-of-type {\n",
       "        vertical-align: middle;\n",
       "    }\n",
       "\n",
       "    .dataframe tbody tr th {\n",
       "        vertical-align: top;\n",
       "    }\n",
       "\n",
       "    .dataframe thead th {\n",
       "        text-align: right;\n",
       "    }\n",
       "</style>\n",
       "<table border=\"1\" class=\"dataframe\">\n",
       "  <thead>\n",
       "    <tr style=\"text-align: right;\">\n",
       "      <th></th>\n",
       "      <th>Predicted No</th>\n",
       "      <th>Predicted Yes</th>\n",
       "    </tr>\n",
       "  </thead>\n",
       "  <tbody>\n",
       "    <tr>\n",
       "      <th>Actual No</th>\n",
       "      <td>266</td>\n",
       "      <td>0</td>\n",
       "    </tr>\n",
       "    <tr>\n",
       "      <th>Actual Yes</th>\n",
       "      <td>3</td>\n",
       "      <td>149</td>\n",
       "    </tr>\n",
       "  </tbody>\n",
       "</table>\n",
       "</div>"
      ],
      "text/plain": [
       "            Predicted No  Predicted Yes\n",
       "Actual No            266              0\n",
       "Actual Yes             3            149"
      ]
     },
     "execution_count": 56,
     "metadata": {},
     "output_type": "execute_result"
    }
   ],
   "source": [
    "pd.DataFrame(confusion_matrix(submission[\"Survived\"],y_predict),columns=['Predicted No', 'Predicted Yes'],index=['Actual No','Actual Yes'])"
   ]
  },
  {
   "cell_type": "markdown",
   "id": "ddbf52fc",
   "metadata": {
    "papermill": {
     "duration": 0.028383,
     "end_time": "2023-01-06T21:28:33.181258",
     "exception": false,
     "start_time": "2023-01-06T21:28:33.152875",
     "status": "completed"
    },
    "tags": []
   },
   "source": [
    "# Comparing Results"
   ]
  },
  {
   "cell_type": "markdown",
   "id": "81073d83",
   "metadata": {
    "papermill": {
     "duration": 0.027789,
     "end_time": "2023-01-06T21:28:33.236680",
     "exception": false,
     "start_time": "2023-01-06T21:28:33.208891",
     "status": "completed"
    },
    "tags": []
   },
   "source": [
    "### Comparing the Results from the Prediction model with the expected results from Kaggle"
   ]
  },
  {
   "cell_type": "code",
   "execution_count": 57,
   "id": "e6d1f1e7",
   "metadata": {
    "execution": {
     "iopub.execute_input": "2023-01-06T21:28:33.295484Z",
     "iopub.status.busy": "2023-01-06T21:28:33.295043Z",
     "iopub.status.idle": "2023-01-06T21:28:33.300478Z",
     "shell.execute_reply": "2023-01-06T21:28:33.299636Z"
    },
    "papermill": {
     "duration": 0.037768,
     "end_time": "2023-01-06T21:28:33.302761",
     "exception": false,
     "start_time": "2023-01-06T21:28:33.264993",
     "status": "completed"
    },
    "tags": []
   },
   "outputs": [],
   "source": [
    "data = pd.DataFrame(y_predict, columns=['predict_survive'])"
   ]
  },
  {
   "cell_type": "code",
   "execution_count": 58,
   "id": "cd019c51",
   "metadata": {
    "execution": {
     "iopub.execute_input": "2023-01-06T21:28:33.361098Z",
     "iopub.status.busy": "2023-01-06T21:28:33.360164Z",
     "iopub.status.idle": "2023-01-06T21:28:33.375879Z",
     "shell.execute_reply": "2023-01-06T21:28:33.374640Z"
    },
    "papermill": {
     "duration": 0.047995,
     "end_time": "2023-01-06T21:28:33.378954",
     "exception": false,
     "start_time": "2023-01-06T21:28:33.330959",
     "status": "completed"
    },
    "tags": []
   },
   "outputs": [
    {
     "data": {
      "text/html": [
       "<div>\n",
       "<style scoped>\n",
       "    .dataframe tbody tr th:only-of-type {\n",
       "        vertical-align: middle;\n",
       "    }\n",
       "\n",
       "    .dataframe tbody tr th {\n",
       "        vertical-align: top;\n",
       "    }\n",
       "\n",
       "    .dataframe thead th {\n",
       "        text-align: right;\n",
       "    }\n",
       "</style>\n",
       "<table border=\"1\" class=\"dataframe\">\n",
       "  <thead>\n",
       "    <tr style=\"text-align: right;\">\n",
       "      <th></th>\n",
       "      <th>Survived</th>\n",
       "      <th>predict_survive</th>\n",
       "    </tr>\n",
       "  </thead>\n",
       "  <tbody>\n",
       "    <tr>\n",
       "      <th>0</th>\n",
       "      <td>0</td>\n",
       "      <td>0</td>\n",
       "    </tr>\n",
       "    <tr>\n",
       "      <th>1</th>\n",
       "      <td>1</td>\n",
       "      <td>1</td>\n",
       "    </tr>\n",
       "    <tr>\n",
       "      <th>2</th>\n",
       "      <td>0</td>\n",
       "      <td>0</td>\n",
       "    </tr>\n",
       "    <tr>\n",
       "      <th>3</th>\n",
       "      <td>0</td>\n",
       "      <td>0</td>\n",
       "    </tr>\n",
       "    <tr>\n",
       "      <th>4</th>\n",
       "      <td>1</td>\n",
       "      <td>1</td>\n",
       "    </tr>\n",
       "    <tr>\n",
       "      <th>...</th>\n",
       "      <td>...</td>\n",
       "      <td>...</td>\n",
       "    </tr>\n",
       "    <tr>\n",
       "      <th>413</th>\n",
       "      <td>0</td>\n",
       "      <td>0</td>\n",
       "    </tr>\n",
       "    <tr>\n",
       "      <th>414</th>\n",
       "      <td>1</td>\n",
       "      <td>1</td>\n",
       "    </tr>\n",
       "    <tr>\n",
       "      <th>415</th>\n",
       "      <td>0</td>\n",
       "      <td>0</td>\n",
       "    </tr>\n",
       "    <tr>\n",
       "      <th>416</th>\n",
       "      <td>0</td>\n",
       "      <td>0</td>\n",
       "    </tr>\n",
       "    <tr>\n",
       "      <th>417</th>\n",
       "      <td>0</td>\n",
       "      <td>0</td>\n",
       "    </tr>\n",
       "  </tbody>\n",
       "</table>\n",
       "<p>418 rows × 2 columns</p>\n",
       "</div>"
      ],
      "text/plain": [
       "     Survived  predict_survive\n",
       "0           0                0\n",
       "1           1                1\n",
       "2           0                0\n",
       "3           0                0\n",
       "4           1                1\n",
       "..        ...              ...\n",
       "413         0                0\n",
       "414         1                1\n",
       "415         0                0\n",
       "416         0                0\n",
       "417         0                0\n",
       "\n",
       "[418 rows x 2 columns]"
      ]
     },
     "execution_count": 58,
     "metadata": {},
     "output_type": "execute_result"
    }
   ],
   "source": [
    "validation = pd.concat([submission[\"Survived\"],data], axis=1)\n",
    "validation"
   ]
  },
  {
   "cell_type": "code",
   "execution_count": 59,
   "id": "5b2449f6",
   "metadata": {
    "execution": {
     "iopub.execute_input": "2023-01-06T21:28:33.440571Z",
     "iopub.status.busy": "2023-01-06T21:28:33.439418Z",
     "iopub.status.idle": "2023-01-06T21:28:33.454538Z",
     "shell.execute_reply": "2023-01-06T21:28:33.453444Z"
    },
    "papermill": {
     "duration": 0.048775,
     "end_time": "2023-01-06T21:28:33.457169",
     "exception": false,
     "start_time": "2023-01-06T21:28:33.408394",
     "status": "completed"
    },
    "tags": []
   },
   "outputs": [],
   "source": [
    "def result_validation(row):\n",
    "    if row['Survived'] == row['predict_survive']:\n",
    "        return True\n",
    "    else:\n",
    "        return False\n",
    "\n",
    "validation['comparison'] = validation.apply(result_validation, axis=1)"
   ]
  },
  {
   "cell_type": "code",
   "execution_count": 60,
   "id": "b277c120",
   "metadata": {
    "execution": {
     "iopub.execute_input": "2023-01-06T21:28:33.516280Z",
     "iopub.status.busy": "2023-01-06T21:28:33.515681Z",
     "iopub.status.idle": "2023-01-06T21:28:33.520969Z",
     "shell.execute_reply": "2023-01-06T21:28:33.520072Z"
    },
    "papermill": {
     "duration": 0.037503,
     "end_time": "2023-01-06T21:28:33.523322",
     "exception": false,
     "start_time": "2023-01-06T21:28:33.485819",
     "status": "completed"
    },
    "tags": []
   },
   "outputs": [],
   "source": [
    "df_validation = validation.loc[validation['comparison'] == False]"
   ]
  },
  {
   "cell_type": "code",
   "execution_count": 61,
   "id": "7fb284f7",
   "metadata": {
    "execution": {
     "iopub.execute_input": "2023-01-06T21:28:33.583447Z",
     "iopub.status.busy": "2023-01-06T21:28:33.582830Z",
     "iopub.status.idle": "2023-01-06T21:28:33.587007Z",
     "shell.execute_reply": "2023-01-06T21:28:33.586181Z"
    },
    "papermill": {
     "duration": 0.036985,
     "end_time": "2023-01-06T21:28:33.589178",
     "exception": false,
     "start_time": "2023-01-06T21:28:33.552193",
     "status": "completed"
    },
    "tags": []
   },
   "outputs": [],
   "source": [
    "index_list = df_validation.index.tolist()"
   ]
  },
  {
   "cell_type": "code",
   "execution_count": 62,
   "id": "889a196a",
   "metadata": {
    "execution": {
     "iopub.execute_input": "2023-01-06T21:28:33.649376Z",
     "iopub.status.busy": "2023-01-06T21:28:33.648717Z",
     "iopub.status.idle": "2023-01-06T21:28:33.666412Z",
     "shell.execute_reply": "2023-01-06T21:28:33.665222Z"
    },
    "papermill": {
     "duration": 0.050887,
     "end_time": "2023-01-06T21:28:33.669105",
     "exception": false,
     "start_time": "2023-01-06T21:28:33.618218",
     "status": "completed"
    },
    "tags": []
   },
   "outputs": [
    {
     "data": {
      "text/html": [
       "<div>\n",
       "<style scoped>\n",
       "    .dataframe tbody tr th:only-of-type {\n",
       "        vertical-align: middle;\n",
       "    }\n",
       "\n",
       "    .dataframe tbody tr th {\n",
       "        vertical-align: top;\n",
       "    }\n",
       "\n",
       "    .dataframe thead th {\n",
       "        text-align: right;\n",
       "    }\n",
       "</style>\n",
       "<table border=\"1\" class=\"dataframe\">\n",
       "  <thead>\n",
       "    <tr style=\"text-align: right;\">\n",
       "      <th></th>\n",
       "      <th>Age</th>\n",
       "      <th>SibSp</th>\n",
       "      <th>Parch</th>\n",
       "      <th>Gender</th>\n",
       "      <th>Survived</th>\n",
       "      <th>predict_survive</th>\n",
       "      <th>comparison</th>\n",
       "    </tr>\n",
       "  </thead>\n",
       "  <tbody>\n",
       "    <tr>\n",
       "      <th>214</th>\n",
       "      <td>38.0</td>\n",
       "      <td>4</td>\n",
       "      <td>2</td>\n",
       "      <td>0</td>\n",
       "      <td>1</td>\n",
       "      <td>0</td>\n",
       "      <td>False</td>\n",
       "    </tr>\n",
       "    <tr>\n",
       "      <th>140</th>\n",
       "      <td>10.0</td>\n",
       "      <td>5</td>\n",
       "      <td>2</td>\n",
       "      <td>0</td>\n",
       "      <td>1</td>\n",
       "      <td>0</td>\n",
       "      <td>False</td>\n",
       "    </tr>\n",
       "    <tr>\n",
       "      <th>188</th>\n",
       "      <td>24.0</td>\n",
       "      <td>8</td>\n",
       "      <td>2</td>\n",
       "      <td>0</td>\n",
       "      <td>1</td>\n",
       "      <td>0</td>\n",
       "      <td>False</td>\n",
       "    </tr>\n",
       "  </tbody>\n",
       "</table>\n",
       "</div>"
      ],
      "text/plain": [
       "      Age  SibSp  Parch  Gender  Survived  predict_survive  comparison\n",
       "214  38.0      4      2       0         1                0       False\n",
       "140  10.0      5      2       0         1                0       False\n",
       "188  24.0      8      2       0         1                0       False"
      ]
     },
     "execution_count": 62,
     "metadata": {},
     "output_type": "execute_result"
    }
   ],
   "source": [
    "df_comp_result = x_test.iloc[index_list]\n",
    "df_comp_result = pd.concat([df_comp_result, df_validation], axis=1)\n",
    "df_comp_result.sort_values(by=['SibSp', 'Parch', 'Gender'])"
   ]
  },
  {
   "cell_type": "markdown",
   "id": "f27fe019",
   "metadata": {
    "papermill": {
     "duration": 0.030469,
     "end_time": "2023-01-06T21:28:33.728966",
     "exception": false,
     "start_time": "2023-01-06T21:28:33.698497",
     "status": "completed"
    },
    "tags": []
   },
   "source": [
    "# Creating an Output File"
   ]
  },
  {
   "cell_type": "code",
   "execution_count": 63,
   "id": "de91b29a",
   "metadata": {
    "execution": {
     "iopub.execute_input": "2023-01-06T21:28:33.788865Z",
     "iopub.status.busy": "2023-01-06T21:28:33.788405Z",
     "iopub.status.idle": "2023-01-06T21:28:33.794606Z",
     "shell.execute_reply": "2023-01-06T21:28:33.793396Z"
    },
    "papermill": {
     "duration": 0.038922,
     "end_time": "2023-01-06T21:28:33.797193",
     "exception": false,
     "start_time": "2023-01-06T21:28:33.758271",
     "status": "completed"
    },
    "tags": []
   },
   "outputs": [],
   "source": [
    "data = pd.DataFrame(y_predict, columns=['survived'])"
   ]
  },
  {
   "cell_type": "code",
   "execution_count": 64,
   "id": "dfdb25f9",
   "metadata": {
    "execution": {
     "iopub.execute_input": "2023-01-06T21:28:33.858301Z",
     "iopub.status.busy": "2023-01-06T21:28:33.857399Z",
     "iopub.status.idle": "2023-01-06T21:28:33.873223Z",
     "shell.execute_reply": "2023-01-06T21:28:33.871902Z"
    },
    "papermill": {
     "duration": 0.04934,
     "end_time": "2023-01-06T21:28:33.876327",
     "exception": false,
     "start_time": "2023-01-06T21:28:33.826987",
     "status": "completed"
    },
    "tags": []
   },
   "outputs": [
    {
     "data": {
      "text/html": [
       "<div>\n",
       "<style scoped>\n",
       "    .dataframe tbody tr th:only-of-type {\n",
       "        vertical-align: middle;\n",
       "    }\n",
       "\n",
       "    .dataframe tbody tr th {\n",
       "        vertical-align: top;\n",
       "    }\n",
       "\n",
       "    .dataframe thead th {\n",
       "        text-align: right;\n",
       "    }\n",
       "</style>\n",
       "<table border=\"1\" class=\"dataframe\">\n",
       "  <thead>\n",
       "    <tr style=\"text-align: right;\">\n",
       "      <th></th>\n",
       "      <th>Age</th>\n",
       "      <th>SibSp</th>\n",
       "      <th>Parch</th>\n",
       "      <th>Gender</th>\n",
       "    </tr>\n",
       "  </thead>\n",
       "  <tbody>\n",
       "    <tr>\n",
       "      <th>0</th>\n",
       "      <td>34.5</td>\n",
       "      <td>0</td>\n",
       "      <td>0</td>\n",
       "      <td>1</td>\n",
       "    </tr>\n",
       "    <tr>\n",
       "      <th>1</th>\n",
       "      <td>47.0</td>\n",
       "      <td>1</td>\n",
       "      <td>0</td>\n",
       "      <td>0</td>\n",
       "    </tr>\n",
       "    <tr>\n",
       "      <th>2</th>\n",
       "      <td>62.0</td>\n",
       "      <td>0</td>\n",
       "      <td>0</td>\n",
       "      <td>1</td>\n",
       "    </tr>\n",
       "    <tr>\n",
       "      <th>3</th>\n",
       "      <td>27.0</td>\n",
       "      <td>0</td>\n",
       "      <td>0</td>\n",
       "      <td>1</td>\n",
       "    </tr>\n",
       "    <tr>\n",
       "      <th>4</th>\n",
       "      <td>22.0</td>\n",
       "      <td>1</td>\n",
       "      <td>1</td>\n",
       "      <td>0</td>\n",
       "    </tr>\n",
       "    <tr>\n",
       "      <th>...</th>\n",
       "      <td>...</td>\n",
       "      <td>...</td>\n",
       "      <td>...</td>\n",
       "      <td>...</td>\n",
       "    </tr>\n",
       "    <tr>\n",
       "      <th>413</th>\n",
       "      <td>24.0</td>\n",
       "      <td>0</td>\n",
       "      <td>0</td>\n",
       "      <td>1</td>\n",
       "    </tr>\n",
       "    <tr>\n",
       "      <th>414</th>\n",
       "      <td>39.0</td>\n",
       "      <td>0</td>\n",
       "      <td>0</td>\n",
       "      <td>0</td>\n",
       "    </tr>\n",
       "    <tr>\n",
       "      <th>415</th>\n",
       "      <td>38.5</td>\n",
       "      <td>0</td>\n",
       "      <td>0</td>\n",
       "      <td>1</td>\n",
       "    </tr>\n",
       "    <tr>\n",
       "      <th>416</th>\n",
       "      <td>24.0</td>\n",
       "      <td>0</td>\n",
       "      <td>0</td>\n",
       "      <td>1</td>\n",
       "    </tr>\n",
       "    <tr>\n",
       "      <th>417</th>\n",
       "      <td>24.0</td>\n",
       "      <td>1</td>\n",
       "      <td>1</td>\n",
       "      <td>1</td>\n",
       "    </tr>\n",
       "  </tbody>\n",
       "</table>\n",
       "<p>418 rows × 4 columns</p>\n",
       "</div>"
      ],
      "text/plain": [
       "      Age  SibSp  Parch  Gender\n",
       "0    34.5      0      0       1\n",
       "1    47.0      1      0       0\n",
       "2    62.0      0      0       1\n",
       "3    27.0      0      0       1\n",
       "4    22.0      1      1       0\n",
       "..    ...    ...    ...     ...\n",
       "413  24.0      0      0       1\n",
       "414  39.0      0      0       0\n",
       "415  38.5      0      0       1\n",
       "416  24.0      0      0       1\n",
       "417  24.0      1      1       1\n",
       "\n",
       "[418 rows x 4 columns]"
      ]
     },
     "execution_count": 64,
     "metadata": {},
     "output_type": "execute_result"
    }
   ],
   "source": [
    "x_test"
   ]
  },
  {
   "cell_type": "code",
   "execution_count": 65,
   "id": "23beb0b3",
   "metadata": {
    "execution": {
     "iopub.execute_input": "2023-01-06T21:28:33.934372Z",
     "iopub.status.busy": "2023-01-06T21:28:33.933953Z",
     "iopub.status.idle": "2023-01-06T21:28:33.943000Z",
     "shell.execute_reply": "2023-01-06T21:28:33.941959Z"
    },
    "papermill": {
     "duration": 0.040921,
     "end_time": "2023-01-06T21:28:33.945377",
     "exception": false,
     "start_time": "2023-01-06T21:28:33.904456",
     "status": "completed"
    },
    "tags": []
   },
   "outputs": [
    {
     "data": {
      "text/plain": [
       "array([0, 1, 0, 0, 1, 0, 1, 0, 1, 0, 0, 0, 1, 0, 1, 1, 0, 0, 1, 1, 0, 0,\n",
       "       1, 0, 1, 0, 1, 0, 0, 0, 0, 0, 1, 1, 0, 0, 1, 1, 0, 0, 0, 0, 0, 1,\n",
       "       1, 0, 0, 0, 1, 1, 0, 0, 1, 1, 0, 0, 0, 0, 0, 1, 0, 0, 0, 1, 0, 1,\n",
       "       1, 0, 0, 1, 1, 0, 1, 0, 1, 0, 0, 1, 0, 1, 0, 0, 0, 0, 0, 0, 1, 1,\n",
       "       1, 0, 1, 0, 1, 0, 0, 0, 1, 0, 1, 0, 1, 0, 0, 0, 1, 0, 0, 0, 0, 0,\n",
       "       0, 1, 1, 1, 1, 0, 0, 1, 0, 1, 1, 0, 1, 0, 0, 1, 0, 1, 0, 0, 0, 0,\n",
       "       1, 0, 0, 0, 0, 0, 1, 0, 0, 1, 0, 0, 0, 0, 0, 0, 0, 0, 1, 0, 0, 1,\n",
       "       0, 0, 1, 1, 0, 1, 1, 0, 1, 0, 0, 1, 0, 0, 1, 1, 0, 0, 0, 0, 0, 1,\n",
       "       1, 0, 1, 1, 0, 0, 1, 0, 1, 0, 1, 0, 0, 0, 0, 0, 0, 0, 0, 0, 0, 1,\n",
       "       0, 1, 1, 0, 0, 1, 0, 0, 1, 0, 1, 0, 0, 0, 0, 1, 0, 0, 1, 0, 1, 0,\n",
       "       1, 0, 1, 0, 1, 1, 0, 1, 0, 0, 0, 1, 0, 0, 0, 0, 0, 0, 1, 1, 1, 1,\n",
       "       0, 0, 0, 0, 1, 0, 1, 1, 1, 0, 0, 0, 0, 0, 0, 0, 1, 0, 0, 0, 1, 1,\n",
       "       0, 0, 0, 0, 1, 0, 0, 0, 1, 1, 0, 1, 0, 0, 0, 0, 1, 0, 1, 1, 1, 0,\n",
       "       0, 0, 0, 0, 0, 1, 0, 0, 0, 0, 1, 0, 0, 0, 0, 0, 0, 0, 1, 1, 0, 0,\n",
       "       0, 1, 0, 0, 0, 1, 1, 1, 0, 0, 0, 0, 0, 0, 0, 0, 1, 0, 1, 0, 0, 0,\n",
       "       1, 0, 0, 1, 0, 0, 0, 0, 0, 0, 0, 0, 0, 1, 0, 1, 0, 1, 0, 1, 1, 0,\n",
       "       0, 0, 1, 0, 1, 0, 0, 1, 0, 1, 1, 0, 1, 1, 0, 1, 1, 0, 0, 1, 0, 0,\n",
       "       1, 1, 1, 0, 0, 0, 0, 0, 1, 1, 0, 1, 0, 0, 0, 0, 0, 1, 0, 0, 0, 1,\n",
       "       0, 1, 0, 0, 1, 0, 1, 0, 0, 0, 0, 0, 1, 1, 1, 1, 1, 0, 1, 0, 0, 0])"
      ]
     },
     "execution_count": 65,
     "metadata": {},
     "output_type": "execute_result"
    }
   ],
   "source": [
    "y_predict"
   ]
  },
  {
   "cell_type": "code",
   "execution_count": 66,
   "id": "8ac8fa6a",
   "metadata": {
    "execution": {
     "iopub.execute_input": "2023-01-06T21:28:34.005918Z",
     "iopub.status.busy": "2023-01-06T21:28:34.005330Z",
     "iopub.status.idle": "2023-01-06T21:28:34.011479Z",
     "shell.execute_reply": "2023-01-06T21:28:34.009780Z"
    },
    "papermill": {
     "duration": 0.039816,
     "end_time": "2023-01-06T21:28:34.014215",
     "exception": false,
     "start_time": "2023-01-06T21:28:33.974399",
     "status": "completed"
    },
    "tags": []
   },
   "outputs": [],
   "source": [
    "data2 = df_test_to_result"
   ]
  },
  {
   "cell_type": "code",
   "execution_count": 67,
   "id": "871966e7",
   "metadata": {
    "execution": {
     "iopub.execute_input": "2023-01-06T21:28:34.073917Z",
     "iopub.status.busy": "2023-01-06T21:28:34.073450Z",
     "iopub.status.idle": "2023-01-06T21:28:34.089101Z",
     "shell.execute_reply": "2023-01-06T21:28:34.088075Z"
    },
    "papermill": {
     "duration": 0.048836,
     "end_time": "2023-01-06T21:28:34.091405",
     "exception": false,
     "start_time": "2023-01-06T21:28:34.042569",
     "status": "completed"
    },
    "tags": []
   },
   "outputs": [
    {
     "data": {
      "text/html": [
       "<div>\n",
       "<style scoped>\n",
       "    .dataframe tbody tr th:only-of-type {\n",
       "        vertical-align: middle;\n",
       "    }\n",
       "\n",
       "    .dataframe tbody tr th {\n",
       "        vertical-align: top;\n",
       "    }\n",
       "\n",
       "    .dataframe thead th {\n",
       "        text-align: right;\n",
       "    }\n",
       "</style>\n",
       "<table border=\"1\" class=\"dataframe\">\n",
       "  <thead>\n",
       "    <tr style=\"text-align: right;\">\n",
       "      <th></th>\n",
       "      <th>PassengerId</th>\n",
       "      <th>survived</th>\n",
       "    </tr>\n",
       "  </thead>\n",
       "  <tbody>\n",
       "    <tr>\n",
       "      <th>0</th>\n",
       "      <td>892</td>\n",
       "      <td>0</td>\n",
       "    </tr>\n",
       "    <tr>\n",
       "      <th>1</th>\n",
       "      <td>893</td>\n",
       "      <td>1</td>\n",
       "    </tr>\n",
       "    <tr>\n",
       "      <th>2</th>\n",
       "      <td>894</td>\n",
       "      <td>0</td>\n",
       "    </tr>\n",
       "    <tr>\n",
       "      <th>3</th>\n",
       "      <td>895</td>\n",
       "      <td>0</td>\n",
       "    </tr>\n",
       "    <tr>\n",
       "      <th>4</th>\n",
       "      <td>896</td>\n",
       "      <td>1</td>\n",
       "    </tr>\n",
       "    <tr>\n",
       "      <th>...</th>\n",
       "      <td>...</td>\n",
       "      <td>...</td>\n",
       "    </tr>\n",
       "    <tr>\n",
       "      <th>413</th>\n",
       "      <td>1305</td>\n",
       "      <td>0</td>\n",
       "    </tr>\n",
       "    <tr>\n",
       "      <th>414</th>\n",
       "      <td>1306</td>\n",
       "      <td>1</td>\n",
       "    </tr>\n",
       "    <tr>\n",
       "      <th>415</th>\n",
       "      <td>1307</td>\n",
       "      <td>0</td>\n",
       "    </tr>\n",
       "    <tr>\n",
       "      <th>416</th>\n",
       "      <td>1308</td>\n",
       "      <td>0</td>\n",
       "    </tr>\n",
       "    <tr>\n",
       "      <th>417</th>\n",
       "      <td>1309</td>\n",
       "      <td>0</td>\n",
       "    </tr>\n",
       "  </tbody>\n",
       "</table>\n",
       "<p>418 rows × 2 columns</p>\n",
       "</div>"
      ],
      "text/plain": [
       "     PassengerId  survived\n",
       "0            892         0\n",
       "1            893         1\n",
       "2            894         0\n",
       "3            895         0\n",
       "4            896         1\n",
       "..           ...       ...\n",
       "413         1305         0\n",
       "414         1306         1\n",
       "415         1307         0\n",
       "416         1308         0\n",
       "417         1309         0\n",
       "\n",
       "[418 rows x 2 columns]"
      ]
     },
     "execution_count": 67,
     "metadata": {},
     "output_type": "execute_result"
    }
   ],
   "source": [
    "result = pd.concat([data2, data],axis=1)\n",
    "result"
   ]
  },
  {
   "cell_type": "code",
   "execution_count": 68,
   "id": "d58ff535",
   "metadata": {
    "execution": {
     "iopub.execute_input": "2023-01-06T21:28:34.149881Z",
     "iopub.status.busy": "2023-01-06T21:28:34.149350Z",
     "iopub.status.idle": "2023-01-06T21:28:34.159869Z",
     "shell.execute_reply": "2023-01-06T21:28:34.158549Z"
    },
    "papermill": {
     "duration": 0.04303,
     "end_time": "2023-01-06T21:28:34.162640",
     "exception": false,
     "start_time": "2023-01-06T21:28:34.119610",
     "status": "completed"
    },
    "tags": []
   },
   "outputs": [],
   "source": [
    "result.to_csv('kaggle_titanic_3.csv',index=False)"
   ]
  }
 ],
 "metadata": {
  "kernelspec": {
   "display_name": "Python 3",
   "language": "python",
   "name": "python3"
  },
  "language_info": {
   "codemirror_mode": {
    "name": "ipython",
    "version": 3
   },
   "file_extension": ".py",
   "mimetype": "text/x-python",
   "name": "python",
   "nbconvert_exporter": "python",
   "pygments_lexer": "ipython3",
   "version": "3.7.12"
  },
  "papermill": {
   "default_parameters": {},
   "duration": 24.514413,
   "end_time": "2023-01-06T21:28:35.115396",
   "environment_variables": {},
   "exception": null,
   "input_path": "__notebook__.ipynb",
   "output_path": "__notebook__.ipynb",
   "parameters": {},
   "start_time": "2023-01-06T21:28:10.600983",
   "version": "2.3.4"
  }
 },
 "nbformat": 4,
 "nbformat_minor": 5
}
