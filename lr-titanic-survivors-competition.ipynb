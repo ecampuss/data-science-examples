{
 "cells": [
  {
   "cell_type": "code",
   "execution_count": 1,
   "id": "3d6078d8",
   "metadata": {
    "_cell_guid": "b1076dfc-b9ad-4769-8c92-a6c4dae69d19",
    "_uuid": "8f2839f25d086af736a60e9eeb907d3b93b6e0e5",
    "execution": {
     "iopub.execute_input": "2023-01-02T20:21:27.273818Z",
     "iopub.status.busy": "2023-01-02T20:21:27.273347Z",
     "iopub.status.idle": "2023-01-02T20:21:27.287677Z",
     "shell.execute_reply": "2023-01-02T20:21:27.286523Z"
    },
    "papermill": {
     "duration": 0.042299,
     "end_time": "2023-01-02T20:21:27.290214",
     "exception": false,
     "start_time": "2023-01-02T20:21:27.247915",
     "status": "completed"
    },
    "tags": []
   },
   "outputs": [
    {
     "name": "stdout",
     "output_type": "stream",
     "text": [
      "/kaggle/input/titanic/train.csv\n",
      "/kaggle/input/titanic/test.csv\n",
      "/kaggle/input/titanic/gender_submission.csv\n"
     ]
    }
   ],
   "source": [
    "# This Python 3 environment comes with many helpful analytics libraries installed\n",
    "# It is defined by the kaggle/python Docker image: https://github.com/kaggle/docker-python\n",
    "# For example, here's several helpful packages to load\n",
    "\n",
    "import numpy as np # linear algebra\n",
    "import pandas as pd # data processing, CSV file I/O (e.g. pd.read_csv)\n",
    "\n",
    "# Input data files are available in the read-only \"../input/\" directory\n",
    "# For example, running this (by clicking run or pressing Shift+Enter) will list all files under the input directory\n",
    "\n",
    "import os\n",
    "for dirname, _, filenames in os.walk('/kaggle/input'):\n",
    "    for filename in filenames:\n",
    "        print(os.path.join(dirname, filename))\n",
    "\n",
    "# You can write up to 20GB to the current directory (/kaggle/working/) that gets preserved as output when you create a version using \"Save & Run All\" \n",
    "# You can also write temporary files to /kaggle/temp/, but they won't be saved outside of the current session"
   ]
  },
  {
   "cell_type": "markdown",
   "id": "77833a62",
   "metadata": {
    "papermill": {
     "duration": 0.019834,
     "end_time": "2023-01-02T20:21:27.329613",
     "exception": false,
     "start_time": "2023-01-02T20:21:27.309779",
     "status": "completed"
    },
    "tags": []
   },
   "source": [
    "# Importing Libraries"
   ]
  },
  {
   "cell_type": "code",
   "execution_count": 2,
   "id": "2ffaf27a",
   "metadata": {
    "execution": {
     "iopub.execute_input": "2023-01-02T20:21:27.373286Z",
     "iopub.status.busy": "2023-01-02T20:21:27.372174Z",
     "iopub.status.idle": "2023-01-02T20:21:28.730560Z",
     "shell.execute_reply": "2023-01-02T20:21:28.728888Z"
    },
    "papermill": {
     "duration": 1.383355,
     "end_time": "2023-01-02T20:21:28.733759",
     "exception": false,
     "start_time": "2023-01-02T20:21:27.350404",
     "status": "completed"
    },
    "tags": []
   },
   "outputs": [],
   "source": [
    "import pandas as pd\n",
    "import numpy as np\n",
    "import seaborn as sns\n",
    "from sklearn.linear_model import LogisticRegression\n",
    "from sklearn.metrics import confusion_matrix, accuracy_score, classification_report"
   ]
  },
  {
   "cell_type": "markdown",
   "id": "872db792",
   "metadata": {
    "papermill": {
     "duration": 0.017828,
     "end_time": "2023-01-02T20:21:28.772506",
     "exception": false,
     "start_time": "2023-01-02T20:21:28.754678",
     "status": "completed"
    },
    "tags": []
   },
   "source": [
    "# Loading the DataFrames"
   ]
  },
  {
   "cell_type": "markdown",
   "id": "7f7071bb",
   "metadata": {
    "papermill": {
     "duration": 0.018362,
     "end_time": "2023-01-02T20:21:28.810215",
     "exception": false,
     "start_time": "2023-01-02T20:21:28.791853",
     "status": "completed"
    },
    "tags": []
   },
   "source": [
    "### Reading the file and converting to a DataFrame"
   ]
  },
  {
   "cell_type": "code",
   "execution_count": 3,
   "id": "09ec240a",
   "metadata": {
    "execution": {
     "iopub.execute_input": "2023-01-02T20:21:28.849702Z",
     "iopub.status.busy": "2023-01-02T20:21:28.849041Z",
     "iopub.status.idle": "2023-01-02T20:21:28.887267Z",
     "shell.execute_reply": "2023-01-02T20:21:28.886092Z"
    },
    "papermill": {
     "duration": 0.061852,
     "end_time": "2023-01-02T20:21:28.890945",
     "exception": false,
     "start_time": "2023-01-02T20:21:28.829093",
     "status": "completed"
    },
    "tags": []
   },
   "outputs": [],
   "source": [
    "df_train = pd.read_csv('/kaggle/input/titanic/train.csv')\n",
    "df_test = pd.read_csv('/kaggle/input/titanic/test.csv')\n",
    "submission = pd.read_csv(\"/kaggle/input/titanic/gender_submission.csv\")"
   ]
  },
  {
   "cell_type": "markdown",
   "id": "ec4cc1ce",
   "metadata": {
    "papermill": {
     "duration": 0.027209,
     "end_time": "2023-01-02T20:21:28.947670",
     "exception": false,
     "start_time": "2023-01-02T20:21:28.920461",
     "status": "completed"
    },
    "tags": []
   },
   "source": [
    "# # Transforming the Training DataFrame"
   ]
  },
  {
   "cell_type": "markdown",
   "id": "8e9716f5",
   "metadata": {
    "papermill": {
     "duration": 0.027586,
     "end_time": "2023-01-02T20:21:29.004518",
     "exception": false,
     "start_time": "2023-01-02T20:21:28.976932",
     "status": "completed"
    },
    "tags": []
   },
   "source": [
    "### Checking the Number of Columns with NULL values"
   ]
  },
  {
   "cell_type": "code",
   "execution_count": 4,
   "id": "a48b0a3d",
   "metadata": {
    "execution": {
     "iopub.execute_input": "2023-01-02T20:21:29.050071Z",
     "iopub.status.busy": "2023-01-02T20:21:29.049123Z",
     "iopub.status.idle": "2023-01-02T20:21:29.543861Z",
     "shell.execute_reply": "2023-01-02T20:21:29.542603Z"
    },
    "papermill": {
     "duration": 0.517752,
     "end_time": "2023-01-02T20:21:29.546389",
     "exception": false,
     "start_time": "2023-01-02T20:21:29.028637",
     "status": "completed"
    },
    "tags": []
   },
   "outputs": [
    {
     "data": {
      "text/plain": [
       "<AxesSubplot:>"
      ]
     },
     "execution_count": 4,
     "metadata": {},
     "output_type": "execute_result"
    },
    {
     "data": {
      "image/png": "[encoded data removed]",
      "text/plain": [
       "<Figure size 432x288 with 2 Axes>"
      ]
     },
     "metadata": {
      "needs_background": "light"
     },
     "output_type": "display_data"
    }
   ],
   "source": [
    "sns.heatmap(df_train.isna())"
   ]
  },
  {
   "cell_type": "markdown",
   "id": "f9d3c35f",
   "metadata": {
    "papermill": {
     "duration": 0.019983,
     "end_time": "2023-01-02T20:21:29.586542",
     "exception": false,
     "start_time": "2023-01-02T20:21:29.566559",
     "status": "completed"
    },
    "tags": []
   },
   "source": [
    "### Removing the NULL values from 'Age' column"
   ]
  },
  {
   "cell_type": "code",
   "execution_count": 5,
   "id": "f32c9ba6",
   "metadata": {
    "execution": {
     "iopub.execute_input": "2023-01-02T20:21:29.627677Z",
     "iopub.status.busy": "2023-01-02T20:21:29.627289Z",
     "iopub.status.idle": "2023-01-02T20:21:29.636840Z",
     "shell.execute_reply": "2023-01-02T20:21:29.635523Z"
    },
    "papermill": {
     "duration": 0.033489,
     "end_time": "2023-01-02T20:21:29.639607",
     "exception": false,
     "start_time": "2023-01-02T20:21:29.606118",
     "status": "completed"
    },
    "tags": []
   },
   "outputs": [
    {
     "name": "stdout",
     "output_type": "stream",
     "text": [
      "The percentage of NULLs in Training DataFrame Age column is: 19.87 %\n"
     ]
    }
   ],
   "source": [
    "print('The percentage of NULLs in Training DataFrame Age column is: {:.2f} %'.format((df_train['Age'].isna().sum()/len(df_train['Age']))*100))"
   ]
  },
  {
   "cell_type": "code",
   "execution_count": 6,
   "id": "18855f83",
   "metadata": {
    "execution": {
     "iopub.execute_input": "2023-01-02T20:21:29.681252Z",
     "iopub.status.busy": "2023-01-02T20:21:29.680839Z",
     "iopub.status.idle": "2023-01-02T20:21:29.705308Z",
     "shell.execute_reply": "2023-01-02T20:21:29.704026Z"
    },
    "papermill": {
     "duration": 0.048213,
     "end_time": "2023-01-02T20:21:29.707810",
     "exception": false,
     "start_time": "2023-01-02T20:21:29.659597",
     "status": "completed"
    },
    "tags": []
   },
   "outputs": [
    {
     "data": {
      "text/html": [
       "<div>\n",
       "<style scoped>\n",
       "    .dataframe tbody tr th:only-of-type {\n",
       "        vertical-align: middle;\n",
       "    }\n",
       "\n",
       "    .dataframe tbody tr th {\n",
       "        vertical-align: top;\n",
       "    }\n",
       "\n",
       "    .dataframe thead th {\n",
       "        text-align: right;\n",
       "    }\n",
       "</style>\n",
       "<table border=\"1\" class=\"dataframe\">\n",
       "  <thead>\n",
       "    <tr style=\"text-align: right;\">\n",
       "      <th></th>\n",
       "      <th>Correlation</th>\n",
       "    </tr>\n",
       "  </thead>\n",
       "  <tbody>\n",
       "    <tr>\n",
       "      <th>Pclass</th>\n",
       "      <td>-0.369226</td>\n",
       "    </tr>\n",
       "    <tr>\n",
       "      <th>SibSp</th>\n",
       "      <td>-0.308247</td>\n",
       "    </tr>\n",
       "    <tr>\n",
       "      <th>Parch</th>\n",
       "      <td>-0.189119</td>\n",
       "    </tr>\n",
       "    <tr>\n",
       "      <th>Survived</th>\n",
       "      <td>-0.077221</td>\n",
       "    </tr>\n",
       "    <tr>\n",
       "      <th>PassengerId</th>\n",
       "      <td>0.036847</td>\n",
       "    </tr>\n",
       "    <tr>\n",
       "      <th>Fare</th>\n",
       "      <td>0.096067</td>\n",
       "    </tr>\n",
       "  </tbody>\n",
       "</table>\n",
       "</div>"
      ],
      "text/plain": [
       "             Correlation\n",
       "Pclass         -0.369226\n",
       "SibSp          -0.308247\n",
       "Parch          -0.189119\n",
       "Survived       -0.077221\n",
       "PassengerId     0.036847\n",
       "Fare            0.096067"
      ]
     },
     "execution_count": 6,
     "metadata": {},
     "output_type": "execute_result"
    }
   ],
   "source": [
    "train_age_corr = df_train.corr()['Age'].sort_values()\n",
    "train_age_corr.drop('Age', inplace=True)\n",
    "df_train_corr = pd.DataFrame(train_age_corr.values, columns=['Correlation'], index=train_age_corr.keys())\n",
    "df_train_corr.sort_values('Correlation')"
   ]
  },
  {
   "cell_type": "code",
   "execution_count": 7,
   "id": "8a6d9e37",
   "metadata": {
    "execution": {
     "iopub.execute_input": "2023-01-02T20:21:29.748505Z",
     "iopub.status.busy": "2023-01-02T20:21:29.748088Z",
     "iopub.status.idle": "2023-01-02T20:21:29.760521Z",
     "shell.execute_reply": "2023-01-02T20:21:29.759214Z"
    },
    "papermill": {
     "duration": 0.036135,
     "end_time": "2023-01-02T20:21:29.763332",
     "exception": false,
     "start_time": "2023-01-02T20:21:29.727197",
     "status": "completed"
    },
    "tags": []
   },
   "outputs": [
    {
     "data": {
      "text/plain": [
       "Pclass\n",
       "1    37.0\n",
       "2    29.0\n",
       "3    24.0\n",
       "Name: Age, dtype: float64"
      ]
     },
     "execution_count": 7,
     "metadata": {},
     "output_type": "execute_result"
    }
   ],
   "source": [
    "df_train.groupby('Pclass')['Age'].median()"
   ]
  },
  {
   "cell_type": "code",
   "execution_count": 8,
   "id": "b8a6fb02",
   "metadata": {
    "execution": {
     "iopub.execute_input": "2023-01-02T20:21:29.805629Z",
     "iopub.status.busy": "2023-01-02T20:21:29.804472Z",
     "iopub.status.idle": "2023-01-02T20:21:29.818119Z",
     "shell.execute_reply": "2023-01-02T20:21:29.817143Z"
    },
    "papermill": {
     "duration": 0.036941,
     "end_time": "2023-01-02T20:21:29.820734",
     "exception": false,
     "start_time": "2023-01-02T20:21:29.783793",
     "status": "completed"
    },
    "tags": []
   },
   "outputs": [],
   "source": [
    "df_train['Age'] = df_train.groupby('Pclass')['Age'].transform(lambda row : row.fillna(row.median()))"
   ]
  },
  {
   "cell_type": "code",
   "execution_count": 9,
   "id": "20204380",
   "metadata": {
    "execution": {
     "iopub.execute_input": "2023-01-02T20:21:29.861758Z",
     "iopub.status.busy": "2023-01-02T20:21:29.860748Z",
     "iopub.status.idle": "2023-01-02T20:21:30.307174Z",
     "shell.execute_reply": "2023-01-02T20:21:30.305813Z"
    },
    "papermill": {
     "duration": 0.469983,
     "end_time": "2023-01-02T20:21:30.309929",
     "exception": false,
     "start_time": "2023-01-02T20:21:29.839946",
     "status": "completed"
    },
    "tags": []
   },
   "outputs": [
    {
     "data": {
      "text/plain": [
       "<AxesSubplot:>"
      ]
     },
     "execution_count": 9,
     "metadata": {},
     "output_type": "execute_result"
    },
    {
     "data": {
      "image/png": "[encoded data removed]",
      "text/plain": [
       "<Figure size 432x288 with 2 Axes>"
      ]
     },
     "metadata": {
      "needs_background": "light"
     },
     "output_type": "display_data"
    }
   ],
   "source": [
    "sns.heatmap(df_train.isna())"
   ]
  },
  {
   "cell_type": "markdown",
   "id": "913c21ea",
   "metadata": {
    "papermill": {
     "duration": 0.019689,
     "end_time": "2023-01-02T20:21:30.349699",
     "exception": false,
     "start_time": "2023-01-02T20:21:30.330010",
     "status": "completed"
    },
    "tags": []
   },
   "source": [
    "### Removing the NULL values from 'Cabin' column"
   ]
  },
  {
   "cell_type": "code",
   "execution_count": 10,
   "id": "2623137c",
   "metadata": {
    "execution": {
     "iopub.execute_input": "2023-01-02T20:21:30.390729Z",
     "iopub.status.busy": "2023-01-02T20:21:30.390337Z",
     "iopub.status.idle": "2023-01-02T20:21:30.397550Z",
     "shell.execute_reply": "2023-01-02T20:21:30.396182Z"
    },
    "papermill": {
     "duration": 0.030986,
     "end_time": "2023-01-02T20:21:30.400191",
     "exception": false,
     "start_time": "2023-01-02T20:21:30.369205",
     "status": "completed"
    },
    "tags": []
   },
   "outputs": [
    {
     "name": "stdout",
     "output_type": "stream",
     "text": [
      "The percentage of NULLs in Training DataFrame Cabin column is: 77.10 %\n"
     ]
    }
   ],
   "source": [
    "print('The percentage of NULLs in Training DataFrame Cabin column is: {:.2f} %'.format((df_train['Cabin'].isna().sum()/len(df_train['Cabin']))*100))"
   ]
  },
  {
   "cell_type": "code",
   "execution_count": 11,
   "id": "9511a50e",
   "metadata": {
    "execution": {
     "iopub.execute_input": "2023-01-02T20:21:30.441376Z",
     "iopub.status.busy": "2023-01-02T20:21:30.440917Z",
     "iopub.status.idle": "2023-01-02T20:21:30.446789Z",
     "shell.execute_reply": "2023-01-02T20:21:30.445856Z"
    },
    "papermill": {
     "duration": 0.029273,
     "end_time": "2023-01-02T20:21:30.449108",
     "exception": false,
     "start_time": "2023-01-02T20:21:30.419835",
     "status": "completed"
    },
    "tags": []
   },
   "outputs": [],
   "source": [
    "df_train.drop('Cabin',axis=1,inplace=True)"
   ]
  },
  {
   "cell_type": "code",
   "execution_count": 12,
   "id": "f71838e7",
   "metadata": {
    "execution": {
     "iopub.execute_input": "2023-01-02T20:21:30.490553Z",
     "iopub.status.busy": "2023-01-02T20:21:30.490121Z",
     "iopub.status.idle": "2023-01-02T20:21:30.504295Z",
     "shell.execute_reply": "2023-01-02T20:21:30.503052Z"
    },
    "papermill": {
     "duration": 0.03807,
     "end_time": "2023-01-02T20:21:30.507283",
     "exception": false,
     "start_time": "2023-01-02T20:21:30.469213",
     "status": "completed"
    },
    "tags": []
   },
   "outputs": [
    {
     "data": {
      "text/plain": [
       "PassengerId    0\n",
       "Survived       0\n",
       "Pclass         0\n",
       "Name           0\n",
       "Sex            0\n",
       "Age            0\n",
       "SibSp          0\n",
       "Parch          0\n",
       "Ticket         0\n",
       "Fare           0\n",
       "Embarked       2\n",
       "dtype: int64"
      ]
     },
     "execution_count": 12,
     "metadata": {},
     "output_type": "execute_result"
    }
   ],
   "source": [
    "df_train.isna().sum()"
   ]
  },
  {
   "cell_type": "markdown",
   "id": "5b4b5f5a",
   "metadata": {
    "papermill": {
     "duration": 0.023357,
     "end_time": "2023-01-02T20:21:30.552792",
     "exception": false,
     "start_time": "2023-01-02T20:21:30.529435",
     "status": "completed"
    },
    "tags": []
   },
   "source": [
    "### Removing the NULL values from 'Embarked' column"
   ]
  },
  {
   "cell_type": "code",
   "execution_count": 13,
   "id": "ac994890",
   "metadata": {
    "execution": {
     "iopub.execute_input": "2023-01-02T20:21:30.602448Z",
     "iopub.status.busy": "2023-01-02T20:21:30.601073Z",
     "iopub.status.idle": "2023-01-02T20:21:30.609514Z",
     "shell.execute_reply": "2023-01-02T20:21:30.608072Z"
    },
    "papermill": {
     "duration": 0.035944,
     "end_time": "2023-01-02T20:21:30.611823",
     "exception": false,
     "start_time": "2023-01-02T20:21:30.575879",
     "status": "completed"
    },
    "tags": []
   },
   "outputs": [
    {
     "name": "stdout",
     "output_type": "stream",
     "text": [
      "The percentage of NULLs in Training DataFrame Embarked column is: 0.22 %\n"
     ]
    }
   ],
   "source": [
    "print('The percentage of NULLs in Training DataFrame Embarked column is: {:.2f} %'.format((df_train['Embarked'].isna().sum()/len(df_train['Embarked']))*100))"
   ]
  },
  {
   "cell_type": "code",
   "execution_count": 14,
   "id": "d20b08d3",
   "metadata": {
    "execution": {
     "iopub.execute_input": "2023-01-02T20:21:30.655758Z",
     "iopub.status.busy": "2023-01-02T20:21:30.655356Z",
     "iopub.status.idle": "2023-01-02T20:21:30.665006Z",
     "shell.execute_reply": "2023-01-02T20:21:30.664071Z"
    },
    "papermill": {
     "duration": 0.033916,
     "end_time": "2023-01-02T20:21:30.667125",
     "exception": false,
     "start_time": "2023-01-02T20:21:30.633209",
     "status": "completed"
    },
    "tags": []
   },
   "outputs": [
    {
     "data": {
      "text/plain": [
       "S    644\n",
       "C    168\n",
       "Q     77\n",
       "Name: Embarked, dtype: int64"
      ]
     },
     "execution_count": 14,
     "metadata": {},
     "output_type": "execute_result"
    }
   ],
   "source": [
    "df_train['Embarked'].value_counts()"
   ]
  },
  {
   "cell_type": "code",
   "execution_count": 15,
   "id": "5c2a7dc8",
   "metadata": {
    "execution": {
     "iopub.execute_input": "2023-01-02T20:21:30.709710Z",
     "iopub.status.busy": "2023-01-02T20:21:30.708816Z",
     "iopub.status.idle": "2023-01-02T20:21:30.714943Z",
     "shell.execute_reply": "2023-01-02T20:21:30.713714Z"
    },
    "papermill": {
     "duration": 0.030968,
     "end_time": "2023-01-02T20:21:30.718046",
     "exception": false,
     "start_time": "2023-01-02T20:21:30.687078",
     "status": "completed"
    },
    "tags": []
   },
   "outputs": [],
   "source": [
    "df_train.fillna('S',axis=1,inplace=True)"
   ]
  },
  {
   "cell_type": "code",
   "execution_count": 16,
   "id": "9456fc3b",
   "metadata": {
    "execution": {
     "iopub.execute_input": "2023-01-02T20:21:30.760236Z",
     "iopub.status.busy": "2023-01-02T20:21:30.759463Z",
     "iopub.status.idle": "2023-01-02T20:21:30.768487Z",
     "shell.execute_reply": "2023-01-02T20:21:30.767631Z"
    },
    "papermill": {
     "duration": 0.032617,
     "end_time": "2023-01-02T20:21:30.770779",
     "exception": false,
     "start_time": "2023-01-02T20:21:30.738162",
     "status": "completed"
    },
    "tags": []
   },
   "outputs": [
    {
     "data": {
      "text/plain": [
       "PassengerId    0\n",
       "Survived       0\n",
       "Pclass         0\n",
       "Name           0\n",
       "Sex            0\n",
       "Age            0\n",
       "SibSp          0\n",
       "Parch          0\n",
       "Ticket         0\n",
       "Fare           0\n",
       "Embarked       0\n",
       "dtype: int64"
      ]
     },
     "execution_count": 16,
     "metadata": {},
     "output_type": "execute_result"
    }
   ],
   "source": [
    "df_train.isna().sum()"
   ]
  },
  {
   "cell_type": "markdown",
   "id": "6de7aca5",
   "metadata": {
    "papermill": {
     "duration": 0.020617,
     "end_time": "2023-01-02T20:21:30.811737",
     "exception": false,
     "start_time": "2023-01-02T20:21:30.791120",
     "status": "completed"
    },
    "tags": []
   },
   "source": [
    "### Converting non-numerical columns to numerical"
   ]
  },
  {
   "cell_type": "code",
   "execution_count": 17,
   "id": "e040494c",
   "metadata": {
    "execution": {
     "iopub.execute_input": "2023-01-02T20:21:30.854211Z",
     "iopub.status.busy": "2023-01-02T20:21:30.853555Z",
     "iopub.status.idle": "2023-01-02T20:21:30.861120Z",
     "shell.execute_reply": "2023-01-02T20:21:30.860304Z"
    },
    "papermill": {
     "duration": 0.031564,
     "end_time": "2023-01-02T20:21:30.863355",
     "exception": false,
     "start_time": "2023-01-02T20:21:30.831791",
     "status": "completed"
    },
    "tags": []
   },
   "outputs": [
    {
     "data": {
      "text/plain": [
       "PassengerId      int64\n",
       "Survived         int64\n",
       "Pclass           int64\n",
       "Name            object\n",
       "Sex             object\n",
       "Age            float64\n",
       "SibSp            int64\n",
       "Parch            int64\n",
       "Ticket          object\n",
       "Fare           float64\n",
       "Embarked        object\n",
       "dtype: object"
      ]
     },
     "execution_count": 17,
     "metadata": {},
     "output_type": "execute_result"
    }
   ],
   "source": [
    "df_train.dtypes"
   ]
  },
  {
   "cell_type": "code",
   "execution_count": 18,
   "id": "373f829d",
   "metadata": {
    "execution": {
     "iopub.execute_input": "2023-01-02T20:21:30.907172Z",
     "iopub.status.busy": "2023-01-02T20:21:30.906485Z",
     "iopub.status.idle": "2023-01-02T20:21:30.929981Z",
     "shell.execute_reply": "2023-01-02T20:21:30.928681Z"
    },
    "papermill": {
     "duration": 0.047975,
     "end_time": "2023-01-02T20:21:30.932567",
     "exception": false,
     "start_time": "2023-01-02T20:21:30.884592",
     "status": "completed"
    },
    "tags": []
   },
   "outputs": [
    {
     "data": {
      "text/html": [
       "<div>\n",
       "<style scoped>\n",
       "    .dataframe tbody tr th:only-of-type {\n",
       "        vertical-align: middle;\n",
       "    }\n",
       "\n",
       "    .dataframe tbody tr th {\n",
       "        vertical-align: top;\n",
       "    }\n",
       "\n",
       "    .dataframe thead th {\n",
       "        text-align: right;\n",
       "    }\n",
       "</style>\n",
       "<table border=\"1\" class=\"dataframe\">\n",
       "  <thead>\n",
       "    <tr style=\"text-align: right;\">\n",
       "      <th></th>\n",
       "      <th>PassengerId</th>\n",
       "      <th>Survived</th>\n",
       "      <th>Pclass</th>\n",
       "      <th>Name</th>\n",
       "      <th>Sex</th>\n",
       "      <th>Age</th>\n",
       "      <th>SibSp</th>\n",
       "      <th>Parch</th>\n",
       "      <th>Ticket</th>\n",
       "      <th>Fare</th>\n",
       "      <th>Embarked</th>\n",
       "    </tr>\n",
       "  </thead>\n",
       "  <tbody>\n",
       "    <tr>\n",
       "      <th>0</th>\n",
       "      <td>1</td>\n",
       "      <td>0</td>\n",
       "      <td>3</td>\n",
       "      <td>Braund, Mr. Owen Harris</td>\n",
       "      <td>male</td>\n",
       "      <td>22.0</td>\n",
       "      <td>1</td>\n",
       "      <td>0</td>\n",
       "      <td>A/5 21171</td>\n",
       "      <td>7.2500</td>\n",
       "      <td>S</td>\n",
       "    </tr>\n",
       "    <tr>\n",
       "      <th>1</th>\n",
       "      <td>2</td>\n",
       "      <td>1</td>\n",
       "      <td>1</td>\n",
       "      <td>Cumings, Mrs. John Bradley (Florence Briggs Th...</td>\n",
       "      <td>female</td>\n",
       "      <td>38.0</td>\n",
       "      <td>1</td>\n",
       "      <td>0</td>\n",
       "      <td>PC 17599</td>\n",
       "      <td>71.2833</td>\n",
       "      <td>C</td>\n",
       "    </tr>\n",
       "    <tr>\n",
       "      <th>2</th>\n",
       "      <td>3</td>\n",
       "      <td>1</td>\n",
       "      <td>3</td>\n",
       "      <td>Heikkinen, Miss. Laina</td>\n",
       "      <td>female</td>\n",
       "      <td>26.0</td>\n",
       "      <td>0</td>\n",
       "      <td>0</td>\n",
       "      <td>STON/O2. 3101282</td>\n",
       "      <td>7.9250</td>\n",
       "      <td>S</td>\n",
       "    </tr>\n",
       "    <tr>\n",
       "      <th>3</th>\n",
       "      <td>4</td>\n",
       "      <td>1</td>\n",
       "      <td>1</td>\n",
       "      <td>Futrelle, Mrs. Jacques Heath (Lily May Peel)</td>\n",
       "      <td>female</td>\n",
       "      <td>35.0</td>\n",
       "      <td>1</td>\n",
       "      <td>0</td>\n",
       "      <td>113803</td>\n",
       "      <td>53.1000</td>\n",
       "      <td>S</td>\n",
       "    </tr>\n",
       "    <tr>\n",
       "      <th>4</th>\n",
       "      <td>5</td>\n",
       "      <td>0</td>\n",
       "      <td>3</td>\n",
       "      <td>Allen, Mr. William Henry</td>\n",
       "      <td>male</td>\n",
       "      <td>35.0</td>\n",
       "      <td>0</td>\n",
       "      <td>0</td>\n",
       "      <td>373450</td>\n",
       "      <td>8.0500</td>\n",
       "      <td>S</td>\n",
       "    </tr>\n",
       "    <tr>\n",
       "      <th>...</th>\n",
       "      <td>...</td>\n",
       "      <td>...</td>\n",
       "      <td>...</td>\n",
       "      <td>...</td>\n",
       "      <td>...</td>\n",
       "      <td>...</td>\n",
       "      <td>...</td>\n",
       "      <td>...</td>\n",
       "      <td>...</td>\n",
       "      <td>...</td>\n",
       "      <td>...</td>\n",
       "    </tr>\n",
       "    <tr>\n",
       "      <th>886</th>\n",
       "      <td>887</td>\n",
       "      <td>0</td>\n",
       "      <td>2</td>\n",
       "      <td>Montvila, Rev. Juozas</td>\n",
       "      <td>male</td>\n",
       "      <td>27.0</td>\n",
       "      <td>0</td>\n",
       "      <td>0</td>\n",
       "      <td>211536</td>\n",
       "      <td>13.0000</td>\n",
       "      <td>S</td>\n",
       "    </tr>\n",
       "    <tr>\n",
       "      <th>887</th>\n",
       "      <td>888</td>\n",
       "      <td>1</td>\n",
       "      <td>1</td>\n",
       "      <td>Graham, Miss. Margaret Edith</td>\n",
       "      <td>female</td>\n",
       "      <td>19.0</td>\n",
       "      <td>0</td>\n",
       "      <td>0</td>\n",
       "      <td>112053</td>\n",
       "      <td>30.0000</td>\n",
       "      <td>S</td>\n",
       "    </tr>\n",
       "    <tr>\n",
       "      <th>888</th>\n",
       "      <td>889</td>\n",
       "      <td>0</td>\n",
       "      <td>3</td>\n",
       "      <td>Johnston, Miss. Catherine Helen \"Carrie\"</td>\n",
       "      <td>female</td>\n",
       "      <td>24.0</td>\n",
       "      <td>1</td>\n",
       "      <td>2</td>\n",
       "      <td>W./C. 6607</td>\n",
       "      <td>23.4500</td>\n",
       "      <td>S</td>\n",
       "    </tr>\n",
       "    <tr>\n",
       "      <th>889</th>\n",
       "      <td>890</td>\n",
       "      <td>1</td>\n",
       "      <td>1</td>\n",
       "      <td>Behr, Mr. Karl Howell</td>\n",
       "      <td>male</td>\n",
       "      <td>26.0</td>\n",
       "      <td>0</td>\n",
       "      <td>0</td>\n",
       "      <td>111369</td>\n",
       "      <td>30.0000</td>\n",
       "      <td>C</td>\n",
       "    </tr>\n",
       "    <tr>\n",
       "      <th>890</th>\n",
       "      <td>891</td>\n",
       "      <td>0</td>\n",
       "      <td>3</td>\n",
       "      <td>Dooley, Mr. Patrick</td>\n",
       "      <td>male</td>\n",
       "      <td>32.0</td>\n",
       "      <td>0</td>\n",
       "      <td>0</td>\n",
       "      <td>370376</td>\n",
       "      <td>7.7500</td>\n",
       "      <td>Q</td>\n",
       "    </tr>\n",
       "  </tbody>\n",
       "</table>\n",
       "<p>891 rows × 11 columns</p>\n",
       "</div>"
      ],
      "text/plain": [
       "     PassengerId  Survived  Pclass  \\\n",
       "0              1         0       3   \n",
       "1              2         1       1   \n",
       "2              3         1       3   \n",
       "3              4         1       1   \n",
       "4              5         0       3   \n",
       "..           ...       ...     ...   \n",
       "886          887         0       2   \n",
       "887          888         1       1   \n",
       "888          889         0       3   \n",
       "889          890         1       1   \n",
       "890          891         0       3   \n",
       "\n",
       "                                                  Name     Sex   Age  SibSp  \\\n",
       "0                              Braund, Mr. Owen Harris    male  22.0      1   \n",
       "1    Cumings, Mrs. John Bradley (Florence Briggs Th...  female  38.0      1   \n",
       "2                               Heikkinen, Miss. Laina  female  26.0      0   \n",
       "3         Futrelle, Mrs. Jacques Heath (Lily May Peel)  female  35.0      1   \n",
       "4                             Allen, Mr. William Henry    male  35.0      0   \n",
       "..                                                 ...     ...   ...    ...   \n",
       "886                              Montvila, Rev. Juozas    male  27.0      0   \n",
       "887                       Graham, Miss. Margaret Edith  female  19.0      0   \n",
       "888           Johnston, Miss. Catherine Helen \"Carrie\"  female  24.0      1   \n",
       "889                              Behr, Mr. Karl Howell    male  26.0      0   \n",
       "890                                Dooley, Mr. Patrick    male  32.0      0   \n",
       "\n",
       "     Parch            Ticket     Fare Embarked  \n",
       "0        0         A/5 21171   7.2500        S  \n",
       "1        0          PC 17599  71.2833        C  \n",
       "2        0  STON/O2. 3101282   7.9250        S  \n",
       "3        0            113803  53.1000        S  \n",
       "4        0            373450   8.0500        S  \n",
       "..     ...               ...      ...      ...  \n",
       "886      0            211536  13.0000        S  \n",
       "887      0            112053  30.0000        S  \n",
       "888      2        W./C. 6607  23.4500        S  \n",
       "889      0            111369  30.0000        C  \n",
       "890      0            370376   7.7500        Q  \n",
       "\n",
       "[891 rows x 11 columns]"
      ]
     },
     "execution_count": 18,
     "metadata": {},
     "output_type": "execute_result"
    }
   ],
   "source": [
    "df_train"
   ]
  },
  {
   "cell_type": "markdown",
   "id": "bb889f33",
   "metadata": {
    "papermill": {
     "duration": 0.021046,
     "end_time": "2023-01-02T20:21:30.974801",
     "exception": false,
     "start_time": "2023-01-02T20:21:30.953755",
     "status": "completed"
    },
    "tags": []
   },
   "source": [
    "### Converting non-numerical column to numerical"
   ]
  },
  {
   "cell_type": "code",
   "execution_count": 19,
   "id": "f1f6b4a6",
   "metadata": {
    "execution": {
     "iopub.execute_input": "2023-01-02T20:21:31.018214Z",
     "iopub.status.busy": "2023-01-02T20:21:31.017517Z",
     "iopub.status.idle": "2023-01-02T20:21:31.023349Z",
     "shell.execute_reply": "2023-01-02T20:21:31.022364Z"
    },
    "papermill": {
     "duration": 0.030355,
     "end_time": "2023-01-02T20:21:31.025815",
     "exception": false,
     "start_time": "2023-01-02T20:21:30.995460",
     "status": "completed"
    },
    "tags": []
   },
   "outputs": [],
   "source": [
    "gender = pd.get_dummies(df_train['Sex'],drop_first=True)"
   ]
  },
  {
   "cell_type": "code",
   "execution_count": 20,
   "id": "b6aec546",
   "metadata": {
    "execution": {
     "iopub.execute_input": "2023-01-02T20:21:31.070838Z",
     "iopub.status.busy": "2023-01-02T20:21:31.070219Z",
     "iopub.status.idle": "2023-01-02T20:21:31.075347Z",
     "shell.execute_reply": "2023-01-02T20:21:31.074215Z"
    },
    "papermill": {
     "duration": 0.031644,
     "end_time": "2023-01-02T20:21:31.078214",
     "exception": false,
     "start_time": "2023-01-02T20:21:31.046570",
     "status": "completed"
    },
    "tags": []
   },
   "outputs": [],
   "source": [
    "df_train['Gender'] = gender"
   ]
  },
  {
   "cell_type": "code",
   "execution_count": 21,
   "id": "27ede539",
   "metadata": {
    "execution": {
     "iopub.execute_input": "2023-01-02T20:21:31.121626Z",
     "iopub.status.busy": "2023-01-02T20:21:31.121203Z",
     "iopub.status.idle": "2023-01-02T20:21:31.146275Z",
     "shell.execute_reply": "2023-01-02T20:21:31.145005Z"
    },
    "papermill": {
     "duration": 0.05013,
     "end_time": "2023-01-02T20:21:31.149094",
     "exception": false,
     "start_time": "2023-01-02T20:21:31.098964",
     "status": "completed"
    },
    "tags": []
   },
   "outputs": [
    {
     "data": {
      "text/html": [
       "<div>\n",
       "<style scoped>\n",
       "    .dataframe tbody tr th:only-of-type {\n",
       "        vertical-align: middle;\n",
       "    }\n",
       "\n",
       "    .dataframe tbody tr th {\n",
       "        vertical-align: top;\n",
       "    }\n",
       "\n",
       "    .dataframe thead th {\n",
       "        text-align: right;\n",
       "    }\n",
       "</style>\n",
       "<table border=\"1\" class=\"dataframe\">\n",
       "  <thead>\n",
       "    <tr style=\"text-align: right;\">\n",
       "      <th></th>\n",
       "      <th>PassengerId</th>\n",
       "      <th>Survived</th>\n",
       "      <th>Pclass</th>\n",
       "      <th>Name</th>\n",
       "      <th>Sex</th>\n",
       "      <th>Age</th>\n",
       "      <th>SibSp</th>\n",
       "      <th>Parch</th>\n",
       "      <th>Ticket</th>\n",
       "      <th>Fare</th>\n",
       "      <th>Embarked</th>\n",
       "      <th>Gender</th>\n",
       "    </tr>\n",
       "  </thead>\n",
       "  <tbody>\n",
       "    <tr>\n",
       "      <th>0</th>\n",
       "      <td>1</td>\n",
       "      <td>0</td>\n",
       "      <td>3</td>\n",
       "      <td>Braund, Mr. Owen Harris</td>\n",
       "      <td>male</td>\n",
       "      <td>22.0</td>\n",
       "      <td>1</td>\n",
       "      <td>0</td>\n",
       "      <td>A/5 21171</td>\n",
       "      <td>7.2500</td>\n",
       "      <td>S</td>\n",
       "      <td>1</td>\n",
       "    </tr>\n",
       "    <tr>\n",
       "      <th>1</th>\n",
       "      <td>2</td>\n",
       "      <td>1</td>\n",
       "      <td>1</td>\n",
       "      <td>Cumings, Mrs. John Bradley (Florence Briggs Th...</td>\n",
       "      <td>female</td>\n",
       "      <td>38.0</td>\n",
       "      <td>1</td>\n",
       "      <td>0</td>\n",
       "      <td>PC 17599</td>\n",
       "      <td>71.2833</td>\n",
       "      <td>C</td>\n",
       "      <td>0</td>\n",
       "    </tr>\n",
       "    <tr>\n",
       "      <th>2</th>\n",
       "      <td>3</td>\n",
       "      <td>1</td>\n",
       "      <td>3</td>\n",
       "      <td>Heikkinen, Miss. Laina</td>\n",
       "      <td>female</td>\n",
       "      <td>26.0</td>\n",
       "      <td>0</td>\n",
       "      <td>0</td>\n",
       "      <td>STON/O2. 3101282</td>\n",
       "      <td>7.9250</td>\n",
       "      <td>S</td>\n",
       "      <td>0</td>\n",
       "    </tr>\n",
       "    <tr>\n",
       "      <th>3</th>\n",
       "      <td>4</td>\n",
       "      <td>1</td>\n",
       "      <td>1</td>\n",
       "      <td>Futrelle, Mrs. Jacques Heath (Lily May Peel)</td>\n",
       "      <td>female</td>\n",
       "      <td>35.0</td>\n",
       "      <td>1</td>\n",
       "      <td>0</td>\n",
       "      <td>113803</td>\n",
       "      <td>53.1000</td>\n",
       "      <td>S</td>\n",
       "      <td>0</td>\n",
       "    </tr>\n",
       "    <tr>\n",
       "      <th>4</th>\n",
       "      <td>5</td>\n",
       "      <td>0</td>\n",
       "      <td>3</td>\n",
       "      <td>Allen, Mr. William Henry</td>\n",
       "      <td>male</td>\n",
       "      <td>35.0</td>\n",
       "      <td>0</td>\n",
       "      <td>0</td>\n",
       "      <td>373450</td>\n",
       "      <td>8.0500</td>\n",
       "      <td>S</td>\n",
       "      <td>1</td>\n",
       "    </tr>\n",
       "    <tr>\n",
       "      <th>...</th>\n",
       "      <td>...</td>\n",
       "      <td>...</td>\n",
       "      <td>...</td>\n",
       "      <td>...</td>\n",
       "      <td>...</td>\n",
       "      <td>...</td>\n",
       "      <td>...</td>\n",
       "      <td>...</td>\n",
       "      <td>...</td>\n",
       "      <td>...</td>\n",
       "      <td>...</td>\n",
       "      <td>...</td>\n",
       "    </tr>\n",
       "    <tr>\n",
       "      <th>886</th>\n",
       "      <td>887</td>\n",
       "      <td>0</td>\n",
       "      <td>2</td>\n",
       "      <td>Montvila, Rev. Juozas</td>\n",
       "      <td>male</td>\n",
       "      <td>27.0</td>\n",
       "      <td>0</td>\n",
       "      <td>0</td>\n",
       "      <td>211536</td>\n",
       "      <td>13.0000</td>\n",
       "      <td>S</td>\n",
       "      <td>1</td>\n",
       "    </tr>\n",
       "    <tr>\n",
       "      <th>887</th>\n",
       "      <td>888</td>\n",
       "      <td>1</td>\n",
       "      <td>1</td>\n",
       "      <td>Graham, Miss. Margaret Edith</td>\n",
       "      <td>female</td>\n",
       "      <td>19.0</td>\n",
       "      <td>0</td>\n",
       "      <td>0</td>\n",
       "      <td>112053</td>\n",
       "      <td>30.0000</td>\n",
       "      <td>S</td>\n",
       "      <td>0</td>\n",
       "    </tr>\n",
       "    <tr>\n",
       "      <th>888</th>\n",
       "      <td>889</td>\n",
       "      <td>0</td>\n",
       "      <td>3</td>\n",
       "      <td>Johnston, Miss. Catherine Helen \"Carrie\"</td>\n",
       "      <td>female</td>\n",
       "      <td>24.0</td>\n",
       "      <td>1</td>\n",
       "      <td>2</td>\n",
       "      <td>W./C. 6607</td>\n",
       "      <td>23.4500</td>\n",
       "      <td>S</td>\n",
       "      <td>0</td>\n",
       "    </tr>\n",
       "    <tr>\n",
       "      <th>889</th>\n",
       "      <td>890</td>\n",
       "      <td>1</td>\n",
       "      <td>1</td>\n",
       "      <td>Behr, Mr. Karl Howell</td>\n",
       "      <td>male</td>\n",
       "      <td>26.0</td>\n",
       "      <td>0</td>\n",
       "      <td>0</td>\n",
       "      <td>111369</td>\n",
       "      <td>30.0000</td>\n",
       "      <td>C</td>\n",
       "      <td>1</td>\n",
       "    </tr>\n",
       "    <tr>\n",
       "      <th>890</th>\n",
       "      <td>891</td>\n",
       "      <td>0</td>\n",
       "      <td>3</td>\n",
       "      <td>Dooley, Mr. Patrick</td>\n",
       "      <td>male</td>\n",
       "      <td>32.0</td>\n",
       "      <td>0</td>\n",
       "      <td>0</td>\n",
       "      <td>370376</td>\n",
       "      <td>7.7500</td>\n",
       "      <td>Q</td>\n",
       "      <td>1</td>\n",
       "    </tr>\n",
       "  </tbody>\n",
       "</table>\n",
       "<p>891 rows × 12 columns</p>\n",
       "</div>"
      ],
      "text/plain": [
       "     PassengerId  Survived  Pclass  \\\n",
       "0              1         0       3   \n",
       "1              2         1       1   \n",
       "2              3         1       3   \n",
       "3              4         1       1   \n",
       "4              5         0       3   \n",
       "..           ...       ...     ...   \n",
       "886          887         0       2   \n",
       "887          888         1       1   \n",
       "888          889         0       3   \n",
       "889          890         1       1   \n",
       "890          891         0       3   \n",
       "\n",
       "                                                  Name     Sex   Age  SibSp  \\\n",
       "0                              Braund, Mr. Owen Harris    male  22.0      1   \n",
       "1    Cumings, Mrs. John Bradley (Florence Briggs Th...  female  38.0      1   \n",
       "2                               Heikkinen, Miss. Laina  female  26.0      0   \n",
       "3         Futrelle, Mrs. Jacques Heath (Lily May Peel)  female  35.0      1   \n",
       "4                             Allen, Mr. William Henry    male  35.0      0   \n",
       "..                                                 ...     ...   ...    ...   \n",
       "886                              Montvila, Rev. Juozas    male  27.0      0   \n",
       "887                       Graham, Miss. Margaret Edith  female  19.0      0   \n",
       "888           Johnston, Miss. Catherine Helen \"Carrie\"  female  24.0      1   \n",
       "889                              Behr, Mr. Karl Howell    male  26.0      0   \n",
       "890                                Dooley, Mr. Patrick    male  32.0      0   \n",
       "\n",
       "     Parch            Ticket     Fare Embarked  Gender  \n",
       "0        0         A/5 21171   7.2500        S       1  \n",
       "1        0          PC 17599  71.2833        C       0  \n",
       "2        0  STON/O2. 3101282   7.9250        S       0  \n",
       "3        0            113803  53.1000        S       0  \n",
       "4        0            373450   8.0500        S       1  \n",
       "..     ...               ...      ...      ...     ...  \n",
       "886      0            211536  13.0000        S       1  \n",
       "887      0            112053  30.0000        S       0  \n",
       "888      2        W./C. 6607  23.4500        S       0  \n",
       "889      0            111369  30.0000        C       1  \n",
       "890      0            370376   7.7500        Q       1  \n",
       "\n",
       "[891 rows x 12 columns]"
      ]
     },
     "execution_count": 21,
     "metadata": {},
     "output_type": "execute_result"
    }
   ],
   "source": [
    "df_train"
   ]
  },
  {
   "cell_type": "markdown",
   "id": "cd03f853",
   "metadata": {
    "papermill": {
     "duration": 0.022884,
     "end_time": "2023-01-02T20:21:31.194845",
     "exception": false,
     "start_time": "2023-01-02T20:21:31.171961",
     "status": "completed"
    },
    "tags": []
   },
   "source": [
    "### Dropping the Unnecessary Columns"
   ]
  },
  {
   "cell_type": "code",
   "execution_count": 22,
   "id": "90df9a0c",
   "metadata": {
    "execution": {
     "iopub.execute_input": "2023-01-02T20:21:31.241052Z",
     "iopub.status.busy": "2023-01-02T20:21:31.239832Z",
     "iopub.status.idle": "2023-01-02T20:21:31.261845Z",
     "shell.execute_reply": "2023-01-02T20:21:31.260499Z"
    },
    "papermill": {
     "duration": 0.047621,
     "end_time": "2023-01-02T20:21:31.264333",
     "exception": false,
     "start_time": "2023-01-02T20:21:31.216712",
     "status": "completed"
    },
    "tags": []
   },
   "outputs": [
    {
     "data": {
      "text/html": [
       "<div>\n",
       "<style scoped>\n",
       "    .dataframe tbody tr th:only-of-type {\n",
       "        vertical-align: middle;\n",
       "    }\n",
       "\n",
       "    .dataframe tbody tr th {\n",
       "        vertical-align: top;\n",
       "    }\n",
       "\n",
       "    .dataframe thead th {\n",
       "        text-align: right;\n",
       "    }\n",
       "</style>\n",
       "<table border=\"1\" class=\"dataframe\">\n",
       "  <thead>\n",
       "    <tr style=\"text-align: right;\">\n",
       "      <th></th>\n",
       "      <th>PassengerId</th>\n",
       "      <th>Survived</th>\n",
       "      <th>Pclass</th>\n",
       "      <th>Age</th>\n",
       "      <th>SibSp</th>\n",
       "      <th>Parch</th>\n",
       "      <th>Fare</th>\n",
       "      <th>Gender</th>\n",
       "    </tr>\n",
       "  </thead>\n",
       "  <tbody>\n",
       "    <tr>\n",
       "      <th>0</th>\n",
       "      <td>1</td>\n",
       "      <td>0</td>\n",
       "      <td>3</td>\n",
       "      <td>22.0</td>\n",
       "      <td>1</td>\n",
       "      <td>0</td>\n",
       "      <td>7.2500</td>\n",
       "      <td>1</td>\n",
       "    </tr>\n",
       "    <tr>\n",
       "      <th>1</th>\n",
       "      <td>2</td>\n",
       "      <td>1</td>\n",
       "      <td>1</td>\n",
       "      <td>38.0</td>\n",
       "      <td>1</td>\n",
       "      <td>0</td>\n",
       "      <td>71.2833</td>\n",
       "      <td>0</td>\n",
       "    </tr>\n",
       "    <tr>\n",
       "      <th>2</th>\n",
       "      <td>3</td>\n",
       "      <td>1</td>\n",
       "      <td>3</td>\n",
       "      <td>26.0</td>\n",
       "      <td>0</td>\n",
       "      <td>0</td>\n",
       "      <td>7.9250</td>\n",
       "      <td>0</td>\n",
       "    </tr>\n",
       "    <tr>\n",
       "      <th>3</th>\n",
       "      <td>4</td>\n",
       "      <td>1</td>\n",
       "      <td>1</td>\n",
       "      <td>35.0</td>\n",
       "      <td>1</td>\n",
       "      <td>0</td>\n",
       "      <td>53.1000</td>\n",
       "      <td>0</td>\n",
       "    </tr>\n",
       "    <tr>\n",
       "      <th>4</th>\n",
       "      <td>5</td>\n",
       "      <td>0</td>\n",
       "      <td>3</td>\n",
       "      <td>35.0</td>\n",
       "      <td>0</td>\n",
       "      <td>0</td>\n",
       "      <td>8.0500</td>\n",
       "      <td>1</td>\n",
       "    </tr>\n",
       "    <tr>\n",
       "      <th>...</th>\n",
       "      <td>...</td>\n",
       "      <td>...</td>\n",
       "      <td>...</td>\n",
       "      <td>...</td>\n",
       "      <td>...</td>\n",
       "      <td>...</td>\n",
       "      <td>...</td>\n",
       "      <td>...</td>\n",
       "    </tr>\n",
       "    <tr>\n",
       "      <th>886</th>\n",
       "      <td>887</td>\n",
       "      <td>0</td>\n",
       "      <td>2</td>\n",
       "      <td>27.0</td>\n",
       "      <td>0</td>\n",
       "      <td>0</td>\n",
       "      <td>13.0000</td>\n",
       "      <td>1</td>\n",
       "    </tr>\n",
       "    <tr>\n",
       "      <th>887</th>\n",
       "      <td>888</td>\n",
       "      <td>1</td>\n",
       "      <td>1</td>\n",
       "      <td>19.0</td>\n",
       "      <td>0</td>\n",
       "      <td>0</td>\n",
       "      <td>30.0000</td>\n",
       "      <td>0</td>\n",
       "    </tr>\n",
       "    <tr>\n",
       "      <th>888</th>\n",
       "      <td>889</td>\n",
       "      <td>0</td>\n",
       "      <td>3</td>\n",
       "      <td>24.0</td>\n",
       "      <td>1</td>\n",
       "      <td>2</td>\n",
       "      <td>23.4500</td>\n",
       "      <td>0</td>\n",
       "    </tr>\n",
       "    <tr>\n",
       "      <th>889</th>\n",
       "      <td>890</td>\n",
       "      <td>1</td>\n",
       "      <td>1</td>\n",
       "      <td>26.0</td>\n",
       "      <td>0</td>\n",
       "      <td>0</td>\n",
       "      <td>30.0000</td>\n",
       "      <td>1</td>\n",
       "    </tr>\n",
       "    <tr>\n",
       "      <th>890</th>\n",
       "      <td>891</td>\n",
       "      <td>0</td>\n",
       "      <td>3</td>\n",
       "      <td>32.0</td>\n",
       "      <td>0</td>\n",
       "      <td>0</td>\n",
       "      <td>7.7500</td>\n",
       "      <td>1</td>\n",
       "    </tr>\n",
       "  </tbody>\n",
       "</table>\n",
       "<p>891 rows × 8 columns</p>\n",
       "</div>"
      ],
      "text/plain": [
       "     PassengerId  Survived  Pclass   Age  SibSp  Parch     Fare  Gender\n",
       "0              1         0       3  22.0      1      0   7.2500       1\n",
       "1              2         1       1  38.0      1      0  71.2833       0\n",
       "2              3         1       3  26.0      0      0   7.9250       0\n",
       "3              4         1       1  35.0      1      0  53.1000       0\n",
       "4              5         0       3  35.0      0      0   8.0500       1\n",
       "..           ...       ...     ...   ...    ...    ...      ...     ...\n",
       "886          887         0       2  27.0      0      0  13.0000       1\n",
       "887          888         1       1  19.0      0      0  30.0000       0\n",
       "888          889         0       3  24.0      1      2  23.4500       0\n",
       "889          890         1       1  26.0      0      0  30.0000       1\n",
       "890          891         0       3  32.0      0      0   7.7500       1\n",
       "\n",
       "[891 rows x 8 columns]"
      ]
     },
     "execution_count": 22,
     "metadata": {},
     "output_type": "execute_result"
    }
   ],
   "source": [
    "df_train.drop(['Name', 'Sex', 'Ticket', 'Embarked'],axis=1,inplace=True)\n",
    "\n",
    "df_train"
   ]
  },
  {
   "cell_type": "markdown",
   "id": "4d650b8f",
   "metadata": {
    "papermill": {
     "duration": 0.021014,
     "end_time": "2023-01-02T20:21:31.307202",
     "exception": false,
     "start_time": "2023-01-02T20:21:31.286188",
     "status": "completed"
    },
    "tags": []
   },
   "source": [
    "# Transforming the Testing DataFrame"
   ]
  },
  {
   "cell_type": "code",
   "execution_count": 23,
   "id": "0e22828c",
   "metadata": {
    "execution": {
     "iopub.execute_input": "2023-01-02T20:21:31.353129Z",
     "iopub.status.busy": "2023-01-02T20:21:31.352338Z",
     "iopub.status.idle": "2023-01-02T20:21:31.369999Z",
     "shell.execute_reply": "2023-01-02T20:21:31.368754Z"
    },
    "papermill": {
     "duration": 0.043569,
     "end_time": "2023-01-02T20:21:31.372462",
     "exception": false,
     "start_time": "2023-01-02T20:21:31.328893",
     "status": "completed"
    },
    "tags": []
   },
   "outputs": [
    {
     "data": {
      "text/html": [
       "<div>\n",
       "<style scoped>\n",
       "    .dataframe tbody tr th:only-of-type {\n",
       "        vertical-align: middle;\n",
       "    }\n",
       "\n",
       "    .dataframe tbody tr th {\n",
       "        vertical-align: top;\n",
       "    }\n",
       "\n",
       "    .dataframe thead th {\n",
       "        text-align: right;\n",
       "    }\n",
       "</style>\n",
       "<table border=\"1\" class=\"dataframe\">\n",
       "  <thead>\n",
       "    <tr style=\"text-align: right;\">\n",
       "      <th></th>\n",
       "      <th>PassengerId</th>\n",
       "      <th>Pclass</th>\n",
       "      <th>Name</th>\n",
       "      <th>Sex</th>\n",
       "      <th>Age</th>\n",
       "      <th>SibSp</th>\n",
       "      <th>Parch</th>\n",
       "      <th>Ticket</th>\n",
       "      <th>Fare</th>\n",
       "      <th>Cabin</th>\n",
       "      <th>Embarked</th>\n",
       "    </tr>\n",
       "  </thead>\n",
       "  <tbody>\n",
       "    <tr>\n",
       "      <th>0</th>\n",
       "      <td>892</td>\n",
       "      <td>3</td>\n",
       "      <td>Kelly, Mr. James</td>\n",
       "      <td>male</td>\n",
       "      <td>34.5</td>\n",
       "      <td>0</td>\n",
       "      <td>0</td>\n",
       "      <td>330911</td>\n",
       "      <td>7.8292</td>\n",
       "      <td>NaN</td>\n",
       "      <td>Q</td>\n",
       "    </tr>\n",
       "    <tr>\n",
       "      <th>1</th>\n",
       "      <td>893</td>\n",
       "      <td>3</td>\n",
       "      <td>Wilkes, Mrs. James (Ellen Needs)</td>\n",
       "      <td>female</td>\n",
       "      <td>47.0</td>\n",
       "      <td>1</td>\n",
       "      <td>0</td>\n",
       "      <td>363272</td>\n",
       "      <td>7.0000</td>\n",
       "      <td>NaN</td>\n",
       "      <td>S</td>\n",
       "    </tr>\n",
       "    <tr>\n",
       "      <th>2</th>\n",
       "      <td>894</td>\n",
       "      <td>2</td>\n",
       "      <td>Myles, Mr. Thomas Francis</td>\n",
       "      <td>male</td>\n",
       "      <td>62.0</td>\n",
       "      <td>0</td>\n",
       "      <td>0</td>\n",
       "      <td>240276</td>\n",
       "      <td>9.6875</td>\n",
       "      <td>NaN</td>\n",
       "      <td>Q</td>\n",
       "    </tr>\n",
       "    <tr>\n",
       "      <th>3</th>\n",
       "      <td>895</td>\n",
       "      <td>3</td>\n",
       "      <td>Wirz, Mr. Albert</td>\n",
       "      <td>male</td>\n",
       "      <td>27.0</td>\n",
       "      <td>0</td>\n",
       "      <td>0</td>\n",
       "      <td>315154</td>\n",
       "      <td>8.6625</td>\n",
       "      <td>NaN</td>\n",
       "      <td>S</td>\n",
       "    </tr>\n",
       "    <tr>\n",
       "      <th>4</th>\n",
       "      <td>896</td>\n",
       "      <td>3</td>\n",
       "      <td>Hirvonen, Mrs. Alexander (Helga E Lindqvist)</td>\n",
       "      <td>female</td>\n",
       "      <td>22.0</td>\n",
       "      <td>1</td>\n",
       "      <td>1</td>\n",
       "      <td>3101298</td>\n",
       "      <td>12.2875</td>\n",
       "      <td>NaN</td>\n",
       "      <td>S</td>\n",
       "    </tr>\n",
       "  </tbody>\n",
       "</table>\n",
       "</div>"
      ],
      "text/plain": [
       "   PassengerId  Pclass                                          Name     Sex  \\\n",
       "0          892       3                              Kelly, Mr. James    male   \n",
       "1          893       3              Wilkes, Mrs. James (Ellen Needs)  female   \n",
       "2          894       2                     Myles, Mr. Thomas Francis    male   \n",
       "3          895       3                              Wirz, Mr. Albert    male   \n",
       "4          896       3  Hirvonen, Mrs. Alexander (Helga E Lindqvist)  female   \n",
       "\n",
       "    Age  SibSp  Parch   Ticket     Fare Cabin Embarked  \n",
       "0  34.5      0      0   330911   7.8292   NaN        Q  \n",
       "1  47.0      1      0   363272   7.0000   NaN        S  \n",
       "2  62.0      0      0   240276   9.6875   NaN        Q  \n",
       "3  27.0      0      0   315154   8.6625   NaN        S  \n",
       "4  22.0      1      1  3101298  12.2875   NaN        S  "
      ]
     },
     "execution_count": 23,
     "metadata": {},
     "output_type": "execute_result"
    }
   ],
   "source": [
    "df_test.head()"
   ]
  },
  {
   "cell_type": "markdown",
   "id": "c76917be",
   "metadata": {
    "papermill": {
     "duration": 0.022258,
     "end_time": "2023-01-02T20:21:31.416867",
     "exception": false,
     "start_time": "2023-01-02T20:21:31.394609",
     "status": "completed"
    },
    "tags": []
   },
   "source": [
    "### Checking the Number of Columns with NULL values"
   ]
  },
  {
   "cell_type": "code",
   "execution_count": 24,
   "id": "74f379f3",
   "metadata": {
    "execution": {
     "iopub.execute_input": "2023-01-02T20:21:31.465843Z",
     "iopub.status.busy": "2023-01-02T20:21:31.465002Z",
     "iopub.status.idle": "2023-01-02T20:21:31.475334Z",
     "shell.execute_reply": "2023-01-02T20:21:31.474017Z"
    },
    "papermill": {
     "duration": 0.037038,
     "end_time": "2023-01-02T20:21:31.478082",
     "exception": false,
     "start_time": "2023-01-02T20:21:31.441044",
     "status": "completed"
    },
    "tags": []
   },
   "outputs": [
    {
     "data": {
      "text/plain": [
       "PassengerId      0\n",
       "Pclass           0\n",
       "Name             0\n",
       "Sex              0\n",
       "Age             86\n",
       "SibSp            0\n",
       "Parch            0\n",
       "Ticket           0\n",
       "Fare             1\n",
       "Cabin          327\n",
       "Embarked         0\n",
       "dtype: int64"
      ]
     },
     "execution_count": 24,
     "metadata": {},
     "output_type": "execute_result"
    }
   ],
   "source": [
    "df_test.isna().sum()"
   ]
  },
  {
   "cell_type": "code",
   "execution_count": 25,
   "id": "49ebb877",
   "metadata": {
    "execution": {
     "iopub.execute_input": "2023-01-02T20:21:31.524961Z",
     "iopub.status.busy": "2023-01-02T20:21:31.524430Z",
     "iopub.status.idle": "2023-01-02T20:21:31.958762Z",
     "shell.execute_reply": "2023-01-02T20:21:31.957585Z"
    },
    "papermill": {
     "duration": 0.460446,
     "end_time": "2023-01-02T20:21:31.961171",
     "exception": false,
     "start_time": "2023-01-02T20:21:31.500725",
     "status": "completed"
    },
    "tags": []
   },
   "outputs": [
    {
     "data": {
      "text/plain": [
       "<AxesSubplot:>"
      ]
     },
     "execution_count": 25,
     "metadata": {},
     "output_type": "execute_result"
    },
    {
     "data": {
      "image/png": "[encoded data removed]",
      "text/plain": [
       "<Figure size 432x288 with 2 Axes>"
      ]
     },
     "metadata": {
      "needs_background": "light"
     },
     "output_type": "display_data"
    }
   ],
   "source": [
    "sns.heatmap(df_test.isna())"
   ]
  },
  {
   "cell_type": "markdown",
   "id": "db8241e0",
   "metadata": {
    "papermill": {
     "duration": 0.021881,
     "end_time": "2023-01-02T20:21:32.005074",
     "exception": false,
     "start_time": "2023-01-02T20:21:31.983193",
     "status": "completed"
    },
    "tags": []
   },
   "source": [
    "### Removing the NULL values from 'Age' column"
   ]
  },
  {
   "cell_type": "code",
   "execution_count": 26,
   "id": "c28d378d",
   "metadata": {
    "execution": {
     "iopub.execute_input": "2023-01-02T20:21:32.052261Z",
     "iopub.status.busy": "2023-01-02T20:21:32.051450Z",
     "iopub.status.idle": "2023-01-02T20:21:32.059342Z",
     "shell.execute_reply": "2023-01-02T20:21:32.057731Z"
    },
    "papermill": {
     "duration": 0.034572,
     "end_time": "2023-01-02T20:21:32.061917",
     "exception": false,
     "start_time": "2023-01-02T20:21:32.027345",
     "status": "completed"
    },
    "tags": []
   },
   "outputs": [
    {
     "name": "stdout",
     "output_type": "stream",
     "text": [
      "NULLs percentage in Testing DataFrame Age column is: 20.57 %\n"
     ]
    }
   ],
   "source": [
    "print('NULLs percentage in Testing DataFrame Age column is: {:.2f} %'.format((df_test['Age'].isna().sum()/len(df_test['Age']))*100))"
   ]
  },
  {
   "cell_type": "code",
   "execution_count": 27,
   "id": "4c1ccbbd",
   "metadata": {
    "execution": {
     "iopub.execute_input": "2023-01-02T20:21:32.108844Z",
     "iopub.status.busy": "2023-01-02T20:21:32.108408Z",
     "iopub.status.idle": "2023-01-02T20:21:32.123375Z",
     "shell.execute_reply": "2023-01-02T20:21:32.122068Z"
    },
    "papermill": {
     "duration": 0.041115,
     "end_time": "2023-01-02T20:21:32.126029",
     "exception": false,
     "start_time": "2023-01-02T20:21:32.084914",
     "status": "completed"
    },
    "tags": []
   },
   "outputs": [
    {
     "data": {
      "text/html": [
       "<div>\n",
       "<style scoped>\n",
       "    .dataframe tbody tr th:only-of-type {\n",
       "        vertical-align: middle;\n",
       "    }\n",
       "\n",
       "    .dataframe tbody tr th {\n",
       "        vertical-align: top;\n",
       "    }\n",
       "\n",
       "    .dataframe thead th {\n",
       "        text-align: right;\n",
       "    }\n",
       "</style>\n",
       "<table border=\"1\" class=\"dataframe\">\n",
       "  <thead>\n",
       "    <tr style=\"text-align: right;\">\n",
       "      <th></th>\n",
       "      <th>Correlation</th>\n",
       "    </tr>\n",
       "  </thead>\n",
       "  <tbody>\n",
       "    <tr>\n",
       "      <th>Pclass</th>\n",
       "      <td>-0.492143</td>\n",
       "    </tr>\n",
       "    <tr>\n",
       "      <th>SibSp</th>\n",
       "      <td>-0.091587</td>\n",
       "    </tr>\n",
       "    <tr>\n",
       "      <th>Parch</th>\n",
       "      <td>-0.061249</td>\n",
       "    </tr>\n",
       "    <tr>\n",
       "      <th>PassengerId</th>\n",
       "      <td>-0.034102</td>\n",
       "    </tr>\n",
       "    <tr>\n",
       "      <th>Fare</th>\n",
       "      <td>0.337932</td>\n",
       "    </tr>\n",
       "  </tbody>\n",
       "</table>\n",
       "</div>"
      ],
      "text/plain": [
       "             Correlation\n",
       "Pclass         -0.492143\n",
       "SibSp          -0.091587\n",
       "Parch          -0.061249\n",
       "PassengerId    -0.034102\n",
       "Fare            0.337932"
      ]
     },
     "execution_count": 27,
     "metadata": {},
     "output_type": "execute_result"
    }
   ],
   "source": [
    "age_corr = df_test.corr()['Age'].sort_values()\n",
    "age_corr.drop('Age', inplace=True)\n",
    "df_corr = pd.DataFrame(age_corr.values, columns=['Correlation'], index= age_corr.keys())\n",
    "df_corr.sort_values('Correlation')"
   ]
  },
  {
   "cell_type": "code",
   "execution_count": 28,
   "id": "a693652e",
   "metadata": {
    "execution": {
     "iopub.execute_input": "2023-01-02T20:21:32.176934Z",
     "iopub.status.busy": "2023-01-02T20:21:32.176497Z",
     "iopub.status.idle": "2023-01-02T20:21:32.185543Z",
     "shell.execute_reply": "2023-01-02T20:21:32.184382Z"
    },
    "papermill": {
     "duration": 0.037402,
     "end_time": "2023-01-02T20:21:32.187934",
     "exception": false,
     "start_time": "2023-01-02T20:21:32.150532",
     "status": "completed"
    },
    "tags": []
   },
   "outputs": [
    {
     "data": {
      "text/plain": [
       "Pclass\n",
       "1    42.0\n",
       "2    26.5\n",
       "3    24.0\n",
       "Name: Age, dtype: float64"
      ]
     },
     "execution_count": 28,
     "metadata": {},
     "output_type": "execute_result"
    }
   ],
   "source": [
    "df_test.groupby('Pclass')['Age'].median()"
   ]
  },
  {
   "cell_type": "code",
   "execution_count": 29,
   "id": "5ceecb1a",
   "metadata": {
    "execution": {
     "iopub.execute_input": "2023-01-02T20:21:32.235530Z",
     "iopub.status.busy": "2023-01-02T20:21:32.234783Z",
     "iopub.status.idle": "2023-01-02T20:21:32.244671Z",
     "shell.execute_reply": "2023-01-02T20:21:32.243482Z"
    },
    "papermill": {
     "duration": 0.036158,
     "end_time": "2023-01-02T20:21:32.247106",
     "exception": false,
     "start_time": "2023-01-02T20:21:32.210948",
     "status": "completed"
    },
    "tags": []
   },
   "outputs": [],
   "source": [
    "df_test['Age'] = df_test.groupby('Pclass')['Age'].transform(lambda row: row.fillna(row.median()))"
   ]
  },
  {
   "cell_type": "code",
   "execution_count": 30,
   "id": "e0f69a99",
   "metadata": {
    "execution": {
     "iopub.execute_input": "2023-01-02T20:21:32.297868Z",
     "iopub.status.busy": "2023-01-02T20:21:32.296669Z",
     "iopub.status.idle": "2023-01-02T20:21:32.321923Z",
     "shell.execute_reply": "2023-01-02T20:21:32.320752Z"
    },
    "papermill": {
     "duration": 0.053731,
     "end_time": "2023-01-02T20:21:32.324391",
     "exception": false,
     "start_time": "2023-01-02T20:21:32.270660",
     "status": "completed"
    },
    "tags": []
   },
   "outputs": [
    {
     "data": {
      "text/html": [
       "<div>\n",
       "<style scoped>\n",
       "    .dataframe tbody tr th:only-of-type {\n",
       "        vertical-align: middle;\n",
       "    }\n",
       "\n",
       "    .dataframe tbody tr th {\n",
       "        vertical-align: top;\n",
       "    }\n",
       "\n",
       "    .dataframe thead th {\n",
       "        text-align: right;\n",
       "    }\n",
       "</style>\n",
       "<table border=\"1\" class=\"dataframe\">\n",
       "  <thead>\n",
       "    <tr style=\"text-align: right;\">\n",
       "      <th></th>\n",
       "      <th>PassengerId</th>\n",
       "      <th>Pclass</th>\n",
       "      <th>Name</th>\n",
       "      <th>Sex</th>\n",
       "      <th>Age</th>\n",
       "      <th>SibSp</th>\n",
       "      <th>Parch</th>\n",
       "      <th>Ticket</th>\n",
       "      <th>Fare</th>\n",
       "      <th>Cabin</th>\n",
       "      <th>Embarked</th>\n",
       "    </tr>\n",
       "  </thead>\n",
       "  <tbody>\n",
       "    <tr>\n",
       "      <th>0</th>\n",
       "      <td>892</td>\n",
       "      <td>3</td>\n",
       "      <td>Kelly, Mr. James</td>\n",
       "      <td>male</td>\n",
       "      <td>34.5</td>\n",
       "      <td>0</td>\n",
       "      <td>0</td>\n",
       "      <td>330911</td>\n",
       "      <td>7.8292</td>\n",
       "      <td>NaN</td>\n",
       "      <td>Q</td>\n",
       "    </tr>\n",
       "    <tr>\n",
       "      <th>1</th>\n",
       "      <td>893</td>\n",
       "      <td>3</td>\n",
       "      <td>Wilkes, Mrs. James (Ellen Needs)</td>\n",
       "      <td>female</td>\n",
       "      <td>47.0</td>\n",
       "      <td>1</td>\n",
       "      <td>0</td>\n",
       "      <td>363272</td>\n",
       "      <td>7.0000</td>\n",
       "      <td>NaN</td>\n",
       "      <td>S</td>\n",
       "    </tr>\n",
       "    <tr>\n",
       "      <th>2</th>\n",
       "      <td>894</td>\n",
       "      <td>2</td>\n",
       "      <td>Myles, Mr. Thomas Francis</td>\n",
       "      <td>male</td>\n",
       "      <td>62.0</td>\n",
       "      <td>0</td>\n",
       "      <td>0</td>\n",
       "      <td>240276</td>\n",
       "      <td>9.6875</td>\n",
       "      <td>NaN</td>\n",
       "      <td>Q</td>\n",
       "    </tr>\n",
       "    <tr>\n",
       "      <th>3</th>\n",
       "      <td>895</td>\n",
       "      <td>3</td>\n",
       "      <td>Wirz, Mr. Albert</td>\n",
       "      <td>male</td>\n",
       "      <td>27.0</td>\n",
       "      <td>0</td>\n",
       "      <td>0</td>\n",
       "      <td>315154</td>\n",
       "      <td>8.6625</td>\n",
       "      <td>NaN</td>\n",
       "      <td>S</td>\n",
       "    </tr>\n",
       "    <tr>\n",
       "      <th>4</th>\n",
       "      <td>896</td>\n",
       "      <td>3</td>\n",
       "      <td>Hirvonen, Mrs. Alexander (Helga E Lindqvist)</td>\n",
       "      <td>female</td>\n",
       "      <td>22.0</td>\n",
       "      <td>1</td>\n",
       "      <td>1</td>\n",
       "      <td>3101298</td>\n",
       "      <td>12.2875</td>\n",
       "      <td>NaN</td>\n",
       "      <td>S</td>\n",
       "    </tr>\n",
       "    <tr>\n",
       "      <th>...</th>\n",
       "      <td>...</td>\n",
       "      <td>...</td>\n",
       "      <td>...</td>\n",
       "      <td>...</td>\n",
       "      <td>...</td>\n",
       "      <td>...</td>\n",
       "      <td>...</td>\n",
       "      <td>...</td>\n",
       "      <td>...</td>\n",
       "      <td>...</td>\n",
       "      <td>...</td>\n",
       "    </tr>\n",
       "    <tr>\n",
       "      <th>413</th>\n",
       "      <td>1305</td>\n",
       "      <td>3</td>\n",
       "      <td>Spector, Mr. Woolf</td>\n",
       "      <td>male</td>\n",
       "      <td>24.0</td>\n",
       "      <td>0</td>\n",
       "      <td>0</td>\n",
       "      <td>A.5. 3236</td>\n",
       "      <td>8.0500</td>\n",
       "      <td>NaN</td>\n",
       "      <td>S</td>\n",
       "    </tr>\n",
       "    <tr>\n",
       "      <th>414</th>\n",
       "      <td>1306</td>\n",
       "      <td>1</td>\n",
       "      <td>Oliva y Ocana, Dona. Fermina</td>\n",
       "      <td>female</td>\n",
       "      <td>39.0</td>\n",
       "      <td>0</td>\n",
       "      <td>0</td>\n",
       "      <td>PC 17758</td>\n",
       "      <td>108.9000</td>\n",
       "      <td>C105</td>\n",
       "      <td>C</td>\n",
       "    </tr>\n",
       "    <tr>\n",
       "      <th>415</th>\n",
       "      <td>1307</td>\n",
       "      <td>3</td>\n",
       "      <td>Saether, Mr. Simon Sivertsen</td>\n",
       "      <td>male</td>\n",
       "      <td>38.5</td>\n",
       "      <td>0</td>\n",
       "      <td>0</td>\n",
       "      <td>SOTON/O.Q. 3101262</td>\n",
       "      <td>7.2500</td>\n",
       "      <td>NaN</td>\n",
       "      <td>S</td>\n",
       "    </tr>\n",
       "    <tr>\n",
       "      <th>416</th>\n",
       "      <td>1308</td>\n",
       "      <td>3</td>\n",
       "      <td>Ware, Mr. Frederick</td>\n",
       "      <td>male</td>\n",
       "      <td>24.0</td>\n",
       "      <td>0</td>\n",
       "      <td>0</td>\n",
       "      <td>359309</td>\n",
       "      <td>8.0500</td>\n",
       "      <td>NaN</td>\n",
       "      <td>S</td>\n",
       "    </tr>\n",
       "    <tr>\n",
       "      <th>417</th>\n",
       "      <td>1309</td>\n",
       "      <td>3</td>\n",
       "      <td>Peter, Master. Michael J</td>\n",
       "      <td>male</td>\n",
       "      <td>24.0</td>\n",
       "      <td>1</td>\n",
       "      <td>1</td>\n",
       "      <td>2668</td>\n",
       "      <td>22.3583</td>\n",
       "      <td>NaN</td>\n",
       "      <td>C</td>\n",
       "    </tr>\n",
       "  </tbody>\n",
       "</table>\n",
       "<p>418 rows × 11 columns</p>\n",
       "</div>"
      ],
      "text/plain": [
       "     PassengerId  Pclass                                          Name  \\\n",
       "0            892       3                              Kelly, Mr. James   \n",
       "1            893       3              Wilkes, Mrs. James (Ellen Needs)   \n",
       "2            894       2                     Myles, Mr. Thomas Francis   \n",
       "3            895       3                              Wirz, Mr. Albert   \n",
       "4            896       3  Hirvonen, Mrs. Alexander (Helga E Lindqvist)   \n",
       "..           ...     ...                                           ...   \n",
       "413         1305       3                            Spector, Mr. Woolf   \n",
       "414         1306       1                  Oliva y Ocana, Dona. Fermina   \n",
       "415         1307       3                  Saether, Mr. Simon Sivertsen   \n",
       "416         1308       3                           Ware, Mr. Frederick   \n",
       "417         1309       3                      Peter, Master. Michael J   \n",
       "\n",
       "        Sex   Age  SibSp  Parch              Ticket      Fare Cabin Embarked  \n",
       "0      male  34.5      0      0              330911    7.8292   NaN        Q  \n",
       "1    female  47.0      1      0              363272    7.0000   NaN        S  \n",
       "2      male  62.0      0      0              240276    9.6875   NaN        Q  \n",
       "3      male  27.0      0      0              315154    8.6625   NaN        S  \n",
       "4    female  22.0      1      1             3101298   12.2875   NaN        S  \n",
       "..      ...   ...    ...    ...                 ...       ...   ...      ...  \n",
       "413    male  24.0      0      0           A.5. 3236    8.0500   NaN        S  \n",
       "414  female  39.0      0      0            PC 17758  108.9000  C105        C  \n",
       "415    male  38.5      0      0  SOTON/O.Q. 3101262    7.2500   NaN        S  \n",
       "416    male  24.0      0      0              359309    8.0500   NaN        S  \n",
       "417    male  24.0      1      1                2668   22.3583   NaN        C  \n",
       "\n",
       "[418 rows x 11 columns]"
      ]
     },
     "execution_count": 30,
     "metadata": {},
     "output_type": "execute_result"
    }
   ],
   "source": [
    "df_test"
   ]
  },
  {
   "cell_type": "code",
   "execution_count": 31,
   "id": "11162080",
   "metadata": {
    "execution": {
     "iopub.execute_input": "2023-01-02T20:21:32.372808Z",
     "iopub.status.busy": "2023-01-02T20:21:32.371961Z",
     "iopub.status.idle": "2023-01-02T20:21:32.397698Z",
     "shell.execute_reply": "2023-01-02T20:21:32.396492Z"
    },
    "papermill": {
     "duration": 0.052248,
     "end_time": "2023-01-02T20:21:32.400055",
     "exception": false,
     "start_time": "2023-01-02T20:21:32.347807",
     "status": "completed"
    },
    "tags": []
   },
   "outputs": [
    {
     "data": {
      "text/html": [
       "<div>\n",
       "<style scoped>\n",
       "    .dataframe tbody tr th:only-of-type {\n",
       "        vertical-align: middle;\n",
       "    }\n",
       "\n",
       "    .dataframe tbody tr th {\n",
       "        vertical-align: top;\n",
       "    }\n",
       "\n",
       "    .dataframe thead th {\n",
       "        text-align: right;\n",
       "    }\n",
       "</style>\n",
       "<table border=\"1\" class=\"dataframe\">\n",
       "  <thead>\n",
       "    <tr style=\"text-align: right;\">\n",
       "      <th></th>\n",
       "      <th>PassengerId</th>\n",
       "      <th>Pclass</th>\n",
       "      <th>Name</th>\n",
       "      <th>Sex</th>\n",
       "      <th>Age</th>\n",
       "      <th>SibSp</th>\n",
       "      <th>Parch</th>\n",
       "      <th>Ticket</th>\n",
       "      <th>Fare</th>\n",
       "      <th>Cabin</th>\n",
       "      <th>Embarked</th>\n",
       "    </tr>\n",
       "  </thead>\n",
       "  <tbody>\n",
       "    <tr>\n",
       "      <th>0</th>\n",
       "      <td>False</td>\n",
       "      <td>False</td>\n",
       "      <td>False</td>\n",
       "      <td>False</td>\n",
       "      <td>False</td>\n",
       "      <td>False</td>\n",
       "      <td>False</td>\n",
       "      <td>False</td>\n",
       "      <td>False</td>\n",
       "      <td>True</td>\n",
       "      <td>False</td>\n",
       "    </tr>\n",
       "    <tr>\n",
       "      <th>1</th>\n",
       "      <td>False</td>\n",
       "      <td>False</td>\n",
       "      <td>False</td>\n",
       "      <td>False</td>\n",
       "      <td>False</td>\n",
       "      <td>False</td>\n",
       "      <td>False</td>\n",
       "      <td>False</td>\n",
       "      <td>False</td>\n",
       "      <td>True</td>\n",
       "      <td>False</td>\n",
       "    </tr>\n",
       "    <tr>\n",
       "      <th>2</th>\n",
       "      <td>False</td>\n",
       "      <td>False</td>\n",
       "      <td>False</td>\n",
       "      <td>False</td>\n",
       "      <td>False</td>\n",
       "      <td>False</td>\n",
       "      <td>False</td>\n",
       "      <td>False</td>\n",
       "      <td>False</td>\n",
       "      <td>True</td>\n",
       "      <td>False</td>\n",
       "    </tr>\n",
       "    <tr>\n",
       "      <th>3</th>\n",
       "      <td>False</td>\n",
       "      <td>False</td>\n",
       "      <td>False</td>\n",
       "      <td>False</td>\n",
       "      <td>False</td>\n",
       "      <td>False</td>\n",
       "      <td>False</td>\n",
       "      <td>False</td>\n",
       "      <td>False</td>\n",
       "      <td>True</td>\n",
       "      <td>False</td>\n",
       "    </tr>\n",
       "    <tr>\n",
       "      <th>4</th>\n",
       "      <td>False</td>\n",
       "      <td>False</td>\n",
       "      <td>False</td>\n",
       "      <td>False</td>\n",
       "      <td>False</td>\n",
       "      <td>False</td>\n",
       "      <td>False</td>\n",
       "      <td>False</td>\n",
       "      <td>False</td>\n",
       "      <td>True</td>\n",
       "      <td>False</td>\n",
       "    </tr>\n",
       "    <tr>\n",
       "      <th>...</th>\n",
       "      <td>...</td>\n",
       "      <td>...</td>\n",
       "      <td>...</td>\n",
       "      <td>...</td>\n",
       "      <td>...</td>\n",
       "      <td>...</td>\n",
       "      <td>...</td>\n",
       "      <td>...</td>\n",
       "      <td>...</td>\n",
       "      <td>...</td>\n",
       "      <td>...</td>\n",
       "    </tr>\n",
       "    <tr>\n",
       "      <th>413</th>\n",
       "      <td>False</td>\n",
       "      <td>False</td>\n",
       "      <td>False</td>\n",
       "      <td>False</td>\n",
       "      <td>False</td>\n",
       "      <td>False</td>\n",
       "      <td>False</td>\n",
       "      <td>False</td>\n",
       "      <td>False</td>\n",
       "      <td>True</td>\n",
       "      <td>False</td>\n",
       "    </tr>\n",
       "    <tr>\n",
       "      <th>414</th>\n",
       "      <td>False</td>\n",
       "      <td>False</td>\n",
       "      <td>False</td>\n",
       "      <td>False</td>\n",
       "      <td>False</td>\n",
       "      <td>False</td>\n",
       "      <td>False</td>\n",
       "      <td>False</td>\n",
       "      <td>False</td>\n",
       "      <td>False</td>\n",
       "      <td>False</td>\n",
       "    </tr>\n",
       "    <tr>\n",
       "      <th>415</th>\n",
       "      <td>False</td>\n",
       "      <td>False</td>\n",
       "      <td>False</td>\n",
       "      <td>False</td>\n",
       "      <td>False</td>\n",
       "      <td>False</td>\n",
       "      <td>False</td>\n",
       "      <td>False</td>\n",
       "      <td>False</td>\n",
       "      <td>True</td>\n",
       "      <td>False</td>\n",
       "    </tr>\n",
       "    <tr>\n",
       "      <th>416</th>\n",
       "      <td>False</td>\n",
       "      <td>False</td>\n",
       "      <td>False</td>\n",
       "      <td>False</td>\n",
       "      <td>False</td>\n",
       "      <td>False</td>\n",
       "      <td>False</td>\n",
       "      <td>False</td>\n",
       "      <td>False</td>\n",
       "      <td>True</td>\n",
       "      <td>False</td>\n",
       "    </tr>\n",
       "    <tr>\n",
       "      <th>417</th>\n",
       "      <td>False</td>\n",
       "      <td>False</td>\n",
       "      <td>False</td>\n",
       "      <td>False</td>\n",
       "      <td>False</td>\n",
       "      <td>False</td>\n",
       "      <td>False</td>\n",
       "      <td>False</td>\n",
       "      <td>False</td>\n",
       "      <td>True</td>\n",
       "      <td>False</td>\n",
       "    </tr>\n",
       "  </tbody>\n",
       "</table>\n",
       "<p>418 rows × 11 columns</p>\n",
       "</div>"
      ],
      "text/plain": [
       "     PassengerId  Pclass   Name    Sex    Age  SibSp  Parch  Ticket   Fare  \\\n",
       "0          False   False  False  False  False  False  False   False  False   \n",
       "1          False   False  False  False  False  False  False   False  False   \n",
       "2          False   False  False  False  False  False  False   False  False   \n",
       "3          False   False  False  False  False  False  False   False  False   \n",
       "4          False   False  False  False  False  False  False   False  False   \n",
       "..           ...     ...    ...    ...    ...    ...    ...     ...    ...   \n",
       "413        False   False  False  False  False  False  False   False  False   \n",
       "414        False   False  False  False  False  False  False   False  False   \n",
       "415        False   False  False  False  False  False  False   False  False   \n",
       "416        False   False  False  False  False  False  False   False  False   \n",
       "417        False   False  False  False  False  False  False   False  False   \n",
       "\n",
       "     Cabin  Embarked  \n",
       "0     True     False  \n",
       "1     True     False  \n",
       "2     True     False  \n",
       "3     True     False  \n",
       "4     True     False  \n",
       "..     ...       ...  \n",
       "413   True     False  \n",
       "414  False     False  \n",
       "415   True     False  \n",
       "416   True     False  \n",
       "417   True     False  \n",
       "\n",
       "[418 rows x 11 columns]"
      ]
     },
     "execution_count": 31,
     "metadata": {},
     "output_type": "execute_result"
    }
   ],
   "source": [
    "df_test.isna()"
   ]
  },
  {
   "cell_type": "markdown",
   "id": "2b49cc81",
   "metadata": {
    "papermill": {
     "duration": 0.023222,
     "end_time": "2023-01-02T20:21:32.446604",
     "exception": false,
     "start_time": "2023-01-02T20:21:32.423382",
     "status": "completed"
    },
    "tags": []
   },
   "source": [
    "### Removing the NULL values from 'Cabin' column"
   ]
  },
  {
   "cell_type": "code",
   "execution_count": 32,
   "id": "6991682a",
   "metadata": {
    "execution": {
     "iopub.execute_input": "2023-01-02T20:21:32.496089Z",
     "iopub.status.busy": "2023-01-02T20:21:32.495669Z",
     "iopub.status.idle": "2023-01-02T20:21:32.502369Z",
     "shell.execute_reply": "2023-01-02T20:21:32.501183Z"
    },
    "papermill": {
     "duration": 0.034952,
     "end_time": "2023-01-02T20:21:32.505378",
     "exception": false,
     "start_time": "2023-01-02T20:21:32.470426",
     "status": "completed"
    },
    "tags": []
   },
   "outputs": [
    {
     "name": "stdout",
     "output_type": "stream",
     "text": [
      "NULLs percentage in Testing DataFrame Cabin column is: 78.23 %\n"
     ]
    }
   ],
   "source": [
    "print('NULLs percentage in Testing DataFrame Cabin column is: {:.2f} %'.format((df_test['Cabin'].isna().sum()/len(df_test['Cabin']))*100))"
   ]
  },
  {
   "cell_type": "code",
   "execution_count": 33,
   "id": "faac63cf",
   "metadata": {
    "execution": {
     "iopub.execute_input": "2023-01-02T20:21:32.554390Z",
     "iopub.status.busy": "2023-01-02T20:21:32.553247Z",
     "iopub.status.idle": "2023-01-02T20:21:32.560111Z",
     "shell.execute_reply": "2023-01-02T20:21:32.559004Z"
    },
    "papermill": {
     "duration": 0.033838,
     "end_time": "2023-01-02T20:21:32.562590",
     "exception": false,
     "start_time": "2023-01-02T20:21:32.528752",
     "status": "completed"
    },
    "tags": []
   },
   "outputs": [],
   "source": [
    "df_test.drop('Cabin',axis=1,inplace=True)"
   ]
  },
  {
   "cell_type": "code",
   "execution_count": 34,
   "id": "ddaccdee",
   "metadata": {
    "execution": {
     "iopub.execute_input": "2023-01-02T20:21:32.612185Z",
     "iopub.status.busy": "2023-01-02T20:21:32.611632Z",
     "iopub.status.idle": "2023-01-02T20:21:32.622348Z",
     "shell.execute_reply": "2023-01-02T20:21:32.621066Z"
    },
    "papermill": {
     "duration": 0.038549,
     "end_time": "2023-01-02T20:21:32.624856",
     "exception": false,
     "start_time": "2023-01-02T20:21:32.586307",
     "status": "completed"
    },
    "tags": []
   },
   "outputs": [
    {
     "data": {
      "text/plain": [
       "PassengerId    0\n",
       "Pclass         0\n",
       "Name           0\n",
       "Sex            0\n",
       "Age            0\n",
       "SibSp          0\n",
       "Parch          0\n",
       "Ticket         0\n",
       "Fare           1\n",
       "Embarked       0\n",
       "dtype: int64"
      ]
     },
     "execution_count": 34,
     "metadata": {},
     "output_type": "execute_result"
    }
   ],
   "source": [
    "df_test.isna().sum()"
   ]
  },
  {
   "cell_type": "markdown",
   "id": "c307c427",
   "metadata": {
    "papermill": {
     "duration": 0.023755,
     "end_time": "2023-01-02T20:21:32.673401",
     "exception": false,
     "start_time": "2023-01-02T20:21:32.649646",
     "status": "completed"
    },
    "tags": []
   },
   "source": [
    "### Removing the NULL values from 'Fare' column"
   ]
  },
  {
   "cell_type": "code",
   "execution_count": 35,
   "id": "1866097e",
   "metadata": {
    "execution": {
     "iopub.execute_input": "2023-01-02T20:21:32.722775Z",
     "iopub.status.busy": "2023-01-02T20:21:32.722348Z",
     "iopub.status.idle": "2023-01-02T20:21:32.729117Z",
     "shell.execute_reply": "2023-01-02T20:21:32.727991Z"
    },
    "papermill": {
     "duration": 0.034188,
     "end_time": "2023-01-02T20:21:32.731685",
     "exception": false,
     "start_time": "2023-01-02T20:21:32.697497",
     "status": "completed"
    },
    "tags": []
   },
   "outputs": [
    {
     "name": "stdout",
     "output_type": "stream",
     "text": [
      "NULLs percentage in Testing DataFrame Fare column is: 0.24 %\n"
     ]
    }
   ],
   "source": [
    "print('NULLs percentage in Testing DataFrame Fare column is: {:.2f} %'.format((df_test['Fare'].isna().sum()/len(df_test['Fare']))*100))"
   ]
  },
  {
   "cell_type": "code",
   "execution_count": 36,
   "id": "64cc1f0d",
   "metadata": {
    "execution": {
     "iopub.execute_input": "2023-01-02T20:21:32.779601Z",
     "iopub.status.busy": "2023-01-02T20:21:32.779174Z",
     "iopub.status.idle": "2023-01-02T20:21:32.787427Z",
     "shell.execute_reply": "2023-01-02T20:21:32.786066Z"
    },
    "papermill": {
     "duration": 0.035112,
     "end_time": "2023-01-02T20:21:32.789890",
     "exception": false,
     "start_time": "2023-01-02T20:21:32.754778",
     "status": "completed"
    },
    "tags": []
   },
   "outputs": [
    {
     "data": {
      "text/plain": [
       "14.4542"
      ]
     },
     "execution_count": 36,
     "metadata": {},
     "output_type": "execute_result"
    }
   ],
   "source": [
    "df_test['Fare'].median()"
   ]
  },
  {
   "cell_type": "code",
   "execution_count": 37,
   "id": "36c01c6d",
   "metadata": {
    "execution": {
     "iopub.execute_input": "2023-01-02T20:21:32.839706Z",
     "iopub.status.busy": "2023-01-02T20:21:32.839293Z",
     "iopub.status.idle": "2023-01-02T20:21:32.846361Z",
     "shell.execute_reply": "2023-01-02T20:21:32.845060Z"
    },
    "papermill": {
     "duration": 0.035763,
     "end_time": "2023-01-02T20:21:32.849173",
     "exception": false,
     "start_time": "2023-01-02T20:21:32.813410",
     "status": "completed"
    },
    "tags": []
   },
   "outputs": [],
   "source": [
    "df_test['Fare'].fillna(df_test['Fare'].median(), inplace=True)"
   ]
  },
  {
   "cell_type": "code",
   "execution_count": 38,
   "id": "5208e05b",
   "metadata": {
    "execution": {
     "iopub.execute_input": "2023-01-02T20:21:32.899992Z",
     "iopub.status.busy": "2023-01-02T20:21:32.899574Z",
     "iopub.status.idle": "2023-01-02T20:21:32.909490Z",
     "shell.execute_reply": "2023-01-02T20:21:32.908173Z"
    },
    "papermill": {
     "duration": 0.038238,
     "end_time": "2023-01-02T20:21:32.911752",
     "exception": false,
     "start_time": "2023-01-02T20:21:32.873514",
     "status": "completed"
    },
    "tags": []
   },
   "outputs": [
    {
     "data": {
      "text/plain": [
       "PassengerId    0\n",
       "Pclass         0\n",
       "Name           0\n",
       "Sex            0\n",
       "Age            0\n",
       "SibSp          0\n",
       "Parch          0\n",
       "Ticket         0\n",
       "Fare           0\n",
       "Embarked       0\n",
       "dtype: int64"
      ]
     },
     "execution_count": 38,
     "metadata": {},
     "output_type": "execute_result"
    }
   ],
   "source": [
    "df_test.isna().sum()"
   ]
  },
  {
   "cell_type": "markdown",
   "id": "d469c2b4",
   "metadata": {
    "papermill": {
     "duration": 0.023242,
     "end_time": "2023-01-02T20:21:32.959877",
     "exception": false,
     "start_time": "2023-01-02T20:21:32.936635",
     "status": "completed"
    },
    "tags": []
   },
   "source": [
    "### Converting non-numerical column to numerical"
   ]
  },
  {
   "cell_type": "code",
   "execution_count": 39,
   "id": "462bd774",
   "metadata": {
    "execution": {
     "iopub.execute_input": "2023-01-02T20:21:33.009833Z",
     "iopub.status.busy": "2023-01-02T20:21:33.009158Z",
     "iopub.status.idle": "2023-01-02T20:21:33.015449Z",
     "shell.execute_reply": "2023-01-02T20:21:33.014548Z"
    },
    "papermill": {
     "duration": 0.034247,
     "end_time": "2023-01-02T20:21:33.017880",
     "exception": false,
     "start_time": "2023-01-02T20:21:32.983633",
     "status": "completed"
    },
    "tags": []
   },
   "outputs": [],
   "source": [
    "gender = pd.get_dummies(df_test['Sex'],drop_first=True)\n",
    "df_test['Gender'] = gender"
   ]
  },
  {
   "cell_type": "code",
   "execution_count": 40,
   "id": "e0583ac7",
   "metadata": {
    "execution": {
     "iopub.execute_input": "2023-01-02T20:21:33.068994Z",
     "iopub.status.busy": "2023-01-02T20:21:33.068136Z",
     "iopub.status.idle": "2023-01-02T20:21:33.090232Z",
     "shell.execute_reply": "2023-01-02T20:21:33.089041Z"
    },
    "papermill": {
     "duration": 0.049814,
     "end_time": "2023-01-02T20:21:33.092687",
     "exception": false,
     "start_time": "2023-01-02T20:21:33.042873",
     "status": "completed"
    },
    "tags": []
   },
   "outputs": [
    {
     "data": {
      "text/html": [
       "<div>\n",
       "<style scoped>\n",
       "    .dataframe tbody tr th:only-of-type {\n",
       "        vertical-align: middle;\n",
       "    }\n",
       "\n",
       "    .dataframe tbody tr th {\n",
       "        vertical-align: top;\n",
       "    }\n",
       "\n",
       "    .dataframe thead th {\n",
       "        text-align: right;\n",
       "    }\n",
       "</style>\n",
       "<table border=\"1\" class=\"dataframe\">\n",
       "  <thead>\n",
       "    <tr style=\"text-align: right;\">\n",
       "      <th></th>\n",
       "      <th>PassengerId</th>\n",
       "      <th>Pclass</th>\n",
       "      <th>Name</th>\n",
       "      <th>Sex</th>\n",
       "      <th>Age</th>\n",
       "      <th>SibSp</th>\n",
       "      <th>Parch</th>\n",
       "      <th>Ticket</th>\n",
       "      <th>Fare</th>\n",
       "      <th>Embarked</th>\n",
       "      <th>Gender</th>\n",
       "    </tr>\n",
       "  </thead>\n",
       "  <tbody>\n",
       "    <tr>\n",
       "      <th>0</th>\n",
       "      <td>892</td>\n",
       "      <td>3</td>\n",
       "      <td>Kelly, Mr. James</td>\n",
       "      <td>male</td>\n",
       "      <td>34.5</td>\n",
       "      <td>0</td>\n",
       "      <td>0</td>\n",
       "      <td>330911</td>\n",
       "      <td>7.8292</td>\n",
       "      <td>Q</td>\n",
       "      <td>1</td>\n",
       "    </tr>\n",
       "    <tr>\n",
       "      <th>1</th>\n",
       "      <td>893</td>\n",
       "      <td>3</td>\n",
       "      <td>Wilkes, Mrs. James (Ellen Needs)</td>\n",
       "      <td>female</td>\n",
       "      <td>47.0</td>\n",
       "      <td>1</td>\n",
       "      <td>0</td>\n",
       "      <td>363272</td>\n",
       "      <td>7.0000</td>\n",
       "      <td>S</td>\n",
       "      <td>0</td>\n",
       "    </tr>\n",
       "    <tr>\n",
       "      <th>2</th>\n",
       "      <td>894</td>\n",
       "      <td>2</td>\n",
       "      <td>Myles, Mr. Thomas Francis</td>\n",
       "      <td>male</td>\n",
       "      <td>62.0</td>\n",
       "      <td>0</td>\n",
       "      <td>0</td>\n",
       "      <td>240276</td>\n",
       "      <td>9.6875</td>\n",
       "      <td>Q</td>\n",
       "      <td>1</td>\n",
       "    </tr>\n",
       "    <tr>\n",
       "      <th>3</th>\n",
       "      <td>895</td>\n",
       "      <td>3</td>\n",
       "      <td>Wirz, Mr. Albert</td>\n",
       "      <td>male</td>\n",
       "      <td>27.0</td>\n",
       "      <td>0</td>\n",
       "      <td>0</td>\n",
       "      <td>315154</td>\n",
       "      <td>8.6625</td>\n",
       "      <td>S</td>\n",
       "      <td>1</td>\n",
       "    </tr>\n",
       "    <tr>\n",
       "      <th>4</th>\n",
       "      <td>896</td>\n",
       "      <td>3</td>\n",
       "      <td>Hirvonen, Mrs. Alexander (Helga E Lindqvist)</td>\n",
       "      <td>female</td>\n",
       "      <td>22.0</td>\n",
       "      <td>1</td>\n",
       "      <td>1</td>\n",
       "      <td>3101298</td>\n",
       "      <td>12.2875</td>\n",
       "      <td>S</td>\n",
       "      <td>0</td>\n",
       "    </tr>\n",
       "    <tr>\n",
       "      <th>...</th>\n",
       "      <td>...</td>\n",
       "      <td>...</td>\n",
       "      <td>...</td>\n",
       "      <td>...</td>\n",
       "      <td>...</td>\n",
       "      <td>...</td>\n",
       "      <td>...</td>\n",
       "      <td>...</td>\n",
       "      <td>...</td>\n",
       "      <td>...</td>\n",
       "      <td>...</td>\n",
       "    </tr>\n",
       "    <tr>\n",
       "      <th>413</th>\n",
       "      <td>1305</td>\n",
       "      <td>3</td>\n",
       "      <td>Spector, Mr. Woolf</td>\n",
       "      <td>male</td>\n",
       "      <td>24.0</td>\n",
       "      <td>0</td>\n",
       "      <td>0</td>\n",
       "      <td>A.5. 3236</td>\n",
       "      <td>8.0500</td>\n",
       "      <td>S</td>\n",
       "      <td>1</td>\n",
       "    </tr>\n",
       "    <tr>\n",
       "      <th>414</th>\n",
       "      <td>1306</td>\n",
       "      <td>1</td>\n",
       "      <td>Oliva y Ocana, Dona. Fermina</td>\n",
       "      <td>female</td>\n",
       "      <td>39.0</td>\n",
       "      <td>0</td>\n",
       "      <td>0</td>\n",
       "      <td>PC 17758</td>\n",
       "      <td>108.9000</td>\n",
       "      <td>C</td>\n",
       "      <td>0</td>\n",
       "    </tr>\n",
       "    <tr>\n",
       "      <th>415</th>\n",
       "      <td>1307</td>\n",
       "      <td>3</td>\n",
       "      <td>Saether, Mr. Simon Sivertsen</td>\n",
       "      <td>male</td>\n",
       "      <td>38.5</td>\n",
       "      <td>0</td>\n",
       "      <td>0</td>\n",
       "      <td>SOTON/O.Q. 3101262</td>\n",
       "      <td>7.2500</td>\n",
       "      <td>S</td>\n",
       "      <td>1</td>\n",
       "    </tr>\n",
       "    <tr>\n",
       "      <th>416</th>\n",
       "      <td>1308</td>\n",
       "      <td>3</td>\n",
       "      <td>Ware, Mr. Frederick</td>\n",
       "      <td>male</td>\n",
       "      <td>24.0</td>\n",
       "      <td>0</td>\n",
       "      <td>0</td>\n",
       "      <td>359309</td>\n",
       "      <td>8.0500</td>\n",
       "      <td>S</td>\n",
       "      <td>1</td>\n",
       "    </tr>\n",
       "    <tr>\n",
       "      <th>417</th>\n",
       "      <td>1309</td>\n",
       "      <td>3</td>\n",
       "      <td>Peter, Master. Michael J</td>\n",
       "      <td>male</td>\n",
       "      <td>24.0</td>\n",
       "      <td>1</td>\n",
       "      <td>1</td>\n",
       "      <td>2668</td>\n",
       "      <td>22.3583</td>\n",
       "      <td>C</td>\n",
       "      <td>1</td>\n",
       "    </tr>\n",
       "  </tbody>\n",
       "</table>\n",
       "<p>418 rows × 11 columns</p>\n",
       "</div>"
      ],
      "text/plain": [
       "     PassengerId  Pclass                                          Name  \\\n",
       "0            892       3                              Kelly, Mr. James   \n",
       "1            893       3              Wilkes, Mrs. James (Ellen Needs)   \n",
       "2            894       2                     Myles, Mr. Thomas Francis   \n",
       "3            895       3                              Wirz, Mr. Albert   \n",
       "4            896       3  Hirvonen, Mrs. Alexander (Helga E Lindqvist)   \n",
       "..           ...     ...                                           ...   \n",
       "413         1305       3                            Spector, Mr. Woolf   \n",
       "414         1306       1                  Oliva y Ocana, Dona. Fermina   \n",
       "415         1307       3                  Saether, Mr. Simon Sivertsen   \n",
       "416         1308       3                           Ware, Mr. Frederick   \n",
       "417         1309       3                      Peter, Master. Michael J   \n",
       "\n",
       "        Sex   Age  SibSp  Parch              Ticket      Fare Embarked  Gender  \n",
       "0      male  34.5      0      0              330911    7.8292        Q       1  \n",
       "1    female  47.0      1      0              363272    7.0000        S       0  \n",
       "2      male  62.0      0      0              240276    9.6875        Q       1  \n",
       "3      male  27.0      0      0              315154    8.6625        S       1  \n",
       "4    female  22.0      1      1             3101298   12.2875        S       0  \n",
       "..      ...   ...    ...    ...                 ...       ...      ...     ...  \n",
       "413    male  24.0      0      0           A.5. 3236    8.0500        S       1  \n",
       "414  female  39.0      0      0            PC 17758  108.9000        C       0  \n",
       "415    male  38.5      0      0  SOTON/O.Q. 3101262    7.2500        S       1  \n",
       "416    male  24.0      0      0              359309    8.0500        S       1  \n",
       "417    male  24.0      1      1                2668   22.3583        C       1  \n",
       "\n",
       "[418 rows x 11 columns]"
      ]
     },
     "execution_count": 40,
     "metadata": {},
     "output_type": "execute_result"
    }
   ],
   "source": [
    "df_test"
   ]
  },
  {
   "cell_type": "markdown",
   "id": "8a1c054f",
   "metadata": {
    "papermill": {
     "duration": 0.023778,
     "end_time": "2023-01-02T20:21:33.140422",
     "exception": false,
     "start_time": "2023-01-02T20:21:33.116644",
     "status": "completed"
    },
    "tags": []
   },
   "source": [
    "### Dropping the Unnecessary Columns"
   ]
  },
  {
   "cell_type": "code",
   "execution_count": 41,
   "id": "91b5d19e",
   "metadata": {
    "execution": {
     "iopub.execute_input": "2023-01-02T20:21:33.191265Z",
     "iopub.status.busy": "2023-01-02T20:21:33.190844Z",
     "iopub.status.idle": "2023-01-02T20:21:33.197067Z",
     "shell.execute_reply": "2023-01-02T20:21:33.195835Z"
    },
    "papermill": {
     "duration": 0.033964,
     "end_time": "2023-01-02T20:21:33.199356",
     "exception": false,
     "start_time": "2023-01-02T20:21:33.165392",
     "status": "completed"
    },
    "tags": []
   },
   "outputs": [],
   "source": [
    "df_test.drop(['Name', 'Sex', 'Ticket', 'Embarked'],axis=1,inplace=True)"
   ]
  },
  {
   "cell_type": "markdown",
   "id": "bb0284d0",
   "metadata": {
    "papermill": {
     "duration": 0.023385,
     "end_time": "2023-01-02T20:21:33.246554",
     "exception": false,
     "start_time": "2023-01-02T20:21:33.223169",
     "status": "completed"
    },
    "tags": []
   },
   "source": [
    "# Validating the DataFrames"
   ]
  },
  {
   "cell_type": "code",
   "execution_count": 42,
   "id": "d551b1c7",
   "metadata": {
    "execution": {
     "iopub.execute_input": "2023-01-02T20:21:33.297186Z",
     "iopub.status.busy": "2023-01-02T20:21:33.295926Z",
     "iopub.status.idle": "2023-01-02T20:21:33.315293Z",
     "shell.execute_reply": "2023-01-02T20:21:33.313813Z"
    },
    "papermill": {
     "duration": 0.047649,
     "end_time": "2023-01-02T20:21:33.318041",
     "exception": false,
     "start_time": "2023-01-02T20:21:33.270392",
     "status": "completed"
    },
    "tags": []
   },
   "outputs": [
    {
     "data": {
      "text/html": [
       "<div>\n",
       "<style scoped>\n",
       "    .dataframe tbody tr th:only-of-type {\n",
       "        vertical-align: middle;\n",
       "    }\n",
       "\n",
       "    .dataframe tbody tr th {\n",
       "        vertical-align: top;\n",
       "    }\n",
       "\n",
       "    .dataframe thead th {\n",
       "        text-align: right;\n",
       "    }\n",
       "</style>\n",
       "<table border=\"1\" class=\"dataframe\">\n",
       "  <thead>\n",
       "    <tr style=\"text-align: right;\">\n",
       "      <th></th>\n",
       "      <th>PassengerId</th>\n",
       "      <th>Survived</th>\n",
       "      <th>Pclass</th>\n",
       "      <th>Age</th>\n",
       "      <th>SibSp</th>\n",
       "      <th>Parch</th>\n",
       "      <th>Fare</th>\n",
       "      <th>Gender</th>\n",
       "    </tr>\n",
       "  </thead>\n",
       "  <tbody>\n",
       "    <tr>\n",
       "      <th>0</th>\n",
       "      <td>1</td>\n",
       "      <td>0</td>\n",
       "      <td>3</td>\n",
       "      <td>22.0</td>\n",
       "      <td>1</td>\n",
       "      <td>0</td>\n",
       "      <td>7.2500</td>\n",
       "      <td>1</td>\n",
       "    </tr>\n",
       "    <tr>\n",
       "      <th>1</th>\n",
       "      <td>2</td>\n",
       "      <td>1</td>\n",
       "      <td>1</td>\n",
       "      <td>38.0</td>\n",
       "      <td>1</td>\n",
       "      <td>0</td>\n",
       "      <td>71.2833</td>\n",
       "      <td>0</td>\n",
       "    </tr>\n",
       "    <tr>\n",
       "      <th>2</th>\n",
       "      <td>3</td>\n",
       "      <td>1</td>\n",
       "      <td>3</td>\n",
       "      <td>26.0</td>\n",
       "      <td>0</td>\n",
       "      <td>0</td>\n",
       "      <td>7.9250</td>\n",
       "      <td>0</td>\n",
       "    </tr>\n",
       "    <tr>\n",
       "      <th>3</th>\n",
       "      <td>4</td>\n",
       "      <td>1</td>\n",
       "      <td>1</td>\n",
       "      <td>35.0</td>\n",
       "      <td>1</td>\n",
       "      <td>0</td>\n",
       "      <td>53.1000</td>\n",
       "      <td>0</td>\n",
       "    </tr>\n",
       "    <tr>\n",
       "      <th>4</th>\n",
       "      <td>5</td>\n",
       "      <td>0</td>\n",
       "      <td>3</td>\n",
       "      <td>35.0</td>\n",
       "      <td>0</td>\n",
       "      <td>0</td>\n",
       "      <td>8.0500</td>\n",
       "      <td>1</td>\n",
       "    </tr>\n",
       "    <tr>\n",
       "      <th>...</th>\n",
       "      <td>...</td>\n",
       "      <td>...</td>\n",
       "      <td>...</td>\n",
       "      <td>...</td>\n",
       "      <td>...</td>\n",
       "      <td>...</td>\n",
       "      <td>...</td>\n",
       "      <td>...</td>\n",
       "    </tr>\n",
       "    <tr>\n",
       "      <th>886</th>\n",
       "      <td>887</td>\n",
       "      <td>0</td>\n",
       "      <td>2</td>\n",
       "      <td>27.0</td>\n",
       "      <td>0</td>\n",
       "      <td>0</td>\n",
       "      <td>13.0000</td>\n",
       "      <td>1</td>\n",
       "    </tr>\n",
       "    <tr>\n",
       "      <th>887</th>\n",
       "      <td>888</td>\n",
       "      <td>1</td>\n",
       "      <td>1</td>\n",
       "      <td>19.0</td>\n",
       "      <td>0</td>\n",
       "      <td>0</td>\n",
       "      <td>30.0000</td>\n",
       "      <td>0</td>\n",
       "    </tr>\n",
       "    <tr>\n",
       "      <th>888</th>\n",
       "      <td>889</td>\n",
       "      <td>0</td>\n",
       "      <td>3</td>\n",
       "      <td>24.0</td>\n",
       "      <td>1</td>\n",
       "      <td>2</td>\n",
       "      <td>23.4500</td>\n",
       "      <td>0</td>\n",
       "    </tr>\n",
       "    <tr>\n",
       "      <th>889</th>\n",
       "      <td>890</td>\n",
       "      <td>1</td>\n",
       "      <td>1</td>\n",
       "      <td>26.0</td>\n",
       "      <td>0</td>\n",
       "      <td>0</td>\n",
       "      <td>30.0000</td>\n",
       "      <td>1</td>\n",
       "    </tr>\n",
       "    <tr>\n",
       "      <th>890</th>\n",
       "      <td>891</td>\n",
       "      <td>0</td>\n",
       "      <td>3</td>\n",
       "      <td>32.0</td>\n",
       "      <td>0</td>\n",
       "      <td>0</td>\n",
       "      <td>7.7500</td>\n",
       "      <td>1</td>\n",
       "    </tr>\n",
       "  </tbody>\n",
       "</table>\n",
       "<p>891 rows × 8 columns</p>\n",
       "</div>"
      ],
      "text/plain": [
       "     PassengerId  Survived  Pclass   Age  SibSp  Parch     Fare  Gender\n",
       "0              1         0       3  22.0      1      0   7.2500       1\n",
       "1              2         1       1  38.0      1      0  71.2833       0\n",
       "2              3         1       3  26.0      0      0   7.9250       0\n",
       "3              4         1       1  35.0      1      0  53.1000       0\n",
       "4              5         0       3  35.0      0      0   8.0500       1\n",
       "..           ...       ...     ...   ...    ...    ...      ...     ...\n",
       "886          887         0       2  27.0      0      0  13.0000       1\n",
       "887          888         1       1  19.0      0      0  30.0000       0\n",
       "888          889         0       3  24.0      1      2  23.4500       0\n",
       "889          890         1       1  26.0      0      0  30.0000       1\n",
       "890          891         0       3  32.0      0      0   7.7500       1\n",
       "\n",
       "[891 rows x 8 columns]"
      ]
     },
     "execution_count": 42,
     "metadata": {},
     "output_type": "execute_result"
    }
   ],
   "source": [
    "df_train"
   ]
  },
  {
   "cell_type": "code",
   "execution_count": 43,
   "id": "9859a79d",
   "metadata": {
    "execution": {
     "iopub.execute_input": "2023-01-02T20:21:33.370121Z",
     "iopub.status.busy": "2023-01-02T20:21:33.369208Z",
     "iopub.status.idle": "2023-01-02T20:21:33.388565Z",
     "shell.execute_reply": "2023-01-02T20:21:33.387185Z"
    },
    "papermill": {
     "duration": 0.04823,
     "end_time": "2023-01-02T20:21:33.391458",
     "exception": false,
     "start_time": "2023-01-02T20:21:33.343228",
     "status": "completed"
    },
    "tags": []
   },
   "outputs": [
    {
     "data": {
      "text/html": [
       "<div>\n",
       "<style scoped>\n",
       "    .dataframe tbody tr th:only-of-type {\n",
       "        vertical-align: middle;\n",
       "    }\n",
       "\n",
       "    .dataframe tbody tr th {\n",
       "        vertical-align: top;\n",
       "    }\n",
       "\n",
       "    .dataframe thead th {\n",
       "        text-align: right;\n",
       "    }\n",
       "</style>\n",
       "<table border=\"1\" class=\"dataframe\">\n",
       "  <thead>\n",
       "    <tr style=\"text-align: right;\">\n",
       "      <th></th>\n",
       "      <th>PassengerId</th>\n",
       "      <th>Pclass</th>\n",
       "      <th>Age</th>\n",
       "      <th>SibSp</th>\n",
       "      <th>Parch</th>\n",
       "      <th>Fare</th>\n",
       "      <th>Gender</th>\n",
       "    </tr>\n",
       "  </thead>\n",
       "  <tbody>\n",
       "    <tr>\n",
       "      <th>0</th>\n",
       "      <td>892</td>\n",
       "      <td>3</td>\n",
       "      <td>34.5</td>\n",
       "      <td>0</td>\n",
       "      <td>0</td>\n",
       "      <td>7.8292</td>\n",
       "      <td>1</td>\n",
       "    </tr>\n",
       "    <tr>\n",
       "      <th>1</th>\n",
       "      <td>893</td>\n",
       "      <td>3</td>\n",
       "      <td>47.0</td>\n",
       "      <td>1</td>\n",
       "      <td>0</td>\n",
       "      <td>7.0000</td>\n",
       "      <td>0</td>\n",
       "    </tr>\n",
       "    <tr>\n",
       "      <th>2</th>\n",
       "      <td>894</td>\n",
       "      <td>2</td>\n",
       "      <td>62.0</td>\n",
       "      <td>0</td>\n",
       "      <td>0</td>\n",
       "      <td>9.6875</td>\n",
       "      <td>1</td>\n",
       "    </tr>\n",
       "    <tr>\n",
       "      <th>3</th>\n",
       "      <td>895</td>\n",
       "      <td>3</td>\n",
       "      <td>27.0</td>\n",
       "      <td>0</td>\n",
       "      <td>0</td>\n",
       "      <td>8.6625</td>\n",
       "      <td>1</td>\n",
       "    </tr>\n",
       "    <tr>\n",
       "      <th>4</th>\n",
       "      <td>896</td>\n",
       "      <td>3</td>\n",
       "      <td>22.0</td>\n",
       "      <td>1</td>\n",
       "      <td>1</td>\n",
       "      <td>12.2875</td>\n",
       "      <td>0</td>\n",
       "    </tr>\n",
       "    <tr>\n",
       "      <th>...</th>\n",
       "      <td>...</td>\n",
       "      <td>...</td>\n",
       "      <td>...</td>\n",
       "      <td>...</td>\n",
       "      <td>...</td>\n",
       "      <td>...</td>\n",
       "      <td>...</td>\n",
       "    </tr>\n",
       "    <tr>\n",
       "      <th>413</th>\n",
       "      <td>1305</td>\n",
       "      <td>3</td>\n",
       "      <td>24.0</td>\n",
       "      <td>0</td>\n",
       "      <td>0</td>\n",
       "      <td>8.0500</td>\n",
       "      <td>1</td>\n",
       "    </tr>\n",
       "    <tr>\n",
       "      <th>414</th>\n",
       "      <td>1306</td>\n",
       "      <td>1</td>\n",
       "      <td>39.0</td>\n",
       "      <td>0</td>\n",
       "      <td>0</td>\n",
       "      <td>108.9000</td>\n",
       "      <td>0</td>\n",
       "    </tr>\n",
       "    <tr>\n",
       "      <th>415</th>\n",
       "      <td>1307</td>\n",
       "      <td>3</td>\n",
       "      <td>38.5</td>\n",
       "      <td>0</td>\n",
       "      <td>0</td>\n",
       "      <td>7.2500</td>\n",
       "      <td>1</td>\n",
       "    </tr>\n",
       "    <tr>\n",
       "      <th>416</th>\n",
       "      <td>1308</td>\n",
       "      <td>3</td>\n",
       "      <td>24.0</td>\n",
       "      <td>0</td>\n",
       "      <td>0</td>\n",
       "      <td>8.0500</td>\n",
       "      <td>1</td>\n",
       "    </tr>\n",
       "    <tr>\n",
       "      <th>417</th>\n",
       "      <td>1309</td>\n",
       "      <td>3</td>\n",
       "      <td>24.0</td>\n",
       "      <td>1</td>\n",
       "      <td>1</td>\n",
       "      <td>22.3583</td>\n",
       "      <td>1</td>\n",
       "    </tr>\n",
       "  </tbody>\n",
       "</table>\n",
       "<p>418 rows × 7 columns</p>\n",
       "</div>"
      ],
      "text/plain": [
       "     PassengerId  Pclass   Age  SibSp  Parch      Fare  Gender\n",
       "0            892       3  34.5      0      0    7.8292       1\n",
       "1            893       3  47.0      1      0    7.0000       0\n",
       "2            894       2  62.0      0      0    9.6875       1\n",
       "3            895       3  27.0      0      0    8.6625       1\n",
       "4            896       3  22.0      1      1   12.2875       0\n",
       "..           ...     ...   ...    ...    ...       ...     ...\n",
       "413         1305       3  24.0      0      0    8.0500       1\n",
       "414         1306       1  39.0      0      0  108.9000       0\n",
       "415         1307       3  38.5      0      0    7.2500       1\n",
       "416         1308       3  24.0      0      0    8.0500       1\n",
       "417         1309       3  24.0      1      1   22.3583       1\n",
       "\n",
       "[418 rows x 7 columns]"
      ]
     },
     "execution_count": 43,
     "metadata": {},
     "output_type": "execute_result"
    }
   ],
   "source": [
    "df_test"
   ]
  },
  {
   "cell_type": "markdown",
   "id": "98970a06",
   "metadata": {
    "papermill": {
     "duration": 0.024263,
     "end_time": "2023-01-02T20:21:33.440307",
     "exception": false,
     "start_time": "2023-01-02T20:21:33.416044",
     "status": "completed"
    },
    "tags": []
   },
   "source": [
    "# Separating the Variables"
   ]
  },
  {
   "cell_type": "code",
   "execution_count": 44,
   "id": "3d7c743a",
   "metadata": {
    "execution": {
     "iopub.execute_input": "2023-01-02T20:21:33.491735Z",
     "iopub.status.busy": "2023-01-02T20:21:33.491348Z",
     "iopub.status.idle": "2023-01-02T20:21:33.498454Z",
     "shell.execute_reply": "2023-01-02T20:21:33.497335Z"
    },
    "papermill": {
     "duration": 0.036128,
     "end_time": "2023-01-02T20:21:33.500898",
     "exception": false,
     "start_time": "2023-01-02T20:21:33.464770",
     "status": "completed"
    },
    "tags": []
   },
   "outputs": [],
   "source": [
    "# Training DataFrame Dependent Variables\n",
    "# x_train = df_train[[SibSp', 'Gender', 'Embarked_C', 'Embarked_Q', 'Embarked_S', 'adult', 'children', 'senior', 'teenager', 'young_adult', '1stClass', '2ndClass', '3rdClass']]\n",
    "x_train=df_train.iloc[:,2:]\n",
    "\n",
    "# Training DataFrame Independent Variables\n",
    "# y_train = df_train['Survived']\n",
    "y_train=df_train.Survived\n",
    "\n",
    "\n",
    "# Testing DataFrame Dependent Variables\n",
    "# x_test = df_test[[SibSp', 'Gender', 'Embarked_C', 'Embarked_Q', 'Embarked_S', 'adult', 'children', 'senior', 'teenager', 'young_adult', '1stClass', '2ndClass', '3rdClass']]\n",
    "x_test=df_test.iloc[:,1:]"
   ]
  },
  {
   "cell_type": "code",
   "execution_count": 45,
   "id": "d7c1bfa6",
   "metadata": {
    "execution": {
     "iopub.execute_input": "2023-01-02T20:21:33.552873Z",
     "iopub.status.busy": "2023-01-02T20:21:33.552159Z",
     "iopub.status.idle": "2023-01-02T20:21:33.569415Z",
     "shell.execute_reply": "2023-01-02T20:21:33.568206Z"
    },
    "papermill": {
     "duration": 0.045965,
     "end_time": "2023-01-02T20:21:33.571583",
     "exception": false,
     "start_time": "2023-01-02T20:21:33.525618",
     "status": "completed"
    },
    "tags": []
   },
   "outputs": [
    {
     "data": {
      "text/html": [
       "<div>\n",
       "<style scoped>\n",
       "    .dataframe tbody tr th:only-of-type {\n",
       "        vertical-align: middle;\n",
       "    }\n",
       "\n",
       "    .dataframe tbody tr th {\n",
       "        vertical-align: top;\n",
       "    }\n",
       "\n",
       "    .dataframe thead th {\n",
       "        text-align: right;\n",
       "    }\n",
       "</style>\n",
       "<table border=\"1\" class=\"dataframe\">\n",
       "  <thead>\n",
       "    <tr style=\"text-align: right;\">\n",
       "      <th></th>\n",
       "      <th>Pclass</th>\n",
       "      <th>Age</th>\n",
       "      <th>SibSp</th>\n",
       "      <th>Parch</th>\n",
       "      <th>Fare</th>\n",
       "      <th>Gender</th>\n",
       "    </tr>\n",
       "  </thead>\n",
       "  <tbody>\n",
       "    <tr>\n",
       "      <th>0</th>\n",
       "      <td>3</td>\n",
       "      <td>22.0</td>\n",
       "      <td>1</td>\n",
       "      <td>0</td>\n",
       "      <td>7.2500</td>\n",
       "      <td>1</td>\n",
       "    </tr>\n",
       "    <tr>\n",
       "      <th>1</th>\n",
       "      <td>1</td>\n",
       "      <td>38.0</td>\n",
       "      <td>1</td>\n",
       "      <td>0</td>\n",
       "      <td>71.2833</td>\n",
       "      <td>0</td>\n",
       "    </tr>\n",
       "    <tr>\n",
       "      <th>2</th>\n",
       "      <td>3</td>\n",
       "      <td>26.0</td>\n",
       "      <td>0</td>\n",
       "      <td>0</td>\n",
       "      <td>7.9250</td>\n",
       "      <td>0</td>\n",
       "    </tr>\n",
       "    <tr>\n",
       "      <th>3</th>\n",
       "      <td>1</td>\n",
       "      <td>35.0</td>\n",
       "      <td>1</td>\n",
       "      <td>0</td>\n",
       "      <td>53.1000</td>\n",
       "      <td>0</td>\n",
       "    </tr>\n",
       "    <tr>\n",
       "      <th>4</th>\n",
       "      <td>3</td>\n",
       "      <td>35.0</td>\n",
       "      <td>0</td>\n",
       "      <td>0</td>\n",
       "      <td>8.0500</td>\n",
       "      <td>1</td>\n",
       "    </tr>\n",
       "    <tr>\n",
       "      <th>...</th>\n",
       "      <td>...</td>\n",
       "      <td>...</td>\n",
       "      <td>...</td>\n",
       "      <td>...</td>\n",
       "      <td>...</td>\n",
       "      <td>...</td>\n",
       "    </tr>\n",
       "    <tr>\n",
       "      <th>886</th>\n",
       "      <td>2</td>\n",
       "      <td>27.0</td>\n",
       "      <td>0</td>\n",
       "      <td>0</td>\n",
       "      <td>13.0000</td>\n",
       "      <td>1</td>\n",
       "    </tr>\n",
       "    <tr>\n",
       "      <th>887</th>\n",
       "      <td>1</td>\n",
       "      <td>19.0</td>\n",
       "      <td>0</td>\n",
       "      <td>0</td>\n",
       "      <td>30.0000</td>\n",
       "      <td>0</td>\n",
       "    </tr>\n",
       "    <tr>\n",
       "      <th>888</th>\n",
       "      <td>3</td>\n",
       "      <td>24.0</td>\n",
       "      <td>1</td>\n",
       "      <td>2</td>\n",
       "      <td>23.4500</td>\n",
       "      <td>0</td>\n",
       "    </tr>\n",
       "    <tr>\n",
       "      <th>889</th>\n",
       "      <td>1</td>\n",
       "      <td>26.0</td>\n",
       "      <td>0</td>\n",
       "      <td>0</td>\n",
       "      <td>30.0000</td>\n",
       "      <td>1</td>\n",
       "    </tr>\n",
       "    <tr>\n",
       "      <th>890</th>\n",
       "      <td>3</td>\n",
       "      <td>32.0</td>\n",
       "      <td>0</td>\n",
       "      <td>0</td>\n",
       "      <td>7.7500</td>\n",
       "      <td>1</td>\n",
       "    </tr>\n",
       "  </tbody>\n",
       "</table>\n",
       "<p>891 rows × 6 columns</p>\n",
       "</div>"
      ],
      "text/plain": [
       "     Pclass   Age  SibSp  Parch     Fare  Gender\n",
       "0         3  22.0      1      0   7.2500       1\n",
       "1         1  38.0      1      0  71.2833       0\n",
       "2         3  26.0      0      0   7.9250       0\n",
       "3         1  35.0      1      0  53.1000       0\n",
       "4         3  35.0      0      0   8.0500       1\n",
       "..      ...   ...    ...    ...      ...     ...\n",
       "886       2  27.0      0      0  13.0000       1\n",
       "887       1  19.0      0      0  30.0000       0\n",
       "888       3  24.0      1      2  23.4500       0\n",
       "889       1  26.0      0      0  30.0000       1\n",
       "890       3  32.0      0      0   7.7500       1\n",
       "\n",
       "[891 rows x 6 columns]"
      ]
     },
     "execution_count": 45,
     "metadata": {},
     "output_type": "execute_result"
    }
   ],
   "source": [
    "x_train"
   ]
  },
  {
   "cell_type": "code",
   "execution_count": 46,
   "id": "dd1f8a50",
   "metadata": {
    "execution": {
     "iopub.execute_input": "2023-01-02T20:21:33.624354Z",
     "iopub.status.busy": "2023-01-02T20:21:33.623294Z",
     "iopub.status.idle": "2023-01-02T20:21:33.632073Z",
     "shell.execute_reply": "2023-01-02T20:21:33.630861Z"
    },
    "papermill": {
     "duration": 0.037233,
     "end_time": "2023-01-02T20:21:33.634157",
     "exception": false,
     "start_time": "2023-01-02T20:21:33.596924",
     "status": "completed"
    },
    "tags": []
   },
   "outputs": [
    {
     "data": {
      "text/plain": [
       "0      0\n",
       "1      1\n",
       "2      1\n",
       "3      1\n",
       "4      0\n",
       "      ..\n",
       "886    0\n",
       "887    1\n",
       "888    0\n",
       "889    1\n",
       "890    0\n",
       "Name: Survived, Length: 891, dtype: int64"
      ]
     },
     "execution_count": 46,
     "metadata": {},
     "output_type": "execute_result"
    }
   ],
   "source": [
    "y_train"
   ]
  },
  {
   "cell_type": "code",
   "execution_count": 47,
   "id": "51f34ddf",
   "metadata": {
    "execution": {
     "iopub.execute_input": "2023-01-02T20:21:33.688777Z",
     "iopub.status.busy": "2023-01-02T20:21:33.688134Z",
     "iopub.status.idle": "2023-01-02T20:21:33.705369Z",
     "shell.execute_reply": "2023-01-02T20:21:33.704272Z"
    },
    "papermill": {
     "duration": 0.046966,
     "end_time": "2023-01-02T20:21:33.707683",
     "exception": false,
     "start_time": "2023-01-02T20:21:33.660717",
     "status": "completed"
    },
    "tags": []
   },
   "outputs": [
    {
     "data": {
      "text/html": [
       "<div>\n",
       "<style scoped>\n",
       "    .dataframe tbody tr th:only-of-type {\n",
       "        vertical-align: middle;\n",
       "    }\n",
       "\n",
       "    .dataframe tbody tr th {\n",
       "        vertical-align: top;\n",
       "    }\n",
       "\n",
       "    .dataframe thead th {\n",
       "        text-align: right;\n",
       "    }\n",
       "</style>\n",
       "<table border=\"1\" class=\"dataframe\">\n",
       "  <thead>\n",
       "    <tr style=\"text-align: right;\">\n",
       "      <th></th>\n",
       "      <th>Pclass</th>\n",
       "      <th>Age</th>\n",
       "      <th>SibSp</th>\n",
       "      <th>Parch</th>\n",
       "      <th>Fare</th>\n",
       "      <th>Gender</th>\n",
       "    </tr>\n",
       "  </thead>\n",
       "  <tbody>\n",
       "    <tr>\n",
       "      <th>0</th>\n",
       "      <td>3</td>\n",
       "      <td>34.5</td>\n",
       "      <td>0</td>\n",
       "      <td>0</td>\n",
       "      <td>7.8292</td>\n",
       "      <td>1</td>\n",
       "    </tr>\n",
       "    <tr>\n",
       "      <th>1</th>\n",
       "      <td>3</td>\n",
       "      <td>47.0</td>\n",
       "      <td>1</td>\n",
       "      <td>0</td>\n",
       "      <td>7.0000</td>\n",
       "      <td>0</td>\n",
       "    </tr>\n",
       "    <tr>\n",
       "      <th>2</th>\n",
       "      <td>2</td>\n",
       "      <td>62.0</td>\n",
       "      <td>0</td>\n",
       "      <td>0</td>\n",
       "      <td>9.6875</td>\n",
       "      <td>1</td>\n",
       "    </tr>\n",
       "    <tr>\n",
       "      <th>3</th>\n",
       "      <td>3</td>\n",
       "      <td>27.0</td>\n",
       "      <td>0</td>\n",
       "      <td>0</td>\n",
       "      <td>8.6625</td>\n",
       "      <td>1</td>\n",
       "    </tr>\n",
       "    <tr>\n",
       "      <th>4</th>\n",
       "      <td>3</td>\n",
       "      <td>22.0</td>\n",
       "      <td>1</td>\n",
       "      <td>1</td>\n",
       "      <td>12.2875</td>\n",
       "      <td>0</td>\n",
       "    </tr>\n",
       "    <tr>\n",
       "      <th>...</th>\n",
       "      <td>...</td>\n",
       "      <td>...</td>\n",
       "      <td>...</td>\n",
       "      <td>...</td>\n",
       "      <td>...</td>\n",
       "      <td>...</td>\n",
       "    </tr>\n",
       "    <tr>\n",
       "      <th>413</th>\n",
       "      <td>3</td>\n",
       "      <td>24.0</td>\n",
       "      <td>0</td>\n",
       "      <td>0</td>\n",
       "      <td>8.0500</td>\n",
       "      <td>1</td>\n",
       "    </tr>\n",
       "    <tr>\n",
       "      <th>414</th>\n",
       "      <td>1</td>\n",
       "      <td>39.0</td>\n",
       "      <td>0</td>\n",
       "      <td>0</td>\n",
       "      <td>108.9000</td>\n",
       "      <td>0</td>\n",
       "    </tr>\n",
       "    <tr>\n",
       "      <th>415</th>\n",
       "      <td>3</td>\n",
       "      <td>38.5</td>\n",
       "      <td>0</td>\n",
       "      <td>0</td>\n",
       "      <td>7.2500</td>\n",
       "      <td>1</td>\n",
       "    </tr>\n",
       "    <tr>\n",
       "      <th>416</th>\n",
       "      <td>3</td>\n",
       "      <td>24.0</td>\n",
       "      <td>0</td>\n",
       "      <td>0</td>\n",
       "      <td>8.0500</td>\n",
       "      <td>1</td>\n",
       "    </tr>\n",
       "    <tr>\n",
       "      <th>417</th>\n",
       "      <td>3</td>\n",
       "      <td>24.0</td>\n",
       "      <td>1</td>\n",
       "      <td>1</td>\n",
       "      <td>22.3583</td>\n",
       "      <td>1</td>\n",
       "    </tr>\n",
       "  </tbody>\n",
       "</table>\n",
       "<p>418 rows × 6 columns</p>\n",
       "</div>"
      ],
      "text/plain": [
       "     Pclass   Age  SibSp  Parch      Fare  Gender\n",
       "0         3  34.5      0      0    7.8292       1\n",
       "1         3  47.0      1      0    7.0000       0\n",
       "2         2  62.0      0      0    9.6875       1\n",
       "3         3  27.0      0      0    8.6625       1\n",
       "4         3  22.0      1      1   12.2875       0\n",
       "..      ...   ...    ...    ...       ...     ...\n",
       "413       3  24.0      0      0    8.0500       1\n",
       "414       1  39.0      0      0  108.9000       0\n",
       "415       3  38.5      0      0    7.2500       1\n",
       "416       3  24.0      0      0    8.0500       1\n",
       "417       3  24.0      1      1   22.3583       1\n",
       "\n",
       "[418 rows x 6 columns]"
      ]
     },
     "execution_count": 47,
     "metadata": {},
     "output_type": "execute_result"
    }
   ],
   "source": [
    "x_test"
   ]
  },
  {
   "cell_type": "markdown",
   "id": "883e8696",
   "metadata": {
    "papermill": {
     "duration": 0.025177,
     "end_time": "2023-01-02T20:21:33.758955",
     "exception": false,
     "start_time": "2023-01-02T20:21:33.733778",
     "status": "completed"
    },
    "tags": []
   },
   "source": [
    "# Data Modeling"
   ]
  },
  {
   "cell_type": "markdown",
   "id": "7256cf6f",
   "metadata": {
    "papermill": {
     "duration": 0.025873,
     "end_time": "2023-01-02T20:21:33.810095",
     "exception": false,
     "start_time": "2023-01-02T20:21:33.784222",
     "status": "completed"
    },
    "tags": []
   },
   "source": [
    "### Creating the Instance for Logistic Regression"
   ]
  },
  {
   "cell_type": "code",
   "execution_count": 48,
   "id": "971711b6",
   "metadata": {
    "execution": {
     "iopub.execute_input": "2023-01-02T20:21:33.864189Z",
     "iopub.status.busy": "2023-01-02T20:21:33.863601Z",
     "iopub.status.idle": "2023-01-02T20:21:33.869536Z",
     "shell.execute_reply": "2023-01-02T20:21:33.868066Z"
    },
    "papermill": {
     "duration": 0.036582,
     "end_time": "2023-01-02T20:21:33.872728",
     "exception": false,
     "start_time": "2023-01-02T20:21:33.836146",
     "status": "completed"
    },
    "tags": []
   },
   "outputs": [],
   "source": [
    "model = LogisticRegression()"
   ]
  },
  {
   "cell_type": "markdown",
   "id": "f6f6b1e3",
   "metadata": {
    "papermill": {
     "duration": 0.025265,
     "end_time": "2023-01-02T20:21:33.924140",
     "exception": false,
     "start_time": "2023-01-02T20:21:33.898875",
     "status": "completed"
    },
    "tags": []
   },
   "source": [
    "### Training the Model"
   ]
  },
  {
   "cell_type": "code",
   "execution_count": 49,
   "id": "4116fd84",
   "metadata": {
    "execution": {
     "iopub.execute_input": "2023-01-02T20:21:33.977682Z",
     "iopub.status.busy": "2023-01-02T20:21:33.976778Z",
     "iopub.status.idle": "2023-01-02T20:21:34.011764Z",
     "shell.execute_reply": "2023-01-02T20:21:34.010687Z"
    },
    "papermill": {
     "duration": 0.06461,
     "end_time": "2023-01-02T20:21:34.014454",
     "exception": false,
     "start_time": "2023-01-02T20:21:33.949844",
     "status": "completed"
    },
    "tags": []
   },
   "outputs": [
    {
     "data": {
      "text/plain": [
       "LogisticRegression()"
      ]
     },
     "execution_count": 49,
     "metadata": {},
     "output_type": "execute_result"
    }
   ],
   "source": [
    "model.fit(x_train, y_train)"
   ]
  },
  {
   "cell_type": "markdown",
   "id": "9b8ac2c2",
   "metadata": {
    "papermill": {
     "duration": 0.025749,
     "end_time": "2023-01-02T20:21:34.065814",
     "exception": false,
     "start_time": "2023-01-02T20:21:34.040065",
     "status": "completed"
    },
    "tags": []
   },
   "source": [
    "### Executing the Prediction"
   ]
  },
  {
   "cell_type": "code",
   "execution_count": 50,
   "id": "22eb1a97",
   "metadata": {
    "execution": {
     "iopub.execute_input": "2023-01-02T20:21:34.120353Z",
     "iopub.status.busy": "2023-01-02T20:21:34.119640Z",
     "iopub.status.idle": "2023-01-02T20:21:34.129275Z",
     "shell.execute_reply": "2023-01-02T20:21:34.128366Z"
    },
    "papermill": {
     "duration": 0.039736,
     "end_time": "2023-01-02T20:21:34.131371",
     "exception": false,
     "start_time": "2023-01-02T20:21:34.091635",
     "status": "completed"
    },
    "tags": []
   },
   "outputs": [
    {
     "data": {
      "text/plain": [
       "array([0, 0, 0, 0, 1, 0, 1, 0, 1, 0, 0, 0, 1, 0, 1, 1, 0, 0, 1, 0, 0, 0,\n",
       "       1, 1, 1, 0, 1, 0, 0, 0, 0, 0, 0, 1, 0, 0, 1, 1, 0, 0, 0, 0, 0, 1,\n",
       "       1, 0, 0, 0, 1, 0, 1, 0, 1, 1, 0, 0, 0, 0, 0, 1, 0, 0, 0, 1, 1, 1,\n",
       "       1, 0, 1, 1, 1, 0, 1, 1, 1, 1, 0, 1, 0, 1, 0, 0, 0, 0, 0, 0, 1, 1,\n",
       "       1, 0, 1, 0, 1, 0, 1, 0, 1, 0, 1, 0, 1, 0, 0, 0, 1, 0, 0, 0, 0, 0,\n",
       "       0, 1, 1, 1, 1, 0, 0, 1, 0, 1, 1, 0, 1, 0, 0, 1, 0, 0, 0, 0, 0, 0,\n",
       "       1, 0, 0, 0, 0, 0, 1, 0, 0, 1, 0, 0, 0, 0, 0, 0, 0, 0, 1, 0, 0, 0,\n",
       "       0, 0, 1, 1, 0, 1, 1, 0, 1, 0, 0, 1, 0, 0, 1, 1, 0, 0, 0, 0, 0, 1,\n",
       "       1, 0, 1, 1, 0, 0, 1, 0, 1, 0, 1, 0, 0, 0, 0, 0, 0, 0, 0, 0, 1, 1,\n",
       "       0, 1, 1, 0, 0, 1, 0, 0, 1, 0, 1, 0, 0, 0, 0, 0, 0, 0, 1, 0, 1, 0,\n",
       "       1, 0, 1, 0, 1, 1, 0, 1, 0, 0, 0, 1, 0, 0, 0, 0, 0, 0, 1, 1, 1, 1,\n",
       "       0, 0, 0, 0, 1, 0, 1, 1, 1, 0, 1, 0, 0, 0, 0, 0, 1, 0, 0, 0, 1, 1,\n",
       "       0, 0, 0, 0, 1, 0, 0, 0, 1, 1, 0, 1, 0, 0, 0, 0, 1, 0, 1, 1, 1, 0,\n",
       "       0, 1, 0, 0, 0, 1, 0, 0, 0, 0, 1, 0, 1, 0, 0, 0, 0, 0, 1, 1, 0, 0,\n",
       "       0, 0, 0, 0, 0, 1, 1, 1, 0, 0, 0, 0, 0, 0, 0, 0, 1, 0, 1, 0, 0, 0,\n",
       "       1, 0, 0, 1, 0, 1, 0, 0, 0, 0, 0, 0, 0, 1, 0, 1, 0, 1, 0, 1, 1, 0,\n",
       "       0, 0, 1, 0, 1, 0, 0, 1, 0, 1, 1, 0, 1, 0, 0, 1, 1, 0, 0, 1, 0, 0,\n",
       "       1, 1, 1, 0, 0, 0, 0, 0, 1, 1, 0, 1, 0, 0, 0, 0, 1, 1, 0, 0, 0, 1,\n",
       "       0, 1, 0, 0, 1, 0, 1, 1, 0, 0, 0, 0, 1, 1, 1, 1, 1, 0, 1, 0, 0, 0])"
      ]
     },
     "execution_count": 50,
     "metadata": {},
     "output_type": "execute_result"
    }
   ],
   "source": [
    "y_predict = model.predict(x_test)\n",
    "y_predict"
   ]
  },
  {
   "cell_type": "code",
   "execution_count": 51,
   "id": "da78d03d",
   "metadata": {
    "execution": {
     "iopub.execute_input": "2023-01-02T20:21:34.186238Z",
     "iopub.status.busy": "2023-01-02T20:21:34.185170Z",
     "iopub.status.idle": "2023-01-02T20:21:34.193988Z",
     "shell.execute_reply": "2023-01-02T20:21:34.193064Z"
    },
    "papermill": {
     "duration": 0.038213,
     "end_time": "2023-01-02T20:21:34.196543",
     "exception": false,
     "start_time": "2023-01-02T20:21:34.158330",
     "status": "completed"
    },
    "tags": []
   },
   "outputs": [
    {
     "data": {
      "text/plain": [
       "1.0"
      ]
     },
     "execution_count": 51,
     "metadata": {},
     "output_type": "execute_result"
    }
   ],
   "source": [
    "model.score(x_test,y_predict)"
   ]
  },
  {
   "cell_type": "markdown",
   "id": "ee18cf2c",
   "metadata": {
    "papermill": {
     "duration": 0.02716,
     "end_time": "2023-01-02T20:21:34.251800",
     "exception": false,
     "start_time": "2023-01-02T20:21:34.224640",
     "status": "completed"
    },
    "tags": []
   },
   "source": [
    "# Consolidating the Results"
   ]
  },
  {
   "cell_type": "code",
   "execution_count": 52,
   "id": "c3850860",
   "metadata": {
    "execution": {
     "iopub.execute_input": "2023-01-02T20:21:34.310118Z",
     "iopub.status.busy": "2023-01-02T20:21:34.309693Z",
     "iopub.status.idle": "2023-01-02T20:21:34.322166Z",
     "shell.execute_reply": "2023-01-02T20:21:34.320605Z"
    },
    "papermill": {
     "duration": 0.043813,
     "end_time": "2023-01-02T20:21:34.324730",
     "exception": false,
     "start_time": "2023-01-02T20:21:34.280917",
     "status": "completed"
    },
    "tags": []
   },
   "outputs": [
    {
     "name": "stdout",
     "output_type": "stream",
     "text": [
      "              precision    recall  f1-score   support\n",
      "\n",
      "           0       0.95      0.95      0.95       266\n",
      "           1       0.91      0.92      0.92       152\n",
      "\n",
      "    accuracy                           0.94       418\n",
      "   macro avg       0.93      0.93      0.93       418\n",
      "weighted avg       0.94      0.94      0.94       418\n",
      "\n"
     ]
    }
   ],
   "source": [
    "report=classification_report(submission[\"Survived\"],y_predict)\n",
    "print(report)"
   ]
  },
  {
   "cell_type": "code",
   "execution_count": 53,
   "id": "4633012d",
   "metadata": {
    "execution": {
     "iopub.execute_input": "2023-01-02T20:21:34.382337Z",
     "iopub.status.busy": "2023-01-02T20:21:34.381349Z",
     "iopub.status.idle": "2023-01-02T20:21:34.395469Z",
     "shell.execute_reply": "2023-01-02T20:21:34.393999Z"
    },
    "papermill": {
     "duration": 0.045732,
     "end_time": "2023-01-02T20:21:34.398258",
     "exception": false,
     "start_time": "2023-01-02T20:21:34.352526",
     "status": "completed"
    },
    "tags": []
   },
   "outputs": [
    {
     "data": {
      "text/html": [
       "<div>\n",
       "<style scoped>\n",
       "    .dataframe tbody tr th:only-of-type {\n",
       "        vertical-align: middle;\n",
       "    }\n",
       "\n",
       "    .dataframe tbody tr th {\n",
       "        vertical-align: top;\n",
       "    }\n",
       "\n",
       "    .dataframe thead th {\n",
       "        text-align: right;\n",
       "    }\n",
       "</style>\n",
       "<table border=\"1\" class=\"dataframe\">\n",
       "  <thead>\n",
       "    <tr style=\"text-align: right;\">\n",
       "      <th></th>\n",
       "      <th>Predicted No</th>\n",
       "      <th>Predicted Yes</th>\n",
       "    </tr>\n",
       "  </thead>\n",
       "  <tbody>\n",
       "    <tr>\n",
       "      <th>Actual No</th>\n",
       "      <td>252</td>\n",
       "      <td>14</td>\n",
       "    </tr>\n",
       "    <tr>\n",
       "      <th>Actual Yes</th>\n",
       "      <td>12</td>\n",
       "      <td>140</td>\n",
       "    </tr>\n",
       "  </tbody>\n",
       "</table>\n",
       "</div>"
      ],
      "text/plain": [
       "            Predicted No  Predicted Yes\n",
       "Actual No            252             14\n",
       "Actual Yes            12            140"
      ]
     },
     "execution_count": 53,
     "metadata": {},
     "output_type": "execute_result"
    }
   ],
   "source": [
    "pd.DataFrame(confusion_matrix(submission[\"Survived\"],y_predict),columns=['Predicted No', 'Predicted Yes'],index=['Actual No','Actual Yes'])"
   ]
  },
  {
   "cell_type": "markdown",
   "id": "c85f8364",
   "metadata": {
    "papermill": {
     "duration": 0.027965,
     "end_time": "2023-01-02T20:21:34.454741",
     "exception": false,
     "start_time": "2023-01-02T20:21:34.426776",
     "status": "completed"
    },
    "tags": []
   },
   "source": [
    "# Comparing Results"
   ]
  },
  {
   "cell_type": "markdown",
   "id": "76b33c53",
   "metadata": {
    "papermill": {
     "duration": 0.026975,
     "end_time": "2023-01-02T20:21:34.508182",
     "exception": false,
     "start_time": "2023-01-02T20:21:34.481207",
     "status": "completed"
    },
    "tags": []
   },
   "source": [
    "### Comparing the Results from the Prediction model with the expected results from Kaggle"
   ]
  },
  {
   "cell_type": "code",
   "execution_count": 54,
   "id": "8059b474",
   "metadata": {
    "execution": {
     "iopub.execute_input": "2023-01-02T20:21:34.567412Z",
     "iopub.status.busy": "2023-01-02T20:21:34.567016Z",
     "iopub.status.idle": "2023-01-02T20:21:34.573100Z",
     "shell.execute_reply": "2023-01-02T20:21:34.571717Z"
    },
    "papermill": {
     "duration": 0.037791,
     "end_time": "2023-01-02T20:21:34.576132",
     "exception": false,
     "start_time": "2023-01-02T20:21:34.538341",
     "status": "completed"
    },
    "tags": []
   },
   "outputs": [],
   "source": [
    "data = pd.DataFrame(y_predict, columns=['predict_survive'])"
   ]
  },
  {
   "cell_type": "code",
   "execution_count": 55,
   "id": "82a3dbf8",
   "metadata": {
    "execution": {
     "iopub.execute_input": "2023-01-02T20:21:34.637462Z",
     "iopub.status.busy": "2023-01-02T20:21:34.636911Z",
     "iopub.status.idle": "2023-01-02T20:21:34.652082Z",
     "shell.execute_reply": "2023-01-02T20:21:34.650870Z"
    },
    "papermill": {
     "duration": 0.050938,
     "end_time": "2023-01-02T20:21:34.655285",
     "exception": false,
     "start_time": "2023-01-02T20:21:34.604347",
     "status": "completed"
    },
    "tags": []
   },
   "outputs": [
    {
     "data": {
      "text/html": [
       "<div>\n",
       "<style scoped>\n",
       "    .dataframe tbody tr th:only-of-type {\n",
       "        vertical-align: middle;\n",
       "    }\n",
       "\n",
       "    .dataframe tbody tr th {\n",
       "        vertical-align: top;\n",
       "    }\n",
       "\n",
       "    .dataframe thead th {\n",
       "        text-align: right;\n",
       "    }\n",
       "</style>\n",
       "<table border=\"1\" class=\"dataframe\">\n",
       "  <thead>\n",
       "    <tr style=\"text-align: right;\">\n",
       "      <th></th>\n",
       "      <th>Survived</th>\n",
       "      <th>predict_survive</th>\n",
       "    </tr>\n",
       "  </thead>\n",
       "  <tbody>\n",
       "    <tr>\n",
       "      <th>0</th>\n",
       "      <td>0</td>\n",
       "      <td>0</td>\n",
       "    </tr>\n",
       "    <tr>\n",
       "      <th>1</th>\n",
       "      <td>1</td>\n",
       "      <td>0</td>\n",
       "    </tr>\n",
       "    <tr>\n",
       "      <th>2</th>\n",
       "      <td>0</td>\n",
       "      <td>0</td>\n",
       "    </tr>\n",
       "    <tr>\n",
       "      <th>3</th>\n",
       "      <td>0</td>\n",
       "      <td>0</td>\n",
       "    </tr>\n",
       "    <tr>\n",
       "      <th>4</th>\n",
       "      <td>1</td>\n",
       "      <td>1</td>\n",
       "    </tr>\n",
       "    <tr>\n",
       "      <th>...</th>\n",
       "      <td>...</td>\n",
       "      <td>...</td>\n",
       "    </tr>\n",
       "    <tr>\n",
       "      <th>413</th>\n",
       "      <td>0</td>\n",
       "      <td>0</td>\n",
       "    </tr>\n",
       "    <tr>\n",
       "      <th>414</th>\n",
       "      <td>1</td>\n",
       "      <td>1</td>\n",
       "    </tr>\n",
       "    <tr>\n",
       "      <th>415</th>\n",
       "      <td>0</td>\n",
       "      <td>0</td>\n",
       "    </tr>\n",
       "    <tr>\n",
       "      <th>416</th>\n",
       "      <td>0</td>\n",
       "      <td>0</td>\n",
       "    </tr>\n",
       "    <tr>\n",
       "      <th>417</th>\n",
       "      <td>0</td>\n",
       "      <td>0</td>\n",
       "    </tr>\n",
       "  </tbody>\n",
       "</table>\n",
       "<p>418 rows × 2 columns</p>\n",
       "</div>"
      ],
      "text/plain": [
       "     Survived  predict_survive\n",
       "0           0                0\n",
       "1           1                0\n",
       "2           0                0\n",
       "3           0                0\n",
       "4           1                1\n",
       "..        ...              ...\n",
       "413         0                0\n",
       "414         1                1\n",
       "415         0                0\n",
       "416         0                0\n",
       "417         0                0\n",
       "\n",
       "[418 rows x 2 columns]"
      ]
     },
     "execution_count": 55,
     "metadata": {},
     "output_type": "execute_result"
    }
   ],
   "source": [
    "validation = pd.concat([submission[\"Survived\"],data], axis=1)\n",
    "validation"
   ]
  },
  {
   "cell_type": "code",
   "execution_count": 56,
   "id": "d522ad70",
   "metadata": {
    "execution": {
     "iopub.execute_input": "2023-01-02T20:21:34.713401Z",
     "iopub.status.busy": "2023-01-02T20:21:34.712754Z",
     "iopub.status.idle": "2023-01-02T20:21:34.727340Z",
     "shell.execute_reply": "2023-01-02T20:21:34.726309Z"
    },
    "papermill": {
     "duration": 0.046078,
     "end_time": "2023-01-02T20:21:34.729869",
     "exception": false,
     "start_time": "2023-01-02T20:21:34.683791",
     "status": "completed"
    },
    "tags": []
   },
   "outputs": [],
   "source": [
    "def result_validation(row):\n",
    "    if row['Survived'] == row['predict_survive']:\n",
    "        return True\n",
    "    else:\n",
    "        return False\n",
    "\n",
    "validation['comparison'] = validation.apply(result_validation, axis=1)"
   ]
  },
  {
   "cell_type": "code",
   "execution_count": 57,
   "id": "71166d97",
   "metadata": {
    "execution": {
     "iopub.execute_input": "2023-01-02T20:21:34.785336Z",
     "iopub.status.busy": "2023-01-02T20:21:34.784637Z",
     "iopub.status.idle": "2023-01-02T20:21:34.790256Z",
     "shell.execute_reply": "2023-01-02T20:21:34.789291Z"
    },
    "papermill": {
     "duration": 0.03588,
     "end_time": "2023-01-02T20:21:34.792716",
     "exception": false,
     "start_time": "2023-01-02T20:21:34.756836",
     "status": "completed"
    },
    "tags": []
   },
   "outputs": [],
   "source": [
    "df_validation = validation.loc[validation['comparison'] == False]"
   ]
  },
  {
   "cell_type": "code",
   "execution_count": 58,
   "id": "a097a2eb",
   "metadata": {
    "execution": {
     "iopub.execute_input": "2023-01-02T20:21:34.851418Z",
     "iopub.status.busy": "2023-01-02T20:21:34.850687Z",
     "iopub.status.idle": "2023-01-02T20:21:34.855354Z",
     "shell.execute_reply": "2023-01-02T20:21:34.854249Z"
    },
    "papermill": {
     "duration": 0.036314,
     "end_time": "2023-01-02T20:21:34.858003",
     "exception": false,
     "start_time": "2023-01-02T20:21:34.821689",
     "status": "completed"
    },
    "tags": []
   },
   "outputs": [],
   "source": [
    "index_list = df_validation.index.tolist()"
   ]
  },
  {
   "cell_type": "code",
   "execution_count": 59,
   "id": "7635c229",
   "metadata": {
    "execution": {
     "iopub.execute_input": "2023-01-02T20:21:34.912983Z",
     "iopub.status.busy": "2023-01-02T20:21:34.912538Z",
     "iopub.status.idle": "2023-01-02T20:21:34.938772Z",
     "shell.execute_reply": "2023-01-02T20:21:34.937853Z"
    },
    "papermill": {
     "duration": 0.056593,
     "end_time": "2023-01-02T20:21:34.941155",
     "exception": false,
     "start_time": "2023-01-02T20:21:34.884562",
     "status": "completed"
    },
    "tags": []
   },
   "outputs": [
    {
     "data": {
      "text/html": [
       "<div>\n",
       "<style scoped>\n",
       "    .dataframe tbody tr th:only-of-type {\n",
       "        vertical-align: middle;\n",
       "    }\n",
       "\n",
       "    .dataframe tbody tr th {\n",
       "        vertical-align: top;\n",
       "    }\n",
       "\n",
       "    .dataframe thead th {\n",
       "        text-align: right;\n",
       "    }\n",
       "</style>\n",
       "<table border=\"1\" class=\"dataframe\">\n",
       "  <thead>\n",
       "    <tr style=\"text-align: right;\">\n",
       "      <th></th>\n",
       "      <th>Pclass</th>\n",
       "      <th>Age</th>\n",
       "      <th>SibSp</th>\n",
       "      <th>Parch</th>\n",
       "      <th>Fare</th>\n",
       "      <th>Gender</th>\n",
       "      <th>Survived</th>\n",
       "      <th>predict_survive</th>\n",
       "      <th>comparison</th>\n",
       "    </tr>\n",
       "  </thead>\n",
       "  <tbody>\n",
       "    <tr>\n",
       "      <th>19</th>\n",
       "      <td>3</td>\n",
       "      <td>45.0</td>\n",
       "      <td>0</td>\n",
       "      <td>0</td>\n",
       "      <td>7.2250</td>\n",
       "      <td>0</td>\n",
       "      <td>1</td>\n",
       "      <td>0</td>\n",
       "      <td>False</td>\n",
       "    </tr>\n",
       "    <tr>\n",
       "      <th>68</th>\n",
       "      <td>1</td>\n",
       "      <td>31.0</td>\n",
       "      <td>0</td>\n",
       "      <td>0</td>\n",
       "      <td>28.5375</td>\n",
       "      <td>1</td>\n",
       "      <td>0</td>\n",
       "      <td>1</td>\n",
       "      <td>False</td>\n",
       "    </tr>\n",
       "    <tr>\n",
       "      <th>73</th>\n",
       "      <td>1</td>\n",
       "      <td>28.5</td>\n",
       "      <td>0</td>\n",
       "      <td>0</td>\n",
       "      <td>27.7208</td>\n",
       "      <td>1</td>\n",
       "      <td>0</td>\n",
       "      <td>1</td>\n",
       "      <td>False</td>\n",
       "    </tr>\n",
       "    <tr>\n",
       "      <th>75</th>\n",
       "      <td>1</td>\n",
       "      <td>32.5</td>\n",
       "      <td>0</td>\n",
       "      <td>0</td>\n",
       "      <td>211.5000</td>\n",
       "      <td>1</td>\n",
       "      <td>0</td>\n",
       "      <td>1</td>\n",
       "      <td>False</td>\n",
       "    </tr>\n",
       "    <tr>\n",
       "      <th>94</th>\n",
       "      <td>1</td>\n",
       "      <td>25.0</td>\n",
       "      <td>0</td>\n",
       "      <td>0</td>\n",
       "      <td>26.0000</td>\n",
       "      <td>1</td>\n",
       "      <td>0</td>\n",
       "      <td>1</td>\n",
       "      <td>False</td>\n",
       "    </tr>\n",
       "    <tr>\n",
       "      <th>298</th>\n",
       "      <td>1</td>\n",
       "      <td>30.0</td>\n",
       "      <td>0</td>\n",
       "      <td>0</td>\n",
       "      <td>45.5000</td>\n",
       "      <td>1</td>\n",
       "      <td>0</td>\n",
       "      <td>1</td>\n",
       "      <td>False</td>\n",
       "    </tr>\n",
       "    <tr>\n",
       "      <th>335</th>\n",
       "      <td>1</td>\n",
       "      <td>30.0</td>\n",
       "      <td>0</td>\n",
       "      <td>0</td>\n",
       "      <td>26.0000</td>\n",
       "      <td>1</td>\n",
       "      <td>0</td>\n",
       "      <td>1</td>\n",
       "      <td>False</td>\n",
       "    </tr>\n",
       "    <tr>\n",
       "      <th>390</th>\n",
       "      <td>1</td>\n",
       "      <td>23.0</td>\n",
       "      <td>0</td>\n",
       "      <td>0</td>\n",
       "      <td>93.5000</td>\n",
       "      <td>1</td>\n",
       "      <td>0</td>\n",
       "      <td>1</td>\n",
       "      <td>False</td>\n",
       "    </tr>\n",
       "    <tr>\n",
       "      <th>403</th>\n",
       "      <td>1</td>\n",
       "      <td>17.0</td>\n",
       "      <td>0</td>\n",
       "      <td>0</td>\n",
       "      <td>47.1000</td>\n",
       "      <td>1</td>\n",
       "      <td>0</td>\n",
       "      <td>1</td>\n",
       "      <td>False</td>\n",
       "    </tr>\n",
       "    <tr>\n",
       "      <th>23</th>\n",
       "      <td>1</td>\n",
       "      <td>21.0</td>\n",
       "      <td>0</td>\n",
       "      <td>1</td>\n",
       "      <td>61.3792</td>\n",
       "      <td>1</td>\n",
       "      <td>0</td>\n",
       "      <td>1</td>\n",
       "      <td>False</td>\n",
       "    </tr>\n",
       "    <tr>\n",
       "      <th>49</th>\n",
       "      <td>3</td>\n",
       "      <td>36.0</td>\n",
       "      <td>0</td>\n",
       "      <td>2</td>\n",
       "      <td>15.9000</td>\n",
       "      <td>0</td>\n",
       "      <td>1</td>\n",
       "      <td>0</td>\n",
       "      <td>False</td>\n",
       "    </tr>\n",
       "    <tr>\n",
       "      <th>153</th>\n",
       "      <td>3</td>\n",
       "      <td>36.0</td>\n",
       "      <td>0</td>\n",
       "      <td>2</td>\n",
       "      <td>12.1833</td>\n",
       "      <td>0</td>\n",
       "      <td>1</td>\n",
       "      <td>0</td>\n",
       "      <td>False</td>\n",
       "    </tr>\n",
       "    <tr>\n",
       "      <th>196</th>\n",
       "      <td>1</td>\n",
       "      <td>6.0</td>\n",
       "      <td>0</td>\n",
       "      <td>2</td>\n",
       "      <td>134.5000</td>\n",
       "      <td>1</td>\n",
       "      <td>0</td>\n",
       "      <td>1</td>\n",
       "      <td>False</td>\n",
       "    </tr>\n",
       "    <tr>\n",
       "      <th>1</th>\n",
       "      <td>3</td>\n",
       "      <td>47.0</td>\n",
       "      <td>1</td>\n",
       "      <td>0</td>\n",
       "      <td>7.0000</td>\n",
       "      <td>0</td>\n",
       "      <td>1</td>\n",
       "      <td>0</td>\n",
       "      <td>False</td>\n",
       "    </tr>\n",
       "    <tr>\n",
       "      <th>213</th>\n",
       "      <td>2</td>\n",
       "      <td>60.0</td>\n",
       "      <td>1</td>\n",
       "      <td>0</td>\n",
       "      <td>26.0000</td>\n",
       "      <td>0</td>\n",
       "      <td>1</td>\n",
       "      <td>0</td>\n",
       "      <td>False</td>\n",
       "    </tr>\n",
       "    <tr>\n",
       "      <th>309</th>\n",
       "      <td>3</td>\n",
       "      <td>45.0</td>\n",
       "      <td>1</td>\n",
       "      <td>0</td>\n",
       "      <td>14.1083</td>\n",
       "      <td>0</td>\n",
       "      <td>1</td>\n",
       "      <td>0</td>\n",
       "      <td>False</td>\n",
       "    </tr>\n",
       "    <tr>\n",
       "      <th>50</th>\n",
       "      <td>1</td>\n",
       "      <td>24.0</td>\n",
       "      <td>1</td>\n",
       "      <td>0</td>\n",
       "      <td>60.0000</td>\n",
       "      <td>1</td>\n",
       "      <td>0</td>\n",
       "      <td>1</td>\n",
       "      <td>False</td>\n",
       "    </tr>\n",
       "    <tr>\n",
       "      <th>252</th>\n",
       "      <td>1</td>\n",
       "      <td>27.0</td>\n",
       "      <td>1</td>\n",
       "      <td>0</td>\n",
       "      <td>136.7792</td>\n",
       "      <td>1</td>\n",
       "      <td>0</td>\n",
       "      <td>1</td>\n",
       "      <td>False</td>\n",
       "    </tr>\n",
       "    <tr>\n",
       "      <th>287</th>\n",
       "      <td>1</td>\n",
       "      <td>24.0</td>\n",
       "      <td>1</td>\n",
       "      <td>0</td>\n",
       "      <td>82.2667</td>\n",
       "      <td>1</td>\n",
       "      <td>0</td>\n",
       "      <td>1</td>\n",
       "      <td>False</td>\n",
       "    </tr>\n",
       "    <tr>\n",
       "      <th>32</th>\n",
       "      <td>3</td>\n",
       "      <td>33.0</td>\n",
       "      <td>1</td>\n",
       "      <td>2</td>\n",
       "      <td>20.5750</td>\n",
       "      <td>0</td>\n",
       "      <td>1</td>\n",
       "      <td>0</td>\n",
       "      <td>False</td>\n",
       "    </tr>\n",
       "    <tr>\n",
       "      <th>365</th>\n",
       "      <td>3</td>\n",
       "      <td>24.0</td>\n",
       "      <td>1</td>\n",
       "      <td>9</td>\n",
       "      <td>69.5500</td>\n",
       "      <td>0</td>\n",
       "      <td>1</td>\n",
       "      <td>0</td>\n",
       "      <td>False</td>\n",
       "    </tr>\n",
       "    <tr>\n",
       "      <th>127</th>\n",
       "      <td>3</td>\n",
       "      <td>24.0</td>\n",
       "      <td>2</td>\n",
       "      <td>0</td>\n",
       "      <td>23.2500</td>\n",
       "      <td>0</td>\n",
       "      <td>1</td>\n",
       "      <td>0</td>\n",
       "      <td>False</td>\n",
       "    </tr>\n",
       "    <tr>\n",
       "      <th>64</th>\n",
       "      <td>1</td>\n",
       "      <td>13.0</td>\n",
       "      <td>2</td>\n",
       "      <td>2</td>\n",
       "      <td>262.3750</td>\n",
       "      <td>1</td>\n",
       "      <td>0</td>\n",
       "      <td>1</td>\n",
       "      <td>False</td>\n",
       "    </tr>\n",
       "    <tr>\n",
       "      <th>214</th>\n",
       "      <td>3</td>\n",
       "      <td>38.0</td>\n",
       "      <td>4</td>\n",
       "      <td>2</td>\n",
       "      <td>7.7750</td>\n",
       "      <td>0</td>\n",
       "      <td>1</td>\n",
       "      <td>0</td>\n",
       "      <td>False</td>\n",
       "    </tr>\n",
       "    <tr>\n",
       "      <th>140</th>\n",
       "      <td>3</td>\n",
       "      <td>10.0</td>\n",
       "      <td>5</td>\n",
       "      <td>2</td>\n",
       "      <td>46.9000</td>\n",
       "      <td>0</td>\n",
       "      <td>1</td>\n",
       "      <td>0</td>\n",
       "      <td>False</td>\n",
       "    </tr>\n",
       "    <tr>\n",
       "      <th>188</th>\n",
       "      <td>3</td>\n",
       "      <td>24.0</td>\n",
       "      <td>8</td>\n",
       "      <td>2</td>\n",
       "      <td>69.5500</td>\n",
       "      <td>0</td>\n",
       "      <td>1</td>\n",
       "      <td>0</td>\n",
       "      <td>False</td>\n",
       "    </tr>\n",
       "  </tbody>\n",
       "</table>\n",
       "</div>"
      ],
      "text/plain": [
       "     Pclass   Age  SibSp  Parch      Fare  Gender  Survived  predict_survive  \\\n",
       "19        3  45.0      0      0    7.2250       0         1                0   \n",
       "68        1  31.0      0      0   28.5375       1         0                1   \n",
       "73        1  28.5      0      0   27.7208       1         0                1   \n",
       "75        1  32.5      0      0  211.5000       1         0                1   \n",
       "94        1  25.0      0      0   26.0000       1         0                1   \n",
       "298       1  30.0      0      0   45.5000       1         0                1   \n",
       "335       1  30.0      0      0   26.0000       1         0                1   \n",
       "390       1  23.0      0      0   93.5000       1         0                1   \n",
       "403       1  17.0      0      0   47.1000       1         0                1   \n",
       "23        1  21.0      0      1   61.3792       1         0                1   \n",
       "49        3  36.0      0      2   15.9000       0         1                0   \n",
       "153       3  36.0      0      2   12.1833       0         1                0   \n",
       "196       1   6.0      0      2  134.5000       1         0                1   \n",
       "1         3  47.0      1      0    7.0000       0         1                0   \n",
       "213       2  60.0      1      0   26.0000       0         1                0   \n",
       "309       3  45.0      1      0   14.1083       0         1                0   \n",
       "50        1  24.0      1      0   60.0000       1         0                1   \n",
       "252       1  27.0      1      0  136.7792       1         0                1   \n",
       "287       1  24.0      1      0   82.2667       1         0                1   \n",
       "32        3  33.0      1      2   20.5750       0         1                0   \n",
       "365       3  24.0      1      9   69.5500       0         1                0   \n",
       "127       3  24.0      2      0   23.2500       0         1                0   \n",
       "64        1  13.0      2      2  262.3750       1         0                1   \n",
       "214       3  38.0      4      2    7.7750       0         1                0   \n",
       "140       3  10.0      5      2   46.9000       0         1                0   \n",
       "188       3  24.0      8      2   69.5500       0         1                0   \n",
       "\n",
       "     comparison  \n",
       "19        False  \n",
       "68        False  \n",
       "73        False  \n",
       "75        False  \n",
       "94        False  \n",
       "298       False  \n",
       "335       False  \n",
       "390       False  \n",
       "403       False  \n",
       "23        False  \n",
       "49        False  \n",
       "153       False  \n",
       "196       False  \n",
       "1         False  \n",
       "213       False  \n",
       "309       False  \n",
       "50        False  \n",
       "252       False  \n",
       "287       False  \n",
       "32        False  \n",
       "365       False  \n",
       "127       False  \n",
       "64        False  \n",
       "214       False  \n",
       "140       False  \n",
       "188       False  "
      ]
     },
     "execution_count": 59,
     "metadata": {},
     "output_type": "execute_result"
    }
   ],
   "source": [
    "df_comp_result = x_test.iloc[index_list]\n",
    "df_comp_result = pd.concat([df_comp_result, df_validation], axis=1)\n",
    "df_comp_result.sort_values(by=['SibSp', 'Parch', 'Gender'])"
   ]
  },
  {
   "cell_type": "markdown",
   "id": "0065d6ac",
   "metadata": {
    "papermill": {
     "duration": 0.02681,
     "end_time": "2023-01-02T20:21:34.995845",
     "exception": false,
     "start_time": "2023-01-02T20:21:34.969035",
     "status": "completed"
    },
    "tags": []
   },
   "source": [
    "# Creating an Output File"
   ]
  },
  {
   "cell_type": "code",
   "execution_count": 60,
   "id": "d83c34c8",
   "metadata": {
    "execution": {
     "iopub.execute_input": "2023-01-02T20:21:35.052548Z",
     "iopub.status.busy": "2023-01-02T20:21:35.051888Z",
     "iopub.status.idle": "2023-01-02T20:21:35.057929Z",
     "shell.execute_reply": "2023-01-02T20:21:35.056051Z"
    },
    "papermill": {
     "duration": 0.038095,
     "end_time": "2023-01-02T20:21:35.061031",
     "exception": false,
     "start_time": "2023-01-02T20:21:35.022936",
     "status": "completed"
    },
    "tags": []
   },
   "outputs": [],
   "source": [
    "data = pd.DataFrame(y_predict, columns=['survived'])"
   ]
  },
  {
   "cell_type": "code",
   "execution_count": 61,
   "id": "691ad6c3",
   "metadata": {
    "execution": {
     "iopub.execute_input": "2023-01-02T20:21:35.117881Z",
     "iopub.status.busy": "2023-01-02T20:21:35.117269Z",
     "iopub.status.idle": "2023-01-02T20:21:35.138565Z",
     "shell.execute_reply": "2023-01-02T20:21:35.137367Z"
    },
    "papermill": {
     "duration": 0.053314,
     "end_time": "2023-01-02T20:21:35.141263",
     "exception": false,
     "start_time": "2023-01-02T20:21:35.087949",
     "status": "completed"
    },
    "tags": []
   },
   "outputs": [
    {
     "data": {
      "text/html": [
       "<div>\n",
       "<style scoped>\n",
       "    .dataframe tbody tr th:only-of-type {\n",
       "        vertical-align: middle;\n",
       "    }\n",
       "\n",
       "    .dataframe tbody tr th {\n",
       "        vertical-align: top;\n",
       "    }\n",
       "\n",
       "    .dataframe thead th {\n",
       "        text-align: right;\n",
       "    }\n",
       "</style>\n",
       "<table border=\"1\" class=\"dataframe\">\n",
       "  <thead>\n",
       "    <tr style=\"text-align: right;\">\n",
       "      <th></th>\n",
       "      <th>Pclass</th>\n",
       "      <th>Age</th>\n",
       "      <th>SibSp</th>\n",
       "      <th>Parch</th>\n",
       "      <th>Fare</th>\n",
       "      <th>Gender</th>\n",
       "    </tr>\n",
       "  </thead>\n",
       "  <tbody>\n",
       "    <tr>\n",
       "      <th>0</th>\n",
       "      <td>3</td>\n",
       "      <td>34.5</td>\n",
       "      <td>0</td>\n",
       "      <td>0</td>\n",
       "      <td>7.8292</td>\n",
       "      <td>1</td>\n",
       "    </tr>\n",
       "    <tr>\n",
       "      <th>1</th>\n",
       "      <td>3</td>\n",
       "      <td>47.0</td>\n",
       "      <td>1</td>\n",
       "      <td>0</td>\n",
       "      <td>7.0000</td>\n",
       "      <td>0</td>\n",
       "    </tr>\n",
       "    <tr>\n",
       "      <th>2</th>\n",
       "      <td>2</td>\n",
       "      <td>62.0</td>\n",
       "      <td>0</td>\n",
       "      <td>0</td>\n",
       "      <td>9.6875</td>\n",
       "      <td>1</td>\n",
       "    </tr>\n",
       "    <tr>\n",
       "      <th>3</th>\n",
       "      <td>3</td>\n",
       "      <td>27.0</td>\n",
       "      <td>0</td>\n",
       "      <td>0</td>\n",
       "      <td>8.6625</td>\n",
       "      <td>1</td>\n",
       "    </tr>\n",
       "    <tr>\n",
       "      <th>4</th>\n",
       "      <td>3</td>\n",
       "      <td>22.0</td>\n",
       "      <td>1</td>\n",
       "      <td>1</td>\n",
       "      <td>12.2875</td>\n",
       "      <td>0</td>\n",
       "    </tr>\n",
       "    <tr>\n",
       "      <th>...</th>\n",
       "      <td>...</td>\n",
       "      <td>...</td>\n",
       "      <td>...</td>\n",
       "      <td>...</td>\n",
       "      <td>...</td>\n",
       "      <td>...</td>\n",
       "    </tr>\n",
       "    <tr>\n",
       "      <th>413</th>\n",
       "      <td>3</td>\n",
       "      <td>24.0</td>\n",
       "      <td>0</td>\n",
       "      <td>0</td>\n",
       "      <td>8.0500</td>\n",
       "      <td>1</td>\n",
       "    </tr>\n",
       "    <tr>\n",
       "      <th>414</th>\n",
       "      <td>1</td>\n",
       "      <td>39.0</td>\n",
       "      <td>0</td>\n",
       "      <td>0</td>\n",
       "      <td>108.9000</td>\n",
       "      <td>0</td>\n",
       "    </tr>\n",
       "    <tr>\n",
       "      <th>415</th>\n",
       "      <td>3</td>\n",
       "      <td>38.5</td>\n",
       "      <td>0</td>\n",
       "      <td>0</td>\n",
       "      <td>7.2500</td>\n",
       "      <td>1</td>\n",
       "    </tr>\n",
       "    <tr>\n",
       "      <th>416</th>\n",
       "      <td>3</td>\n",
       "      <td>24.0</td>\n",
       "      <td>0</td>\n",
       "      <td>0</td>\n",
       "      <td>8.0500</td>\n",
       "      <td>1</td>\n",
       "    </tr>\n",
       "    <tr>\n",
       "      <th>417</th>\n",
       "      <td>3</td>\n",
       "      <td>24.0</td>\n",
       "      <td>1</td>\n",
       "      <td>1</td>\n",
       "      <td>22.3583</td>\n",
       "      <td>1</td>\n",
       "    </tr>\n",
       "  </tbody>\n",
       "</table>\n",
       "<p>418 rows × 6 columns</p>\n",
       "</div>"
      ],
      "text/plain": [
       "     Pclass   Age  SibSp  Parch      Fare  Gender\n",
       "0         3  34.5      0      0    7.8292       1\n",
       "1         3  47.0      1      0    7.0000       0\n",
       "2         2  62.0      0      0    9.6875       1\n",
       "3         3  27.0      0      0    8.6625       1\n",
       "4         3  22.0      1      1   12.2875       0\n",
       "..      ...   ...    ...    ...       ...     ...\n",
       "413       3  24.0      0      0    8.0500       1\n",
       "414       1  39.0      0      0  108.9000       0\n",
       "415       3  38.5      0      0    7.2500       1\n",
       "416       3  24.0      0      0    8.0500       1\n",
       "417       3  24.0      1      1   22.3583       1\n",
       "\n",
       "[418 rows x 6 columns]"
      ]
     },
     "execution_count": 61,
     "metadata": {},
     "output_type": "execute_result"
    }
   ],
   "source": [
    "x_test"
   ]
  },
  {
   "cell_type": "code",
   "execution_count": 62,
   "id": "c535a664",
   "metadata": {
    "execution": {
     "iopub.execute_input": "2023-01-02T20:21:35.200125Z",
     "iopub.status.busy": "2023-01-02T20:21:35.199547Z",
     "iopub.status.idle": "2023-01-02T20:21:35.208075Z",
     "shell.execute_reply": "2023-01-02T20:21:35.206870Z"
    },
    "papermill": {
     "duration": 0.041134,
     "end_time": "2023-01-02T20:21:35.210673",
     "exception": false,
     "start_time": "2023-01-02T20:21:35.169539",
     "status": "completed"
    },
    "tags": []
   },
   "outputs": [
    {
     "data": {
      "text/plain": [
       "array([0, 0, 0, 0, 1, 0, 1, 0, 1, 0, 0, 0, 1, 0, 1, 1, 0, 0, 1, 0, 0, 0,\n",
       "       1, 1, 1, 0, 1, 0, 0, 0, 0, 0, 0, 1, 0, 0, 1, 1, 0, 0, 0, 0, 0, 1,\n",
       "       1, 0, 0, 0, 1, 0, 1, 0, 1, 1, 0, 0, 0, 0, 0, 1, 0, 0, 0, 1, 1, 1,\n",
       "       1, 0, 1, 1, 1, 0, 1, 1, 1, 1, 0, 1, 0, 1, 0, 0, 0, 0, 0, 0, 1, 1,\n",
       "       1, 0, 1, 0, 1, 0, 1, 0, 1, 0, 1, 0, 1, 0, 0, 0, 1, 0, 0, 0, 0, 0,\n",
       "       0, 1, 1, 1, 1, 0, 0, 1, 0, 1, 1, 0, 1, 0, 0, 1, 0, 0, 0, 0, 0, 0,\n",
       "       1, 0, 0, 0, 0, 0, 1, 0, 0, 1, 0, 0, 0, 0, 0, 0, 0, 0, 1, 0, 0, 0,\n",
       "       0, 0, 1, 1, 0, 1, 1, 0, 1, 0, 0, 1, 0, 0, 1, 1, 0, 0, 0, 0, 0, 1,\n",
       "       1, 0, 1, 1, 0, 0, 1, 0, 1, 0, 1, 0, 0, 0, 0, 0, 0, 0, 0, 0, 1, 1,\n",
       "       0, 1, 1, 0, 0, 1, 0, 0, 1, 0, 1, 0, 0, 0, 0, 0, 0, 0, 1, 0, 1, 0,\n",
       "       1, 0, 1, 0, 1, 1, 0, 1, 0, 0, 0, 1, 0, 0, 0, 0, 0, 0, 1, 1, 1, 1,\n",
       "       0, 0, 0, 0, 1, 0, 1, 1, 1, 0, 1, 0, 0, 0, 0, 0, 1, 0, 0, 0, 1, 1,\n",
       "       0, 0, 0, 0, 1, 0, 0, 0, 1, 1, 0, 1, 0, 0, 0, 0, 1, 0, 1, 1, 1, 0,\n",
       "       0, 1, 0, 0, 0, 1, 0, 0, 0, 0, 1, 0, 1, 0, 0, 0, 0, 0, 1, 1, 0, 0,\n",
       "       0, 0, 0, 0, 0, 1, 1, 1, 0, 0, 0, 0, 0, 0, 0, 0, 1, 0, 1, 0, 0, 0,\n",
       "       1, 0, 0, 1, 0, 1, 0, 0, 0, 0, 0, 0, 0, 1, 0, 1, 0, 1, 0, 1, 1, 0,\n",
       "       0, 0, 1, 0, 1, 0, 0, 1, 0, 1, 1, 0, 1, 0, 0, 1, 1, 0, 0, 1, 0, 0,\n",
       "       1, 1, 1, 0, 0, 0, 0, 0, 1, 1, 0, 1, 0, 0, 0, 0, 1, 1, 0, 0, 0, 1,\n",
       "       0, 1, 0, 0, 1, 0, 1, 1, 0, 0, 0, 0, 1, 1, 1, 1, 1, 0, 1, 0, 0, 0])"
      ]
     },
     "execution_count": 62,
     "metadata": {},
     "output_type": "execute_result"
    }
   ],
   "source": [
    "y_predict"
   ]
  },
  {
   "cell_type": "code",
   "execution_count": 63,
   "id": "bc6fcd15",
   "metadata": {
    "execution": {
     "iopub.execute_input": "2023-01-02T20:21:35.269119Z",
     "iopub.status.busy": "2023-01-02T20:21:35.268673Z",
     "iopub.status.idle": "2023-01-02T20:21:35.274723Z",
     "shell.execute_reply": "2023-01-02T20:21:35.273144Z"
    },
    "papermill": {
     "duration": 0.036931,
     "end_time": "2023-01-02T20:21:35.277088",
     "exception": false,
     "start_time": "2023-01-02T20:21:35.240157",
     "status": "completed"
    },
    "tags": []
   },
   "outputs": [],
   "source": [
    "data2 = df_test.PassengerId"
   ]
  },
  {
   "cell_type": "code",
   "execution_count": 64,
   "id": "3a90584e",
   "metadata": {
    "execution": {
     "iopub.execute_input": "2023-01-02T20:21:35.333633Z",
     "iopub.status.busy": "2023-01-02T20:21:35.333222Z",
     "iopub.status.idle": "2023-01-02T20:21:35.349342Z",
     "shell.execute_reply": "2023-01-02T20:21:35.347642Z"
    },
    "papermill": {
     "duration": 0.048899,
     "end_time": "2023-01-02T20:21:35.353540",
     "exception": false,
     "start_time": "2023-01-02T20:21:35.304641",
     "status": "completed"
    },
    "tags": []
   },
   "outputs": [
    {
     "data": {
      "text/html": [
       "<div>\n",
       "<style scoped>\n",
       "    .dataframe tbody tr th:only-of-type {\n",
       "        vertical-align: middle;\n",
       "    }\n",
       "\n",
       "    .dataframe tbody tr th {\n",
       "        vertical-align: top;\n",
       "    }\n",
       "\n",
       "    .dataframe thead th {\n",
       "        text-align: right;\n",
       "    }\n",
       "</style>\n",
       "<table border=\"1\" class=\"dataframe\">\n",
       "  <thead>\n",
       "    <tr style=\"text-align: right;\">\n",
       "      <th></th>\n",
       "      <th>PassengerId</th>\n",
       "      <th>survived</th>\n",
       "    </tr>\n",
       "  </thead>\n",
       "  <tbody>\n",
       "    <tr>\n",
       "      <th>0</th>\n",
       "      <td>892</td>\n",
       "      <td>0</td>\n",
       "    </tr>\n",
       "    <tr>\n",
       "      <th>1</th>\n",
       "      <td>893</td>\n",
       "      <td>0</td>\n",
       "    </tr>\n",
       "    <tr>\n",
       "      <th>2</th>\n",
       "      <td>894</td>\n",
       "      <td>0</td>\n",
       "    </tr>\n",
       "    <tr>\n",
       "      <th>3</th>\n",
       "      <td>895</td>\n",
       "      <td>0</td>\n",
       "    </tr>\n",
       "    <tr>\n",
       "      <th>4</th>\n",
       "      <td>896</td>\n",
       "      <td>1</td>\n",
       "    </tr>\n",
       "    <tr>\n",
       "      <th>...</th>\n",
       "      <td>...</td>\n",
       "      <td>...</td>\n",
       "    </tr>\n",
       "    <tr>\n",
       "      <th>413</th>\n",
       "      <td>1305</td>\n",
       "      <td>0</td>\n",
       "    </tr>\n",
       "    <tr>\n",
       "      <th>414</th>\n",
       "      <td>1306</td>\n",
       "      <td>1</td>\n",
       "    </tr>\n",
       "    <tr>\n",
       "      <th>415</th>\n",
       "      <td>1307</td>\n",
       "      <td>0</td>\n",
       "    </tr>\n",
       "    <tr>\n",
       "      <th>416</th>\n",
       "      <td>1308</td>\n",
       "      <td>0</td>\n",
       "    </tr>\n",
       "    <tr>\n",
       "      <th>417</th>\n",
       "      <td>1309</td>\n",
       "      <td>0</td>\n",
       "    </tr>\n",
       "  </tbody>\n",
       "</table>\n",
       "<p>418 rows × 2 columns</p>\n",
       "</div>"
      ],
      "text/plain": [
       "     PassengerId  survived\n",
       "0            892         0\n",
       "1            893         0\n",
       "2            894         0\n",
       "3            895         0\n",
       "4            896         1\n",
       "..           ...       ...\n",
       "413         1305         0\n",
       "414         1306         1\n",
       "415         1307         0\n",
       "416         1308         0\n",
       "417         1309         0\n",
       "\n",
       "[418 rows x 2 columns]"
      ]
     },
     "execution_count": 64,
     "metadata": {},
     "output_type": "execute_result"
    }
   ],
   "source": [
    "result = pd.concat([data2, data],axis=1)\n",
    "result"
   ]
  },
  {
   "cell_type": "code",
   "execution_count": 65,
   "id": "429e93e0",
   "metadata": {
    "execution": {
     "iopub.execute_input": "2023-01-02T20:21:35.417351Z",
     "iopub.status.busy": "2023-01-02T20:21:35.416348Z",
     "iopub.status.idle": "2023-01-02T20:21:35.427217Z",
     "shell.execute_reply": "2023-01-02T20:21:35.425937Z"
    },
    "papermill": {
     "duration": 0.045174,
     "end_time": "2023-01-02T20:21:35.429864",
     "exception": false,
     "start_time": "2023-01-02T20:21:35.384690",
     "status": "completed"
    },
    "tags": []
   },
   "outputs": [],
   "source": [
    "result.to_csv('kaggle_titanic_2.csv',index=False)"
   ]
  }
 ],
 "metadata": {
  "kernelspec": {
   "display_name": "Python 3",
   "language": "python",
   "name": "python3"
  },
  "language_info": {
   "codemirror_mode": {
    "name": "ipython",
    "version": 3
   },
   "file_extension": ".py",
   "mimetype": "text/x-python",
   "name": "python",
   "nbconvert_exporter": "python",
   "pygments_lexer": "ipython3",
   "version": "3.7.12"
  },
  "papermill": {
   "default_parameters": {},
   "duration": 17.835196,
   "end_time": "2023-01-02T20:21:36.283397",
   "environment_variables": {},
   "exception": null,
   "input_path": "__notebook__.ipynb",
   "output_path": "__notebook__.ipynb",
   "parameters": {},
   "start_time": "2023-01-02T20:21:18.448201",
   "version": "2.3.4"
  }
 },
 "nbformat": 4,
 "nbformat_minor": 5
}
